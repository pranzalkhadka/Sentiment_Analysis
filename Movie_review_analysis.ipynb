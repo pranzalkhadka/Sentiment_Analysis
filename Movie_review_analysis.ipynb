{
  "nbformat": 4,
  "nbformat_minor": 0,
  "metadata": {
    "colab": {
      "provenance": []
    },
    "kernelspec": {
      "name": "python3",
      "display_name": "Python 3"
    },
    "language_info": {
      "name": "python"
    }
  },
  "cells": [
    {
      "cell_type": "code",
      "execution_count": 1,
      "metadata": {
        "colab": {
          "base_uri": "https://localhost:8080/"
        },
        "id": "gvDUeDdEWqKK",
        "outputId": "8908a987-0f37-467d-cb0a-7bfec0408d8e"
      },
      "outputs": [
        {
          "output_type": "stream",
          "name": "stdout",
          "text": [
            "Mounted at /content/drive\n"
          ]
        }
      ],
      "source": [
        "from google.colab import drive\n",
        "drive.mount('/content/drive')"
      ]
    },
    {
      "cell_type": "markdown",
      "source": [
        "Mounted google drive to colab for importing data"
      ],
      "metadata": {
        "id": "MmWF8-tzlC-_"
      }
    },
    {
      "cell_type": "code",
      "source": [
        "import pandas as pd\n",
        "import numpy as np"
      ],
      "metadata": {
        "id": "0L4bZ_AmXje1"
      },
      "execution_count": 2,
      "outputs": []
    },
    {
      "cell_type": "code",
      "source": [
        "movie_data = pd.read_csv(\"/content/drive/MyDrive/a1_IMDB_Dataset.csv\")"
      ],
      "metadata": {
        "id": "neM48B82XUGX"
      },
      "execution_count": 3,
      "outputs": []
    },
    {
      "cell_type": "code",
      "source": [
        "movie_data.head(3)"
      ],
      "metadata": {
        "colab": {
          "base_uri": "https://localhost:8080/",
          "height": 143
        },
        "id": "0qlLupmJXvb2",
        "outputId": "765514de-71a4-49e3-8ee3-ce0c032edb59"
      },
      "execution_count": 4,
      "outputs": [
        {
          "output_type": "execute_result",
          "data": {
            "text/plain": [
              "                                              review sentiment\n",
              "0  One of the other reviewers has mentioned that ...  positive\n",
              "1  A wonderful little production. <br /><br />The...  positive\n",
              "2  I thought this was a wonderful way to spend ti...  positive"
            ],
            "text/html": [
              "\n",
              "  <div id=\"df-dc2b2283-88b4-449c-ac5b-0a0cc71ccbda\">\n",
              "    <div class=\"colab-df-container\">\n",
              "      <div>\n",
              "<style scoped>\n",
              "    .dataframe tbody tr th:only-of-type {\n",
              "        vertical-align: middle;\n",
              "    }\n",
              "\n",
              "    .dataframe tbody tr th {\n",
              "        vertical-align: top;\n",
              "    }\n",
              "\n",
              "    .dataframe thead th {\n",
              "        text-align: right;\n",
              "    }\n",
              "</style>\n",
              "<table border=\"1\" class=\"dataframe\">\n",
              "  <thead>\n",
              "    <tr style=\"text-align: right;\">\n",
              "      <th></th>\n",
              "      <th>review</th>\n",
              "      <th>sentiment</th>\n",
              "    </tr>\n",
              "  </thead>\n",
              "  <tbody>\n",
              "    <tr>\n",
              "      <th>0</th>\n",
              "      <td>One of the other reviewers has mentioned that ...</td>\n",
              "      <td>positive</td>\n",
              "    </tr>\n",
              "    <tr>\n",
              "      <th>1</th>\n",
              "      <td>A wonderful little production. &lt;br /&gt;&lt;br /&gt;The...</td>\n",
              "      <td>positive</td>\n",
              "    </tr>\n",
              "    <tr>\n",
              "      <th>2</th>\n",
              "      <td>I thought this was a wonderful way to spend ti...</td>\n",
              "      <td>positive</td>\n",
              "    </tr>\n",
              "  </tbody>\n",
              "</table>\n",
              "</div>\n",
              "      <button class=\"colab-df-convert\" onclick=\"convertToInteractive('df-dc2b2283-88b4-449c-ac5b-0a0cc71ccbda')\"\n",
              "              title=\"Convert this dataframe to an interactive table.\"\n",
              "              style=\"display:none;\">\n",
              "        \n",
              "  <svg xmlns=\"http://www.w3.org/2000/svg\" height=\"24px\"viewBox=\"0 0 24 24\"\n",
              "       width=\"24px\">\n",
              "    <path d=\"M0 0h24v24H0V0z\" fill=\"none\"/>\n",
              "    <path d=\"M18.56 5.44l.94 2.06.94-2.06 2.06-.94-2.06-.94-.94-2.06-.94 2.06-2.06.94zm-11 1L8.5 8.5l.94-2.06 2.06-.94-2.06-.94L8.5 2.5l-.94 2.06-2.06.94zm10 10l.94 2.06.94-2.06 2.06-.94-2.06-.94-.94-2.06-.94 2.06-2.06.94z\"/><path d=\"M17.41 7.96l-1.37-1.37c-.4-.4-.92-.59-1.43-.59-.52 0-1.04.2-1.43.59L10.3 9.45l-7.72 7.72c-.78.78-.78 2.05 0 2.83L4 21.41c.39.39.9.59 1.41.59.51 0 1.02-.2 1.41-.59l7.78-7.78 2.81-2.81c.8-.78.8-2.07 0-2.86zM5.41 20L4 18.59l7.72-7.72 1.47 1.35L5.41 20z\"/>\n",
              "  </svg>\n",
              "      </button>\n",
              "      \n",
              "  <style>\n",
              "    .colab-df-container {\n",
              "      display:flex;\n",
              "      flex-wrap:wrap;\n",
              "      gap: 12px;\n",
              "    }\n",
              "\n",
              "    .colab-df-convert {\n",
              "      background-color: #E8F0FE;\n",
              "      border: none;\n",
              "      border-radius: 50%;\n",
              "      cursor: pointer;\n",
              "      display: none;\n",
              "      fill: #1967D2;\n",
              "      height: 32px;\n",
              "      padding: 0 0 0 0;\n",
              "      width: 32px;\n",
              "    }\n",
              "\n",
              "    .colab-df-convert:hover {\n",
              "      background-color: #E2EBFA;\n",
              "      box-shadow: 0px 1px 2px rgba(60, 64, 67, 0.3), 0px 1px 3px 1px rgba(60, 64, 67, 0.15);\n",
              "      fill: #174EA6;\n",
              "    }\n",
              "\n",
              "    [theme=dark] .colab-df-convert {\n",
              "      background-color: #3B4455;\n",
              "      fill: #D2E3FC;\n",
              "    }\n",
              "\n",
              "    [theme=dark] .colab-df-convert:hover {\n",
              "      background-color: #434B5C;\n",
              "      box-shadow: 0px 1px 3px 1px rgba(0, 0, 0, 0.15);\n",
              "      filter: drop-shadow(0px 1px 2px rgba(0, 0, 0, 0.3));\n",
              "      fill: #FFFFFF;\n",
              "    }\n",
              "  </style>\n",
              "\n",
              "      <script>\n",
              "        const buttonEl =\n",
              "          document.querySelector('#df-dc2b2283-88b4-449c-ac5b-0a0cc71ccbda button.colab-df-convert');\n",
              "        buttonEl.style.display =\n",
              "          google.colab.kernel.accessAllowed ? 'block' : 'none';\n",
              "\n",
              "        async function convertToInteractive(key) {\n",
              "          const element = document.querySelector('#df-dc2b2283-88b4-449c-ac5b-0a0cc71ccbda');\n",
              "          const dataTable =\n",
              "            await google.colab.kernel.invokeFunction('convertToInteractive',\n",
              "                                                     [key], {});\n",
              "          if (!dataTable) return;\n",
              "\n",
              "          const docLinkHtml = 'Like what you see? Visit the ' +\n",
              "            '<a target=\"_blank\" href=https://colab.research.google.com/notebooks/data_table.ipynb>data table notebook</a>'\n",
              "            + ' to learn more about interactive tables.';\n",
              "          element.innerHTML = '';\n",
              "          dataTable['output_type'] = 'display_data';\n",
              "          await google.colab.output.renderOutput(dataTable, element);\n",
              "          const docLink = document.createElement('div');\n",
              "          docLink.innerHTML = docLinkHtml;\n",
              "          element.appendChild(docLink);\n",
              "        }\n",
              "      </script>\n",
              "    </div>\n",
              "  </div>\n",
              "  "
            ]
          },
          "metadata": {},
          "execution_count": 4
        }
      ]
    },
    {
      "cell_type": "code",
      "source": [
        "movie_data.info"
      ],
      "metadata": {
        "colab": {
          "base_uri": "https://localhost:8080/"
        },
        "id": "C6mRiBqiXydm",
        "outputId": "3672de84-ec0c-42f1-a64b-e732c26390e8"
      },
      "execution_count": 5,
      "outputs": [
        {
          "output_type": "execute_result",
          "data": {
            "text/plain": [
              "<bound method DataFrame.info of                                                   review sentiment\n",
              "0      One of the other reviewers has mentioned that ...  positive\n",
              "1      A wonderful little production. <br /><br />The...  positive\n",
              "2      I thought this was a wonderful way to spend ti...  positive\n",
              "3      Basically there's a family where a little boy ...  negative\n",
              "4      Petter Mattei's \"Love in the Time of Money\" is...  positive\n",
              "...                                                  ...       ...\n",
              "49995  I thought this movie did a down right good job...  positive\n",
              "49996  Bad plot, bad dialogue, bad acting, idiotic di...  negative\n",
              "49997  I am a Catholic taught in parochial elementary...  negative\n",
              "49998  I'm going to have to disagree with the previou...  negative\n",
              "49999  No one expects the Star Trek movies to be high...  negative\n",
              "\n",
              "[50000 rows x 2 columns]>"
            ]
          },
          "metadata": {},
          "execution_count": 5
        }
      ]
    },
    {
      "cell_type": "code",
      "source": [
        "movie_data.shape"
      ],
      "metadata": {
        "colab": {
          "base_uri": "https://localhost:8080/"
        },
        "id": "sxCSAZp-X1VW",
        "outputId": "183990f0-ab39-4d86-83d9-f9d897706734"
      },
      "execution_count": 6,
      "outputs": [
        {
          "output_type": "execute_result",
          "data": {
            "text/plain": [
              "(50000, 2)"
            ]
          },
          "metadata": {},
          "execution_count": 6
        }
      ]
    },
    {
      "cell_type": "markdown",
      "source": [
        "So there are 50000 rows corresponding to 50000 reviews and 2 columns which are review and sentiment "
      ],
      "metadata": {
        "id": "Q9q7OxW2lWZ3"
      }
    },
    {
      "cell_type": "code",
      "source": [
        "movie_data.isnull().values.any()"
      ],
      "metadata": {
        "colab": {
          "base_uri": "https://localhost:8080/"
        },
        "id": "gLOACHIDX4qa",
        "outputId": "35fad213-a07b-4852-8a63-be1d5f5b5ad1"
      },
      "execution_count": 7,
      "outputs": [
        {
          "output_type": "execute_result",
          "data": {
            "text/plain": [
              "False"
            ]
          },
          "metadata": {},
          "execution_count": 7
        }
      ]
    },
    {
      "cell_type": "markdown",
      "source": [
        "No missing data is found"
      ],
      "metadata": {
        "id": "xaS5YhQ2lpAj"
      }
    },
    {
      "cell_type": "code",
      "source": [
        "movie_data.columns"
      ],
      "metadata": {
        "colab": {
          "base_uri": "https://localhost:8080/"
        },
        "id": "85XsNpIsYgYt",
        "outputId": "9df51822-5bc4-42aa-f91f-9b6ac9c58423"
      },
      "execution_count": 8,
      "outputs": [
        {
          "output_type": "execute_result",
          "data": {
            "text/plain": [
              "Index(['review', 'sentiment'], dtype='object')"
            ]
          },
          "metadata": {},
          "execution_count": 8
        }
      ]
    },
    {
      "cell_type": "code",
      "source": [
        "movie_data[\"sentiment\"].value_counts()"
      ],
      "metadata": {
        "colab": {
          "base_uri": "https://localhost:8080/"
        },
        "id": "tuwmeG5CY84V",
        "outputId": "74acab0d-6021-4187-c73d-9b692578bebe"
      },
      "execution_count": 9,
      "outputs": [
        {
          "output_type": "execute_result",
          "data": {
            "text/plain": [
              "positive    25000\n",
              "negative    25000\n",
              "Name: sentiment, dtype: int64"
            ]
          },
          "metadata": {},
          "execution_count": 9
        }
      ]
    },
    {
      "cell_type": "markdown",
      "source": [
        "So there are 25000 datapoints for each class . Hence the data is balanced."
      ],
      "metadata": {
        "id": "pbPGi4qqlv45"
      }
    },
    {
      "cell_type": "code",
      "source": [
        "movie_data.duplicated().values.any()"
      ],
      "metadata": {
        "colab": {
          "base_uri": "https://localhost:8080/"
        },
        "id": "QqPRUMrxZGS4",
        "outputId": "2f09c4bd-8d16-4ce3-e227-f13d08314aa0"
      },
      "execution_count": 10,
      "outputs": [
        {
          "output_type": "execute_result",
          "data": {
            "text/plain": [
              "True"
            ]
          },
          "metadata": {},
          "execution_count": 10
        }
      ]
    },
    {
      "cell_type": "code",
      "source": [
        "movie_data.drop_duplicates(inplace=True)"
      ],
      "metadata": {
        "id": "R4s4Ld82Zlk9"
      },
      "execution_count": 11,
      "outputs": []
    },
    {
      "cell_type": "code",
      "source": [
        "movie_data.duplicated().values.any()"
      ],
      "metadata": {
        "colab": {
          "base_uri": "https://localhost:8080/"
        },
        "id": "MUSqE_4BZwJR",
        "outputId": "69e4fa3b-1f31-4fc6-c785-4b11dc8470b6"
      },
      "execution_count": 12,
      "outputs": [
        {
          "output_type": "execute_result",
          "data": {
            "text/plain": [
              "False"
            ]
          },
          "metadata": {},
          "execution_count": 12
        }
      ]
    },
    {
      "cell_type": "markdown",
      "source": [
        "Removed the duplicate datas"
      ],
      "metadata": {
        "id": "fHcO5531l_ue"
      }
    },
    {
      "cell_type": "code",
      "source": [
        "movie_data[\"review\"][0]"
      ],
      "metadata": {
        "colab": {
          "base_uri": "https://localhost:8080/",
          "height": 140
        },
        "id": "RMxEHkscZxtn",
        "outputId": "2e9dbd59-a962-46cd-9434-4d79c2a53110"
      },
      "execution_count": 13,
      "outputs": [
        {
          "output_type": "execute_result",
          "data": {
            "text/plain": [
              "\"One of the other reviewers has mentioned that after watching just 1 Oz episode you'll be hooked. They are right, as this is exactly what happened with me.<br /><br />The first thing that struck me about Oz was its brutality and unflinching scenes of violence, which set in right from the word GO. Trust me, this is not a show for the faint hearted or timid. This show pulls no punches with regards to drugs, sex or violence. Its is hardcore, in the classic use of the word.<br /><br />It is called OZ as that is the nickname given to the Oswald Maximum Security State Penitentary. It focuses mainly on Emerald City, an experimental section of the prison where all the cells have glass fronts and face inwards, so privacy is not high on the agenda. Em City is home to many..Aryans, Muslims, gangstas, Latinos, Christians, Italians, Irish and more....so scuffles, death stares, dodgy dealings and shady agreements are never far away.<br /><br />I would say the main appeal of the show is due to the fact that it goes where other shows wouldn't dare. Forget pretty pictures painted for mainstream audiences, forget charm, forget romance...OZ doesn't mess around. The first episode I ever saw struck me as so nasty it was surreal, I couldn't say I was ready for it, but as I watched more, I developed a taste for Oz, and got accustomed to the high levels of graphic violence. Not just violence, but injustice (crooked guards who'll be sold out for a nickel, inmates who'll kill on order and get away with it, well mannered, middle class inmates being turned into prison bitches due to their lack of street skills or prison experience) Watching Oz, you may become comfortable with what is uncomfortable viewing....thats if you can get in touch with your darker side.\""
            ],
            "application/vnd.google.colaboratory.intrinsic+json": {
              "type": "string"
            }
          },
          "metadata": {},
          "execution_count": 13
        }
      ]
    },
    {
      "cell_type": "markdown",
      "source": [
        "A sample data from the movie_review dataset shows html tags, apostrophe. These things do not provide any semantic meaning for the algorithm to learn . So, it is better to remove them ."
      ],
      "metadata": {
        "id": "zXuAKmYGmE4j"
      }
    },
    {
      "cell_type": "code",
      "source": [
        "import os\n",
        "import re"
      ],
      "metadata": {
        "id": "Ng373mg4aHQY"
      },
      "execution_count": 14,
      "outputs": []
    },
    {
      "cell_type": "code",
      "source": [
        "html_tag_remover = re.compile(r'<[^>]+>')\n",
        "\n",
        "def remove_tags(text):\n",
        "  return html_tag_remover.sub('', text)"
      ],
      "metadata": {
        "id": "TK1Xj-fzZ1JA"
      },
      "execution_count": 16,
      "outputs": []
    },
    {
      "cell_type": "markdown",
      "source": [
        "The remove_tags function detects anything opening with < and closing with > and replaces with empty space"
      ],
      "metadata": {
        "id": "ars_AJhBmqsa"
      }
    },
    {
      "cell_type": "code",
      "source": [
        "import nltk\n",
        "nltk.download('stopwords')"
      ],
      "metadata": {
        "colab": {
          "base_uri": "https://localhost:8080/"
        },
        "id": "QN8Kc6IYaNZC",
        "outputId": "85c7d641-da92-4fda-ccae-c7585b023c19"
      },
      "execution_count": 17,
      "outputs": [
        {
          "output_type": "stream",
          "name": "stderr",
          "text": [
            "[nltk_data] Downloading package stopwords to /root/nltk_data...\n",
            "[nltk_data]   Unzipping corpora/stopwords.zip.\n"
          ]
        },
        {
          "output_type": "execute_result",
          "data": {
            "text/plain": [
              "True"
            ]
          },
          "metadata": {},
          "execution_count": 17
        }
      ]
    },
    {
      "cell_type": "code",
      "source": [
        "from nltk.corpus import stopwords"
      ],
      "metadata": {
        "id": "BWxbV2VRbIy3"
      },
      "execution_count": 18,
      "outputs": []
    },
    {
      "cell_type": "code",
      "source": [
        "def preprocess_text(sen):\n",
        "  sentence = sen.lower()\n",
        "  #Converted all texts to lower case\n",
        "\n",
        "  sentence = remove_tags(sentence)\n",
        "  #Removed html tags\n",
        "\n",
        "  sentence = re.sub('[^a-zA-Z]', ' ', sentence)\n",
        "  #Removed punctuations and numbers\n",
        "\n",
        "  sentence = re.sub(r\"\\s+[a-zA-Z]\\s+\", ' ', sentence) \n",
        "  #Removed apostrophe\n",
        "\n",
        "  sentence = re.sub(r'\\s+', ' ', sentence)\n",
        "  #Removed the extra spaces from the text\n",
        "\n",
        "  pattern = re.compile(r'\\b(' + r'|'.join(stopwords.words('english')) + r')\\b\\s*')\n",
        "  sentence = pattern.sub('', sentence)\n",
        "  #Removed Stopwords\n",
        "\n",
        "  return sentence"
      ],
      "metadata": {
        "id": "I3NOSXmIaQqm"
      },
      "execution_count": 19,
      "outputs": []
    },
    {
      "cell_type": "code",
      "source": [
        "Preprocessed_data = [ ]\n",
        "sentences = list(movie_data['review'])\n",
        "for i in sentences:\n",
        "  Preprocessed_data.append(preprocess_text(i))"
      ],
      "metadata": {
        "id": "RuDydCHHah57"
      },
      "execution_count": 20,
      "outputs": []
    },
    {
      "cell_type": "markdown",
      "source": [
        "Finally applied our preprocessing function on our movie dataset"
      ],
      "metadata": {
        "id": "4rK5Dr7XoZr0"
      }
    },
    {
      "cell_type": "code",
      "source": [
        "Preprocessed_data[0]"
      ],
      "metadata": {
        "colab": {
          "base_uri": "https://localhost:8080/",
          "height": 140
        },
        "id": "YoG75BcKaovx",
        "outputId": "deb354b8-65d0-445f-d348-b1bfc32e24c5"
      },
      "execution_count": 22,
      "outputs": [
        {
          "output_type": "execute_result",
          "data": {
            "text/plain": [
              "'one reviewers mentioned watching oz episode hooked right exactly happened first thing struck oz brutality unflinching scenes violence set right word go trust show faint hearted timid show pulls punches regards drugs sex violence hardcore classic use word called oz nickname given oswald maximum security state penitentary focuses mainly emerald city experimental section prison cells glass fronts face inwards privacy high agenda em city home many aryans muslims gangstas latinos christians italians irish scuffles death stares dodgy dealings shady agreements never far away would say main appeal show due fact goes shows dare forget pretty pictures painted mainstream audiences forget charm forget romance oz mess around first episode ever saw struck nasty surreal say ready watched developed taste oz got accustomed high levels graphic violence violence injustice crooked guards sold nickel inmates kill order get away well mannered middle class inmates turned prison bitches due lack street skills prison experience watching oz may become comfortable uncomfortable viewing thats get touch darker side '"
            ],
            "application/vnd.google.colaboratory.intrinsic+json": {
              "type": "string"
            }
          },
          "metadata": {},
          "execution_count": 22
        }
      ]
    },
    {
      "cell_type": "code",
      "source": [
        "y = movie_data['sentiment']\n",
        "\n",
        "labels = np.array(list(map(lambda x: 1 if x==\"positive\" else 0, y)))"
      ],
      "metadata": {
        "id": "YzwDo85Pi-Xm"
      },
      "execution_count": 23,
      "outputs": []
    },
    {
      "cell_type": "markdown",
      "source": [
        "Converted the class labels to 0 and 1"
      ],
      "metadata": {
        "id": "At_wH9jcqLyz"
      }
    },
    {
      "cell_type": "code",
      "source": [
        "from sklearn.model_selection import train_test_split"
      ],
      "metadata": {
        "id": "9VjD_pblqT1m"
      },
      "execution_count": 24,
      "outputs": []
    },
    {
      "cell_type": "code",
      "source": [
        "X_train, X_test, y_train, y_test = train_test_split(Preprocessed_data, labels, test_size=0.20, random_state=42)"
      ],
      "metadata": {
        "id": "35xZ_0wkqK3u"
      },
      "execution_count": 25,
      "outputs": []
    },
    {
      "cell_type": "markdown",
      "source": [
        "Finally, splitted the data into train and test with 80% of data going to the train set and rest to the test set"
      ],
      "metadata": {
        "id": "6MhsNKy5qrOn"
      }
    },
    {
      "cell_type": "code",
      "source": [
        "from keras.preprocessing.text import Tokenizer"
      ],
      "metadata": {
        "id": "PsEEgRvMqqOB"
      },
      "execution_count": 39,
      "outputs": []
    },
    {
      "cell_type": "code",
      "source": [
        "word_tokenizer = Tokenizer()\n",
        "word_tokenizer.fit_on_texts(X_train)"
      ],
      "metadata": {
        "id": "1ZG-mCDjrm4e"
      },
      "execution_count": 28,
      "outputs": []
    },
    {
      "cell_type": "code",
      "source": [
        "X_train = word_tokenizer.texts_to_sequences(X_train)\n",
        "X_test = word_tokenizer.texts_to_sequences(X_test)"
      ],
      "metadata": {
        "id": "TTdI_4cQrvty"
      },
      "execution_count": 29,
      "outputs": []
    },
    {
      "cell_type": "code",
      "source": [
        "print(X_train[:10])"
      ],
      "metadata": {
        "colab": {
          "base_uri": "https://localhost:8080/"
        },
        "id": "RWrViRWDr4FQ",
        "outputId": "c71ab43f-73cc-40d5-e4e6-9449e3cac0db"
      },
      "execution_count": 31,
      "outputs": [
        {
          "output_type": "stream",
          "name": "stdout",
          "text": [
            "[[11, 308, 1, 27829, 70, 7539, 55, 4, 425, 225, 197, 199, 4443, 35496, 464, 1, 14, 4, 1140, 5983, 1024, 7691, 313, 737, 287, 7, 39, 205, 48, 1292, 248, 106, 2588, 1, 4, 115, 61, 1769, 159, 45666, 61, 1822, 884, 17, 237, 23, 1114, 27829, 70, 7539, 76, 61, 884, 35496, 5675, 1, 231, 231, 97], [715, 28, 1, 3056, 6086, 1, 42, 693, 345, 143, 1, 545, 523, 434, 131, 270, 2975, 605, 1, 66, 254, 569, 73, 6, 1746, 434, 809, 466, 6755, 1, 8, 95, 865, 46, 1430, 64, 203, 12, 4, 125, 46, 1879, 1125, 10, 56530, 4313, 12979, 52, 10, 1131, 5230, 321, 1, 11, 1077, 66, 70, 80, 382, 83, 2976, 4060, 2517], [141, 48, 69, 624, 5984, 2, 22, 103, 983, 14807, 5331, 2650, 2349, 479, 2, 111, 2962, 169, 613, 724, 5942, 3350, 5298, 2476, 36, 2527, 20, 624, 5984, 401, 1061, 199, 3711, 5265, 1244, 15178, 12476, 3711, 1242, 1307, 52, 608, 1, 3, 175, 34, 3226, 2223, 5985, 356, 7273, 606, 37, 205, 5265, 1254, 220, 4015, 959, 472, 12, 415, 1613, 5038, 1573, 15576, 6251, 13512, 7201, 784, 6203, 7273, 63, 10300, 7273, 1267, 2550, 2550, 3437, 428, 12249, 624, 5984, 964, 8612, 907, 59, 864, 3, 5439, 29, 358, 7403, 499, 6, 1537, 34, 47, 1, 3113, 46, 134, 204, 655, 2650, 332, 103, 95, 59, 149, 983, 448, 719, 1187, 346, 1254, 3218, 3907, 2880, 2650, 196, 166, 2023, 1818, 3385, 13513, 1686, 409, 2785, 31, 29, 108, 1615, 87, 6, 2060, 27, 183, 3809, 45667, 2323, 975, 11568, 3, 106, 4340, 1213, 58, 107, 196, 1638, 318, 130, 2047, 18571, 165, 960, 929, 1705, 36, 7937, 130, 2650, 22542, 3279, 58, 206, 878, 418, 3497, 6252, 212, 1657, 1031, 145, 1325, 564, 23, 3438, 2075, 110, 1335, 581, 1660, 196, 435, 18572, 3367, 11784, 5265, 1417, 1548, 4152, 986, 2034, 9054, 9868, 522, 460, 10012, 3, 16, 144, 23570, 490, 35, 5406, 755, 2, 5331, 2650, 372, 164, 197, 624, 5984, 1313, 3, 747, 370, 3459, 1686, 32384, 63, 2650, 599, 983, 1403, 16, 1556, 233, 56531, 5631, 537, 19990, 736, 1826, 11785, 191, 63, 736, 2233, 983, 2832], [700, 691, 992, 38, 656, 137, 864, 2390, 14, 700, 691, 2624, 979, 3337, 26160, 1641, 186, 168, 21, 387, 391, 391, 391, 40, 662, 585, 20760, 1175, 4243, 419, 537, 1188, 35497, 4, 1642, 537, 1958, 79, 446, 75, 1651, 4599, 26161, 39530, 9869, 8120, 12477, 562, 35498, 15, 20761, 239, 120, 14, 5231, 434, 864, 2565, 861, 1062, 1854, 539], [83, 391, 8305, 13514, 3459, 9192, 873, 788, 10427, 35499, 2833, 204, 681, 983, 19, 230, 876, 24748, 385, 658, 47, 1550, 12, 138, 1399, 171, 5676, 1218, 6, 20, 3641, 1834, 3678, 12980, 956, 146, 483, 30, 29, 327, 1063, 1158, 24748, 47, 1156, 600, 769, 285, 1873, 1643, 91, 13514, 19, 508, 10013, 2024, 51, 1623, 1285, 147, 2290, 2, 2132, 1446, 90, 2716, 4399, 788, 41, 7274, 919, 1, 2683, 4061, 292, 3, 8, 394, 2024, 51, 1623, 2180, 121, 2489, 183, 13514, 1447, 1072, 327, 9, 1019, 5526, 12249, 648, 22543, 428, 324, 1141, 658, 2977, 48, 510, 760, 582, 2, 285, 397, 141, 48, 582, 1380, 68, 13, 239, 2024, 51, 1623, 220, 1, 508, 1930, 3067, 153, 4420, 13515, 70, 5104, 1, 403, 1067, 15179, 2258, 14460, 845, 6149, 363, 378, 7062, 942, 5526, 6294, 1743, 1492, 9870, 24749, 45668, 12478, 39, 1067, 557, 1623, 2819, 14808, 35500, 2061, 17399, 559, 2024, 51, 1623, 851, 17, 2024, 486, 4079, 131, 231, 3585, 1296, 758, 1, 126, 2024, 1, 35500, 1043, 1189, 122, 532, 4497, 1678, 1067, 2076, 23, 52, 540, 1528, 15, 7, 12478, 5478, 223, 45669, 4542, 10992, 1067, 9193, 12478, 4421, 27830, 272, 133, 574, 1392, 491, 5677, 1104, 4129, 5365, 1067, 2339, 223, 41, 18573, 68, 121, 489, 644, 1885, 1104, 14142, 1226, 1537, 3765, 6294, 594, 12478, 146, 3057, 847, 1067, 1916, 37, 27830, 939, 9, 11175, 2477, 1043, 272, 133, 27830, 8819, 555, 10428, 593, 161, 7457, 5943, 12013, 3766, 1554, 483, 26, 6513, 1314, 1760, 7, 164, 2852, 345, 18, 7404, 1067, 151, 21, 930, 429, 118, 3944, 573, 811, 2604, 7133, 27, 35501, 185, 659, 5141, 1067, 298, 3219, 45, 1, 109, 473, 933, 11569, 27, 13224, 22544, 5943, 130, 2755, 2978, 1167, 445, 3203, 334, 1, 324, 2233, 9, 1225, 1614, 34, 2975, 155, 65, 5887, 2598, 1421, 49, 2497, 1118, 6756, 1, 507, 6, 3623, 555, 10428, 12250, 45670, 11786, 11352, 1925, 5565, 82, 1166, 1108, 46, 1067, 381, 40, 17953, 27830, 6457, 2853, 22545, 6458, 23571, 6459, 114, 764, 659, 4, 2258, 19, 10014, 117, 4834, 22, 20, 11353, 26162, 9, 2132, 1446, 5299, 555, 1393, 1067, 56532, 4341, 56533, 27830, 474, 14461, 12014, 5, 527, 1405, 717, 6346, 3766, 1554, 45671, 5943, 4444, 409, 75, 912, 2755, 2978, 3325, 5407, 1067, 10622, 342, 5332, 27, 7, 1313, 8415, 6690, 10992, 181, 3120, 1842, 45, 9453, 12251, 10992, 79, 5, 44, 449, 3810, 4806, 171, 5676, 3420, 876, 24748, 3766, 1554, 912, 1032, 122, 27, 274, 72, 321, 5632, 8507, 38, 3767, 828, 20762, 2087, 29938, 35502, 15577, 1067, 35503, 1589, 1042, 3326, 12981, 7540, 27831, 27830, 128, 409, 157, 473, 246, 761, 5408, 27, 3528, 16904, 1314, 3, 2168, 22546, 40, 27831, 1043, 53, 1035, 2024, 51, 1623, 698, 2459, 2, 3166, 1895, 13514, 551, 1381, 461, 2430, 46, 1067, 1770, 156, 8415, 4445, 8508, 14462, 7458, 15971, 2291, 122, 1, 4181, 698, 2791, 114, 88, 447, 256, 2024, 51, 1623, 5, 583, 7, 59, 2259, 1, 328, 1221, 45672, 1508, 1531, 575, 1079, 321, 4569, 2709, 13514, 44, 1706, 698, 4446, 5479, 5566, 6618, 6, 2024, 51, 1623, 22, 12, 436, 14, 1116, 1559], [11, 15, 1, 26163, 4, 2062, 386, 133, 690, 5729, 381, 141, 61, 3908, 20763, 11, 709, 9722, 381, 109, 4, 9723, 100, 44, 4686, 11354, 47, 781, 286, 56534, 1, 1088, 151, 1153, 43, 296, 97, 15, 215, 812, 133, 2269, 65, 812, 15972, 61, 11, 2088, 400, 772, 20764, 67, 812, 4015, 133, 19991, 155, 187, 678, 812, 4015, 1127, 133, 5729, 100, 7, 21, 23572, 339, 72, 305, 61], [6, 15, 1968, 2928, 2490, 634, 765, 27832, 15, 65, 438, 344, 4616, 366, 17, 152, 121, 14, 1874, 214, 438, 204, 5266, 2217, 355, 13225, 15, 211, 294, 605, 137, 1963, 3439, 125, 2224, 101, 3, 775, 3, 67, 4, 1548, 1712, 1353, 24, 103, 257, 883, 131, 4, 238, 679, 6204, 1827, 3351, 3121, 960, 4447, 14, 225, 24, 1302, 524, 6400, 4218, 101, 2498, 33, 4835, 311, 2636, 23, 206], [76, 28, 2, 2846, 203, 2846, 4244, 781, 426, 218, 3, 136, 239, 3352, 462, 76, 239, 9, 152, 1108, 30, 317, 3, 5598, 732, 43, 28, 2, 55, 2, 108, 318, 751, 22547, 448, 4, 58, 2, 1318, 440, 1, 3, 866, 28, 34, 16, 36, 2, 39531, 80, 452, 71, 4, 55, 3695, 2038, 905, 3829, 76, 28, 16, 1, 5, 1, 1828, 1, 7, 1431, 1, 1, 1551, 28, 2, 458, 1829, 7938, 123, 76, 9055, 45, 2], [1080, 1425, 19223, 3122, 6757, 4130, 3768, 5527, 1415, 1512, 37, 31, 78, 10429, 920, 1, 3002, 13, 678, 1451, 136, 634, 1067, 8509, 22548, 3986, 9303, 3122, 1296, 70, 1190, 3122, 2132, 1439, 3, 35504, 29, 42, 32, 601, 577, 1778, 703, 745, 703, 278, 66, 318, 53, 154, 796, 18, 11, 576, 99, 186, 848, 425, 1, 4314, 4715, 621, 21, 19, 189, 857, 576, 386, 217, 189, 432, 660, 5300, 425, 72, 345, 1105, 3114, 19, 189, 2158, 1778, 6757, 4130, 348, 906, 41, 2, 420, 1779, 1071, 89, 432, 432, 49, 2218, 703, 1143, 318, 4498, 339, 8, 376, 2, 41, 1308, 26, 318, 2717, 455, 591, 498, 704, 11, 820, 369, 498, 120, 1132, 18, 498, 661, 8509, 318, 6866, 30, 17, 69, 15, 897, 1215, 229, 1038, 8, 394, 10, 41, 2274, 26, 3227, 260, 897, 3855, 1236, 2052, 12479, 11355, 445, 2274, 2, 141, 15, 442, 1, 14143, 26, 36, 517, 704, 117, 1570, 233, 406, 75, 6757, 4130, 383, 5, 130, 1, 61, 1156, 49, 14, 878, 282, 460, 14463, 8509, 22548, 704, 130, 39532, 2422, 73, 521, 18, 335, 4, 738, 287, 1425, 19223, 79, 1448, 1073, 668, 1291, 1057, 1425, 6757, 549, 2951, 5986, 2, 498, 318, 4498, 486, 4667, 4836, 7692, 61, 581, 104, 487, 6619, 12712, 30, 49, 487, 301, 1648, 13819, 2094, 27, 130, 5, 321, 3122, 2132, 709, 2, 164, 55, 533], [253, 1, 245, 6036, 12982, 49, 14, 36, 56535, 118, 141, 149, 317, 901, 17, 1499, 1994, 20765, 43, 1555, 901, 1036, 43, 65, 861, 226, 137, 24, 6, 100, 58, 510, 815, 19, 324, 365, 14, 92, 162, 485, 21, 610, 354, 288, 1008, 29, 4, 481, 285, 162, 485, 475]]\n"
          ]
        }
      ]
    },
    {
      "cell_type": "markdown",
      "source": [
        "So we have splitted our text into individual tokens and converted them to numeric form"
      ],
      "metadata": {
        "id": "ph-k3jTAsFgv"
      }
    },
    {
      "cell_type": "code",
      "source": [
        "word_tokenizer.word_index"
      ],
      "metadata": {
        "colab": {
          "base_uri": "https://localhost:8080/"
        },
        "id": "8gb0Gup4r7jL",
        "outputId": "0b6a6683-8271-433a-ac29-63445e40ae30"
      },
      "execution_count": 35,
      "outputs": [
        {
          "output_type": "execute_result",
          "data": {
            "text/plain": [
              "{'movie': 1,\n",
              " 'film': 2,\n",
              " 'one': 3,\n",
              " 'like': 4,\n",
              " 'good': 5,\n",
              " 'time': 6,\n",
              " 'even': 7,\n",
              " 'would': 8,\n",
              " 'story': 9,\n",
              " 'see': 10,\n",
              " 'really': 11,\n",
              " 'well': 12,\n",
              " 'much': 13,\n",
              " 'bad': 14,\n",
              " 'get': 15,\n",
              " 'great': 16,\n",
              " 'people': 17,\n",
              " 'also': 18,\n",
              " 'first': 19,\n",
              " 'made': 20,\n",
              " 'make': 21,\n",
              " 'could': 22,\n",
              " 'way': 23,\n",
              " 'movies': 24,\n",
              " 'think': 25,\n",
              " 'characters': 26,\n",
              " 'character': 27,\n",
              " 'watch': 28,\n",
              " 'films': 29,\n",
              " 'two': 30,\n",
              " 'many': 31,\n",
              " 'seen': 32,\n",
              " 'never': 33,\n",
              " 'plot': 34,\n",
              " 'life': 35,\n",
              " 'acting': 36,\n",
              " 'love': 37,\n",
              " 'best': 38,\n",
              " 'know': 39,\n",
              " 'show': 40,\n",
              " 'little': 41,\n",
              " 'ever': 42,\n",
              " 'man': 43,\n",
              " 'better': 44,\n",
              " 'end': 45,\n",
              " 'scene': 46,\n",
              " 'still': 47,\n",
              " 'say': 48,\n",
              " 'scenes': 49,\n",
              " 'something': 50,\n",
              " 'go': 51,\n",
              " 'back': 52,\n",
              " 'real': 53,\n",
              " 'thing': 54,\n",
              " 'watching': 55,\n",
              " 'actors': 56,\n",
              " 'years': 57,\n",
              " 'director': 58,\n",
              " 'though': 59,\n",
              " 'old': 60,\n",
              " 'funny': 61,\n",
              " 'another': 62,\n",
              " 'work': 63,\n",
              " 'actually': 64,\n",
              " 'makes': 65,\n",
              " 'nothing': 66,\n",
              " 'look': 67,\n",
              " 'find': 68,\n",
              " 'going': 69,\n",
              " 'new': 70,\n",
              " 'lot': 71,\n",
              " 'part': 72,\n",
              " 'every': 73,\n",
              " 'world': 74,\n",
              " 'cast': 75,\n",
              " 'want': 76,\n",
              " 'us': 77,\n",
              " 'things': 78,\n",
              " 'pretty': 79,\n",
              " 'horror': 80,\n",
              " 'quite': 81,\n",
              " 'seems': 82,\n",
              " 'around': 83,\n",
              " 'young': 84,\n",
              " 'thought': 85,\n",
              " 'big': 86,\n",
              " 'take': 87,\n",
              " 'however': 88,\n",
              " 'got': 89,\n",
              " 'fact': 90,\n",
              " 'long': 91,\n",
              " 'enough': 92,\n",
              " 'give': 93,\n",
              " 'may': 94,\n",
              " 'music': 95,\n",
              " 'must': 96,\n",
              " 'right': 97,\n",
              " 'action': 98,\n",
              " 'comedy': 99,\n",
              " 'guy': 100,\n",
              " 'series': 101,\n",
              " 'original': 102,\n",
              " 'without': 103,\n",
              " 'role': 104,\n",
              " 'saw': 105,\n",
              " 'times': 106,\n",
              " 'gets': 107,\n",
              " 'almost': 108,\n",
              " 'come': 109,\n",
              " 'always': 110,\n",
              " 'point': 111,\n",
              " 'interesting': 112,\n",
              " 'done': 113,\n",
              " 'whole': 114,\n",
              " 'least': 115,\n",
              " 'far': 116,\n",
              " 'bit': 117,\n",
              " 'script': 118,\n",
              " 'minutes': 119,\n",
              " 'feel': 120,\n",
              " 'family': 121,\n",
              " 'anything': 122,\n",
              " 'might': 123,\n",
              " 'making': 124,\n",
              " 'last': 125,\n",
              " 'since': 126,\n",
              " 'tv': 127,\n",
              " 'probably': 128,\n",
              " 'away': 129,\n",
              " 'performance': 130,\n",
              " 'kind': 131,\n",
              " 'yet': 132,\n",
              " 'girl': 133,\n",
              " 'fun': 134,\n",
              " 'anyone': 135,\n",
              " 'woman': 136,\n",
              " 'worst': 137,\n",
              " 'day': 138,\n",
              " 'rather': 139,\n",
              " 'sure': 140,\n",
              " 'hard': 141,\n",
              " 'played': 142,\n",
              " 'found': 143,\n",
              " 'screen': 144,\n",
              " 'looking': 145,\n",
              " 'although': 146,\n",
              " 'especially': 147,\n",
              " 'dvd': 148,\n",
              " 'believe': 149,\n",
              " 'course': 150,\n",
              " 'trying': 151,\n",
              " 'goes': 152,\n",
              " 'set': 153,\n",
              " 'everything': 154,\n",
              " 'place': 155,\n",
              " 'ending': 156,\n",
              " 'comes': 157,\n",
              " 'put': 158,\n",
              " 'maybe': 159,\n",
              " 'book': 160,\n",
              " 'three': 161,\n",
              " 'let': 162,\n",
              " 'different': 163,\n",
              " 'worth': 164,\n",
              " 'shows': 165,\n",
              " 'actor': 166,\n",
              " 'someone': 167,\n",
              " 'effects': 168,\n",
              " 'money': 169,\n",
              " 'play': 170,\n",
              " 'american': 171,\n",
              " 'sense': 172,\n",
              " 'main': 173,\n",
              " 'war': 174,\n",
              " 'year': 175,\n",
              " 'looks': 176,\n",
              " 'reason': 177,\n",
              " 'job': 178,\n",
              " 'watched': 179,\n",
              " 'everyone': 180,\n",
              " 'true': 181,\n",
              " 'together': 182,\n",
              " 'instead': 183,\n",
              " 'high': 184,\n",
              " 'audience': 185,\n",
              " 'special': 186,\n",
              " 'plays': 187,\n",
              " 'beautiful': 188,\n",
              " 'half': 189,\n",
              " 'said': 190,\n",
              " 'later': 191,\n",
              " 'takes': 192,\n",
              " 'seem': 193,\n",
              " 'night': 194,\n",
              " 'left': 195,\n",
              " 'excellent': 196,\n",
              " 'seeing': 197,\n",
              " 'john': 198,\n",
              " 'wife': 199,\n",
              " 'version': 200,\n",
              " 'black': 201,\n",
              " 'idea': 202,\n",
              " 'shot': 203,\n",
              " 'house': 204,\n",
              " 'else': 205,\n",
              " 'star': 206,\n",
              " 'mind': 207,\n",
              " 'father': 208,\n",
              " 'death': 209,\n",
              " 'fan': 210,\n",
              " 'used': 211,\n",
              " 'completely': 212,\n",
              " 'budget': 213,\n",
              " 'simply': 214,\n",
              " 'poor': 215,\n",
              " 'nice': 216,\n",
              " 'second': 217,\n",
              " 'men': 218,\n",
              " 'read': 219,\n",
              " 'short': 220,\n",
              " 'kids': 221,\n",
              " 'dead': 222,\n",
              " 'help': 223,\n",
              " 'along': 224,\n",
              " 'home': 225,\n",
              " 'top': 226,\n",
              " 'hollywood': 227,\n",
              " 'friends': 228,\n",
              " 'less': 229,\n",
              " 'production': 230,\n",
              " 'line': 231,\n",
              " 'boring': 232,\n",
              " 'given': 233,\n",
              " 'classic': 234,\n",
              " 'school': 235,\n",
              " 'camera': 236,\n",
              " 'either': 237,\n",
              " 'low': 238,\n",
              " 'enjoy': 239,\n",
              " 'try': 240,\n",
              " 'need': 241,\n",
              " 'women': 242,\n",
              " 'wrong': 243,\n",
              " 'use': 244,\n",
              " 'full': 245,\n",
              " 'truly': 246,\n",
              " 'stupid': 247,\n",
              " 'couple': 248,\n",
              " 'next': 249,\n",
              " 'video': 250,\n",
              " 'rest': 251,\n",
              " 'performances': 252,\n",
              " 'awful': 253,\n",
              " 'terrible': 254,\n",
              " 'start': 255,\n",
              " 'recommend': 256,\n",
              " 'sex': 257,\n",
              " 'tell': 258,\n",
              " 'mean': 259,\n",
              " 'getting': 260,\n",
              " 'remember': 261,\n",
              " 'came': 262,\n",
              " 'perhaps': 263,\n",
              " 'style': 264,\n",
              " 'understand': 265,\n",
              " 'name': 266,\n",
              " 'face': 267,\n",
              " 'wonderful': 268,\n",
              " 'keep': 269,\n",
              " 'person': 270,\n",
              " 'moments': 271,\n",
              " 'human': 272,\n",
              " 'mother': 273,\n",
              " 'small': 274,\n",
              " 'playing': 275,\n",
              " 'episode': 276,\n",
              " 'perfect': 277,\n",
              " 'written': 278,\n",
              " 'others': 279,\n",
              " 'early': 280,\n",
              " 'often': 281,\n",
              " 'stars': 282,\n",
              " 'head': 283,\n",
              " 'boy': 284,\n",
              " 'children': 285,\n",
              " 'definitely': 286,\n",
              " 'lines': 287,\n",
              " 'piece': 288,\n",
              " 'gives': 289,\n",
              " 'case': 290,\n",
              " 'dialogue': 291,\n",
              " 'title': 292,\n",
              " 'absolutely': 293,\n",
              " 'live': 294,\n",
              " 'friend': 295,\n",
              " 'oh': 296,\n",
              " 'went': 297,\n",
              " 'worse': 298,\n",
              " 'laugh': 299,\n",
              " 'called': 300,\n",
              " 'finally': 301,\n",
              " 'lost': 302,\n",
              " 'become': 303,\n",
              " 'entertaining': 304,\n",
              " 'sort': 305,\n",
              " 'mr': 306,\n",
              " 'yes': 307,\n",
              " 'liked': 308,\n",
              " 'picture': 309,\n",
              " 'certainly': 310,\n",
              " 'hope': 311,\n",
              " 'sound': 312,\n",
              " 'supposed': 313,\n",
              " 'loved': 314,\n",
              " 'cinema': 315,\n",
              " 'based': 316,\n",
              " 'guys': 317,\n",
              " 'felt': 318,\n",
              " 'several': 319,\n",
              " 'drama': 320,\n",
              " 'overall': 321,\n",
              " 'entire': 322,\n",
              " 'white': 323,\n",
              " 'problem': 324,\n",
              " 'beginning': 325,\n",
              " 'waste': 326,\n",
              " 'dark': 327,\n",
              " 'fans': 328,\n",
              " 'direction': 329,\n",
              " 'care': 330,\n",
              " 'lives': 331,\n",
              " 'wanted': 332,\n",
              " 'example': 333,\n",
              " 'lead': 334,\n",
              " 'seemed': 335,\n",
              " 'game': 336,\n",
              " 'turn': 337,\n",
              " 'humor': 338,\n",
              " 'guess': 339,\n",
              " 'totally': 340,\n",
              " 'despite': 341,\n",
              " 'already': 342,\n",
              " 'final': 343,\n",
              " 'evil': 344,\n",
              " 'unfortunately': 345,\n",
              " 'throughout': 346,\n",
              " 'becomes': 347,\n",
              " 'able': 348,\n",
              " 'side': 349,\n",
              " 'heart': 350,\n",
              " 'days': 351,\n",
              " 'history': 352,\n",
              " 'quality': 353,\n",
              " 'amazing': 354,\n",
              " 'son': 355,\n",
              " 'michael': 356,\n",
              " 'flick': 357,\n",
              " 'today': 358,\n",
              " 'writing': 359,\n",
              " 'killer': 360,\n",
              " 'horrible': 361,\n",
              " 'wants': 362,\n",
              " 'run': 363,\n",
              " 'fine': 364,\n",
              " 'child': 365,\n",
              " 'kill': 366,\n",
              " 'works': 367,\n",
              " 'act': 368,\n",
              " 'close': 369,\n",
              " 'viewer': 370,\n",
              " 'matter': 371,\n",
              " 'directed': 372,\n",
              " 'god': 373,\n",
              " 'etc': 374,\n",
              " 'art': 375,\n",
              " 'enjoyed': 376,\n",
              " 'town': 377,\n",
              " 'car': 378,\n",
              " 'behind': 379,\n",
              " 'past': 380,\n",
              " 'tries': 381,\n",
              " 'genre': 382,\n",
              " 'gave': 383,\n",
              " 'city': 384,\n",
              " 'brilliant': 385,\n",
              " 'stuff': 386,\n",
              " 'favorite': 387,\n",
              " 'turns': 388,\n",
              " 'parts': 389,\n",
              " 'kid': 390,\n",
              " 'late': 391,\n",
              " 'sometimes': 392,\n",
              " 'obviously': 393,\n",
              " 'expect': 394,\n",
              " 'girls': 395,\n",
              " 'eyes': 396,\n",
              " 'hand': 397,\n",
              " 'hour': 398,\n",
              " 'type': 399,\n",
              " 'actress': 400,\n",
              " 'soon': 401,\n",
              " 'thinking': 402,\n",
              " 'starts': 403,\n",
              " 'blood': 404,\n",
              " 'killed': 405,\n",
              " 'decent': 406,\n",
              " 'says': 407,\n",
              " 'highly': 408,\n",
              " 'voice': 409,\n",
              " 'self': 410,\n",
              " 'group': 411,\n",
              " 'daughter': 412,\n",
              " 'stop': 413,\n",
              " 'except': 414,\n",
              " 'known': 415,\n",
              " 'anyway': 416,\n",
              " 'heard': 417,\n",
              " 'writer': 418,\n",
              " 'fight': 419,\n",
              " 'took': 420,\n",
              " 'experience': 421,\n",
              " 'happens': 422,\n",
              " 'feeling': 423,\n",
              " 'violence': 424,\n",
              " 'coming': 425,\n",
              " 'stories': 426,\n",
              " 'slow': 427,\n",
              " 'murder': 428,\n",
              " 'hero': 429,\n",
              " 'strong': 430,\n",
              " 'police': 431,\n",
              " 'serious': 432,\n",
              " 'extremely': 433,\n",
              " 'moment': 434,\n",
              " 'including': 435,\n",
              " 'leave': 436,\n",
              " 'hit': 437,\n",
              " 'living': 438,\n",
              " 'told': 439,\n",
              " 'hell': 440,\n",
              " 'chance': 441,\n",
              " 'involved': 442,\n",
              " 'ok': 443,\n",
              " 'score': 444,\n",
              " 'lack': 445,\n",
              " 'cool': 446,\n",
              " 'cannot': 447,\n",
              " 'cut': 448,\n",
              " 'roles': 449,\n",
              " 'save': 450,\n",
              " 'happen': 451,\n",
              " 'wonder': 452,\n",
              " 'james': 453,\n",
              " 'robert': 454,\n",
              " 'brother': 455,\n",
              " 'hilarious': 456,\n",
              " 'age': 457,\n",
              " 'please': 458,\n",
              " 'looked': 459,\n",
              " 'complete': 460,\n",
              " 'particularly': 461,\n",
              " 'crap': 462,\n",
              " 'attempt': 463,\n",
              " 'seriously': 464,\n",
              " 'taken': 465,\n",
              " 'obvious': 466,\n",
              " 'david': 467,\n",
              " 'ago': 468,\n",
              " 'simple': 469,\n",
              " 'gore': 470,\n",
              " 'happened': 471,\n",
              " 'husband': 472,\n",
              " 'across': 473,\n",
              " 'song': 474,\n",
              " 'released': 475,\n",
              " 'jokes': 476,\n",
              " 'english': 477,\n",
              " 'opening': 478,\n",
              " 'interest': 479,\n",
              " 'possible': 480,\n",
              " 'shown': 481,\n",
              " 'exactly': 482,\n",
              " 'none': 483,\n",
              " 'saying': 484,\n",
              " 'alone': 485,\n",
              " 'usually': 486,\n",
              " 'annoying': 487,\n",
              " 'hours': 488,\n",
              " 'reality': 489,\n",
              " 'sad': 490,\n",
              " 'order': 491,\n",
              " 'whose': 492,\n",
              " 'career': 493,\n",
              " 'wish': 494,\n",
              " 'talent': 495,\n",
              " 'light': 496,\n",
              " 'documentary': 497,\n",
              " 'relationship': 498,\n",
              " 'taking': 499,\n",
              " 'view': 500,\n",
              " 'power': 501,\n",
              " 'number': 502,\n",
              " 'middle': 503,\n",
              " 'shots': 504,\n",
              " 'four': 505,\n",
              " 'country': 506,\n",
              " 'running': 507,\n",
              " 'major': 508,\n",
              " 'huge': 509,\n",
              " 'call': 510,\n",
              " 'turned': 511,\n",
              " 'body': 512,\n",
              " 'important': 513,\n",
              " 'ends': 514,\n",
              " 'cinematography': 515,\n",
              " 'female': 516,\n",
              " 'mostly': 517,\n",
              " 'ridiculous': 518,\n",
              " 'opinion': 519,\n",
              " 'change': 520,\n",
              " 'level': 521,\n",
              " 'usual': 522,\n",
              " 'scary': 523,\n",
              " 'started': 524,\n",
              " 'novel': 525,\n",
              " 'word': 526,\n",
              " 'ones': 527,\n",
              " 'happy': 528,\n",
              " 'beyond': 529,\n",
              " 'modern': 530,\n",
              " 'somewhat': 531,\n",
              " 'upon': 532,\n",
              " 'rating': 533,\n",
              " 'knew': 534,\n",
              " 'words': 535,\n",
              " 'room': 536,\n",
              " 'strange': 537,\n",
              " 'disappointed': 538,\n",
              " 'miss': 539,\n",
              " 'earth': 540,\n",
              " 'knows': 541,\n",
              " 'silly': 542,\n",
              " 'attention': 543,\n",
              " 'apparently': 544,\n",
              " 'single': 545,\n",
              " 'due': 546,\n",
              " 'talking': 547,\n",
              " 'episodes': 548,\n",
              " 'non': 549,\n",
              " 'television': 550,\n",
              " 'team': 551,\n",
              " 'cheap': 552,\n",
              " 'clearly': 553,\n",
              " 'basically': 554,\n",
              " 'musical': 555,\n",
              " 'problems': 556,\n",
              " 'finds': 557,\n",
              " 'five': 558,\n",
              " 'tells': 559,\n",
              " 'thriller': 560,\n",
              " 'british': 561,\n",
              " 'jack': 562,\n",
              " 'sequence': 563,\n",
              " 'fast': 564,\n",
              " 'class': 565,\n",
              " 'local': 566,\n",
              " 'events': 567,\n",
              " 'king': 568,\n",
              " 'clich': 569,\n",
              " 'songs': 570,\n",
              " 'straight': 571,\n",
              " 'die': 572,\n",
              " 'ten': 573,\n",
              " 'talk': 574,\n",
              " 'moving': 575,\n",
              " 'romantic': 576,\n",
              " 'predictable': 577,\n",
              " 'future': 578,\n",
              " 'review': 579,\n",
              " 'george': 580,\n",
              " 'supporting': 581,\n",
              " 'whether': 582,\n",
              " 'entertainment': 583,\n",
              " 'giving': 584,\n",
              " 'space': 585,\n",
              " 'comic': 586,\n",
              " 'lots': 587,\n",
              " 'add': 588,\n",
              " 'near': 589,\n",
              " 'french': 590,\n",
              " 'sister': 591,\n",
              " 'sets': 592,\n",
              " 'appears': 593,\n",
              " 'bring': 594,\n",
              " 'message': 595,\n",
              " 'soundtrack': 596,\n",
              " 'dialog': 597,\n",
              " 'hate': 598,\n",
              " 'within': 599,\n",
              " 'enjoyable': 600,\n",
              " 'dull': 601,\n",
              " 'similar': 602,\n",
              " 'monster': 603,\n",
              " 'eye': 604,\n",
              " 'easily': 605,\n",
              " 'falls': 606,\n",
              " 'rock': 607,\n",
              " 'release': 608,\n",
              " 'working': 609,\n",
              " 'sequel': 610,\n",
              " 'filmed': 611,\n",
              " 'mention': 612,\n",
              " 'theater': 613,\n",
              " 'easy': 614,\n",
              " 'clear': 615,\n",
              " 'parents': 616,\n",
              " 'needs': 617,\n",
              " 'surprised': 618,\n",
              " 'sorry': 619,\n",
              " 'showing': 620,\n",
              " 'tried': 621,\n",
              " 'certain': 622,\n",
              " 'comments': 623,\n",
              " 'lady': 624,\n",
              " 'suspense': 625,\n",
              " 'ways': 626,\n",
              " 'mystery': 627,\n",
              " 'th': 628,\n",
              " 'bunch': 629,\n",
              " 'theme': 630,\n",
              " 'among': 631,\n",
              " 'effort': 632,\n",
              " 'stay': 633,\n",
              " 'named': 634,\n",
              " 'stand': 635,\n",
              " 'storyline': 636,\n",
              " 'oscar': 637,\n",
              " 'deal': 638,\n",
              " 'fall': 639,\n",
              " 'editing': 640,\n",
              " 'realistic': 641,\n",
              " 'avoid': 642,\n",
              " 'gone': 643,\n",
              " 'using': 644,\n",
              " 'subject': 645,\n",
              " 'richard': 646,\n",
              " 'buy': 647,\n",
              " 'crime': 648,\n",
              " 'general': 649,\n",
              " 'dog': 650,\n",
              " 'peter': 651,\n",
              " 'paul': 652,\n",
              " 'period': 653,\n",
              " 'minute': 654,\n",
              " 'fantastic': 655,\n",
              " 'means': 656,\n",
              " 'typical': 657,\n",
              " 'feature': 658,\n",
              " 'feels': 659,\n",
              " 'actual': 660,\n",
              " 'tom': 661,\n",
              " 'viewers': 662,\n",
              " 'points': 663,\n",
              " 'doubt': 664,\n",
              " 'dr': 665,\n",
              " 'tale': 666,\n",
              " 'check': 667,\n",
              " 'nearly': 668,\n",
              " 'elements': 669,\n",
              " 'okay': 670,\n",
              " 'famous': 671,\n",
              " 'greatest': 672,\n",
              " 'viewing': 673,\n",
              " 'imagine': 674,\n",
              " 'kept': 675,\n",
              " 'believable': 676,\n",
              " 'follow': 677,\n",
              " 'surprise': 678,\n",
              " 'rent': 679,\n",
              " 'forget': 680,\n",
              " 'form': 681,\n",
              " 'imdb': 682,\n",
              " 'brought': 683,\n",
              " 'average': 684,\n",
              " 'material': 685,\n",
              " 'reviews': 686,\n",
              " 'doctor': 687,\n",
              " 'begins': 688,\n",
              " 'somehow': 689,\n",
              " 'red': 690,\n",
              " 'fi': 691,\n",
              " 'learn': 692,\n",
              " 'expected': 693,\n",
              " 'hear': 694,\n",
              " 'killing': 695,\n",
              " 'leads': 696,\n",
              " 'figure': 697,\n",
              " 'animation': 698,\n",
              " 'sit': 699,\n",
              " 'sci': 700,\n",
              " 'lee': 701,\n",
              " 'society': 702,\n",
              " 'poorly': 703,\n",
              " 'weak': 704,\n",
              " 'deep': 705,\n",
              " 'atmosphere': 706,\n",
              " 'open': 707,\n",
              " 'move': 708,\n",
              " 'lame': 709,\n",
              " 'sequences': 710,\n",
              " 'boys': 711,\n",
              " 'eventually': 712,\n",
              " 'america': 713,\n",
              " 'premise': 714,\n",
              " 'decided': 715,\n",
              " 'hot': 716,\n",
              " 'particular': 717,\n",
              " 'truth': 718,\n",
              " 'shame': 719,\n",
              " 'romance': 720,\n",
              " 'whatever': 721,\n",
              " 'meet': 722,\n",
              " 'wait': 723,\n",
              " 'indeed': 724,\n",
              " 'box': 725,\n",
              " 'third': 726,\n",
              " 'emotional': 727,\n",
              " 'note': 728,\n",
              " 'york': 729,\n",
              " 'western': 730,\n",
              " 'situation': 731,\n",
              " 'gay': 732,\n",
              " 'unless': 733,\n",
              " 'season': 734,\n",
              " 'free': 735,\n",
              " 'needed': 736,\n",
              " 'write': 737,\n",
              " 'reading': 738,\n",
              " 'footage': 739,\n",
              " 'credits': 740,\n",
              " 'dance': 741,\n",
              " 'possibly': 742,\n",
              " 'forced': 743,\n",
              " 'de': 744,\n",
              " 'acted': 745,\n",
              " 'crew': 746,\n",
              " 'leaves': 747,\n",
              " 'street': 748,\n",
              " 'japanese': 749,\n",
              " 'became': 750,\n",
              " 'badly': 751,\n",
              " 'difficult': 752,\n",
              " 'male': 753,\n",
              " 'air': 754,\n",
              " 'beauty': 755,\n",
              " 'otherwise': 756,\n",
              " 'begin': 757,\n",
              " 'nature': 758,\n",
              " 'personal': 759,\n",
              " 'question': 760,\n",
              " 'memorable': 761,\n",
              " 'masterpiece': 762,\n",
              " 'stage': 763,\n",
              " 'screenplay': 764,\n",
              " 'joe': 765,\n",
              " 'effect': 766,\n",
              " 'hands': 767,\n",
              " 'sexual': 768,\n",
              " 'features': 769,\n",
              " 'meets': 770,\n",
              " 'comment': 771,\n",
              " 'plus': 772,\n",
              " 'sounds': 773,\n",
              " 'forward': 774,\n",
              " 'previous': 775,\n",
              " 'cop': 776,\n",
              " 'superb': 777,\n",
              " 'laughs': 778,\n",
              " 'perfectly': 779,\n",
              " 'quickly': 780,\n",
              " 'weird': 781,\n",
              " 'crazy': 782,\n",
              " 'baby': 783,\n",
              " 'inside': 784,\n",
              " 'battle': 785,\n",
              " 'island': 786,\n",
              " 'powerful': 787,\n",
              " 'disney': 788,\n",
              " 'mess': 789,\n",
              " 'copy': 790,\n",
              " 'mark': 791,\n",
              " 'earlier': 792,\n",
              " 'setting': 793,\n",
              " 'girlfriend': 794,\n",
              " 'business': 795,\n",
              " 'cheesy': 796,\n",
              " 'directors': 797,\n",
              " 'total': 798,\n",
              " 'background': 799,\n",
              " 'result': 800,\n",
              " 'towards': 801,\n",
              " 'interested': 802,\n",
              " 'dream': 803,\n",
              " 'creepy': 804,\n",
              " 'keeps': 805,\n",
              " 'worked': 806,\n",
              " 'fire': 807,\n",
              " 'older': 808,\n",
              " 'incredibly': 809,\n",
              " 'development': 810,\n",
              " 'writers': 811,\n",
              " 'dumb': 812,\n",
              " 'rate': 813,\n",
              " 'unique': 814,\n",
              " 'realize': 815,\n",
              " 'brings': 816,\n",
              " 'various': 817,\n",
              " 'water': 818,\n",
              " 'following': 819,\n",
              " 'appear': 820,\n",
              " 'ask': 821,\n",
              " 'present': 822,\n",
              " 'pay': 823,\n",
              " 'bill': 824,\n",
              " 'front': 825,\n",
              " 'directing': 826,\n",
              " 'fighting': 827,\n",
              " 'wasted': 828,\n",
              " 'apart': 829,\n",
              " 'political': 830,\n",
              " 'return': 831,\n",
              " 'gun': 832,\n",
              " 'reasons': 833,\n",
              " 'spent': 834,\n",
              " 'portrayed': 835,\n",
              " 'outside': 836,\n",
              " 'cover': 837,\n",
              " 'dramatic': 838,\n",
              " 'telling': 839,\n",
              " 'william': 840,\n",
              " 'leading': 841,\n",
              " 'fantasy': 842,\n",
              " 'era': 843,\n",
              " 'joke': 844,\n",
              " 'german': 845,\n",
              " 'deserves': 846,\n",
              " 'admit': 847,\n",
              " 'twist': 848,\n",
              " 'plenty': 849,\n",
              " 'zombie': 850,\n",
              " 'unlike': 851,\n",
              " 'fairly': 852,\n",
              " 'expecting': 853,\n",
              " 'party': 854,\n",
              " 'success': 855,\n",
              " 'fails': 856,\n",
              " 'cute': 857,\n",
              " 'rich': 858,\n",
              " 'caught': 859,\n",
              " 'clever': 860,\n",
              " 'list': 861,\n",
              " 'produced': 862,\n",
              " 'ideas': 863,\n",
              " 'agree': 864,\n",
              " 'odd': 865,\n",
              " 'meant': 866,\n",
              " 'hardly': 867,\n",
              " 'missing': 868,\n",
              " 'remake': 869,\n",
              " 'attempts': 870,\n",
              " 'century': 871,\n",
              " 'create': 872,\n",
              " 'company': 873,\n",
              " 'villain': 874,\n",
              " 'public': 875,\n",
              " 'secret': 876,\n",
              " 'italian': 877,\n",
              " 'co': 878,\n",
              " 'break': 879,\n",
              " 'talented': 880,\n",
              " 'manages': 881,\n",
              " 'plain': 882,\n",
              " 'nudity': 883,\n",
              " 'cartoon': 884,\n",
              " 'recently': 885,\n",
              " 'laughing': 886,\n",
              " 'created': 887,\n",
              " 'missed': 888,\n",
              " 'ended': 889,\n",
              " 'spoilers': 890,\n",
              " 'filmmakers': 891,\n",
              " 'members': 892,\n",
              " 'state': 893,\n",
              " 'cold': 894,\n",
              " 'store': 895,\n",
              " 'escape': 896,\n",
              " 'married': 897,\n",
              " 'large': 898,\n",
              " 'scott': 899,\n",
              " 'potential': 900,\n",
              " 'wrote': 901,\n",
              " 'cause': 902,\n",
              " 'incredible': 903,\n",
              " 'science': 904,\n",
              " 'train': 905,\n",
              " 'hold': 906,\n",
              " 'pace': 907,\n",
              " 'waiting': 908,\n",
              " 'sadly': 909,\n",
              " 'flat': 910,\n",
              " 'popular': 911,\n",
              " 'mentioned': 912,\n",
              " 'died': 913,\n",
              " 'slightly': 914,\n",
              " 'van': 915,\n",
              " 'office': 916,\n",
              " 'casting': 917,\n",
              " 'force': 918,\n",
              " 'considering': 919,\n",
              " 'dancing': 920,\n",
              " 'match': 921,\n",
              " 'law': 922,\n",
              " 'tension': 923,\n",
              " 'filled': 924,\n",
              " 'mad': 925,\n",
              " 'decides': 926,\n",
              " 'familiar': 927,\n",
              " 'brothers': 928,\n",
              " 'pure': 929,\n",
              " 'anti': 930,\n",
              " 'value': 931,\n",
              " 'neither': 932,\n",
              " 'convincing': 933,\n",
              " 'language': 934,\n",
              " 'uses': 935,\n",
              " 'visual': 936,\n",
              " 'sweet': 937,\n",
              " 'jane': 938,\n",
              " 'concept': 939,\n",
              " 'bored': 940,\n",
              " 'social': 941,\n",
              " 'former': 942,\n",
              " 'project': 943,\n",
              " 'la': 944,\n",
              " 'sees': 945,\n",
              " 'credit': 946,\n",
              " 'follows': 947,\n",
              " 'compared': 948,\n",
              " 'producers': 949,\n",
              " 'trouble': 950,\n",
              " 'entirely': 951,\n",
              " 'post': 952,\n",
              " 'alive': 953,\n",
              " 'speak': 954,\n",
              " 'biggest': 955,\n",
              " 'successful': 956,\n",
              " 'intelligent': 957,\n",
              " 'college': 958,\n",
              " 'hair': 959,\n",
              " 'master': 960,\n",
              " 'appreciate': 961,\n",
              " 'suddenly': 962,\n",
              " 'effective': 963,\n",
              " 'moves': 964,\n",
              " 'amount': 965,\n",
              " 'choice': 966,\n",
              " 'focus': 967,\n",
              " 'sick': 968,\n",
              " 'portrayal': 969,\n",
              " 'younger': 970,\n",
              " 'violent': 971,\n",
              " 'amusing': 972,\n",
              " 'depth': 973,\n",
              " 'images': 974,\n",
              " 'fake': 975,\n",
              " 'control': 976,\n",
              " 'recommended': 977,\n",
              " 'fit': 978,\n",
              " 'bizarre': 979,\n",
              " 'common': 980,\n",
              " 'band': 981,\n",
              " 'drug': 982,\n",
              " 'studio': 983,\n",
              " 'spend': 984,\n",
              " 'brain': 985,\n",
              " 'singing': 986,\n",
              " 'honest': 987,\n",
              " 'respect': 988,\n",
              " 'fear': 989,\n",
              " 'yeah': 990,\n",
              " 'pathetic': 991,\n",
              " 'adventure': 992,\n",
              " 'fiction': 993,\n",
              " 'gang': 994,\n",
              " 'exciting': 995,\n",
              " 'decide': 996,\n",
              " 'kills': 997,\n",
              " 'pointless': 998,\n",
              " 'culture': 999,\n",
              " 'consider': 1000,\n",
              " ...}"
            ]
          },
          "metadata": {},
          "execution_count": 35
        }
      ]
    },
    {
      "cell_type": "code",
      "source": [
        "vocab_length = len(word_tokenizer.word_index) + 1\n",
        "print(vocab_length)"
      ],
      "metadata": {
        "colab": {
          "base_uri": "https://localhost:8080/"
        },
        "id": "6EVqoXw2s96y",
        "outputId": "43c49d8e-8b10-474e-bb12-982944f2b263"
      },
      "execution_count": 36,
      "outputs": [
        {
          "output_type": "stream",
          "name": "stdout",
          "text": [
            "92211\n"
          ]
        }
      ]
    },
    {
      "cell_type": "markdown",
      "source": [
        "This is the total number of words in the vocabulary of our text corpus.   The +1 is added to the length of the word index because the index starts from 1, not 0, so the actual number of words in the vocabulary is one more than the maximum index value."
      ],
      "metadata": {
        "id": "QLlN9ZcMtn5J"
      }
    },
    {
      "cell_type": "code",
      "source": [
        "from tensorflow.keras.preprocessing.sequence import pad_sequences"
      ],
      "metadata": {
        "id": "qTr0Lf5ltm9w"
      },
      "execution_count": 37,
      "outputs": []
    },
    {
      "cell_type": "code",
      "source": [
        "X_train = pad_sequences(X_train, padding='post', maxlen=100)\n",
        "X_test = pad_sequences(X_test, padding='post', maxlen=100)"
      ],
      "metadata": {
        "id": "LHhnclXp3PZa"
      },
      "execution_count": 38,
      "outputs": []
    },
    {
      "cell_type": "markdown",
      "source": [
        "A neural network model requires fixed length inputs. So , pad_sequence is used to ensure that all input sequences have the same length .It does so by adding zeros until the length is 100 in our case ."
      ],
      "metadata": {
        "id": "JV6U9wt73gAK"
      }
    },
    {
      "cell_type": "code",
      "source": [],
      "metadata": {
        "id": "BRo9NF8r3axu"
      },
      "execution_count": null,
      "outputs": []
    }
  ]
}