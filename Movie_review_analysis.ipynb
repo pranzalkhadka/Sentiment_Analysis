{
  "nbformat": 4,
  "nbformat_minor": 0,
  "metadata": {
    "colab": {
      "provenance": []
    },
    "kernelspec": {
      "name": "python3",
      "display_name": "Python 3"
    },
    "language_info": {
      "name": "python"
    },
    "accelerator": "GPU",
    "gpuClass": "standard"
  },
  "cells": [
    {
      "cell_type": "code",
      "execution_count": 1,
      "metadata": {
        "colab": {
          "base_uri": "https://localhost:8080/"
        },
        "id": "gvDUeDdEWqKK",
        "outputId": "d1b13310-3c9c-490a-9715-68242c515bb7"
      },
      "outputs": [
        {
          "output_type": "stream",
          "name": "stdout",
          "text": [
            "Mounted at /content/drive\n"
          ]
        }
      ],
      "source": [
        "from google.colab import drive\n",
        "drive.mount('/content/drive')"
      ]
    },
    {
      "cell_type": "markdown",
      "source": [
        "Mounted google drive to colab for importing data"
      ],
      "metadata": {
        "id": "MmWF8-tzlC-_"
      }
    },
    {
      "cell_type": "code",
      "source": [
        "import pandas as pd\n",
        "import numpy as np"
      ],
      "metadata": {
        "id": "0L4bZ_AmXje1"
      },
      "execution_count": 2,
      "outputs": []
    },
    {
      "cell_type": "code",
      "source": [
        "movie_data = pd.read_csv(\"/content/drive/MyDrive/a1_IMDB_Dataset.csv\")"
      ],
      "metadata": {
        "id": "neM48B82XUGX"
      },
      "execution_count": 3,
      "outputs": []
    },
    {
      "cell_type": "code",
      "source": [
        "movie_data.head(3)"
      ],
      "metadata": {
        "colab": {
          "base_uri": "https://localhost:8080/",
          "height": 143
        },
        "id": "0qlLupmJXvb2",
        "outputId": "93807e37-5f45-4730-e6a2-fd147d3d55ec"
      },
      "execution_count": 4,
      "outputs": [
        {
          "output_type": "execute_result",
          "data": {
            "text/plain": [
              "                                              review sentiment\n",
              "0  One of the other reviewers has mentioned that ...  positive\n",
              "1  A wonderful little production. <br /><br />The...  positive\n",
              "2  I thought this was a wonderful way to spend ti...  positive"
            ],
            "text/html": [
              "\n",
              "  <div id=\"df-7eda2125-4a2d-45a6-9a3e-6324591febe2\">\n",
              "    <div class=\"colab-df-container\">\n",
              "      <div>\n",
              "<style scoped>\n",
              "    .dataframe tbody tr th:only-of-type {\n",
              "        vertical-align: middle;\n",
              "    }\n",
              "\n",
              "    .dataframe tbody tr th {\n",
              "        vertical-align: top;\n",
              "    }\n",
              "\n",
              "    .dataframe thead th {\n",
              "        text-align: right;\n",
              "    }\n",
              "</style>\n",
              "<table border=\"1\" class=\"dataframe\">\n",
              "  <thead>\n",
              "    <tr style=\"text-align: right;\">\n",
              "      <th></th>\n",
              "      <th>review</th>\n",
              "      <th>sentiment</th>\n",
              "    </tr>\n",
              "  </thead>\n",
              "  <tbody>\n",
              "    <tr>\n",
              "      <th>0</th>\n",
              "      <td>One of the other reviewers has mentioned that ...</td>\n",
              "      <td>positive</td>\n",
              "    </tr>\n",
              "    <tr>\n",
              "      <th>1</th>\n",
              "      <td>A wonderful little production. &lt;br /&gt;&lt;br /&gt;The...</td>\n",
              "      <td>positive</td>\n",
              "    </tr>\n",
              "    <tr>\n",
              "      <th>2</th>\n",
              "      <td>I thought this was a wonderful way to spend ti...</td>\n",
              "      <td>positive</td>\n",
              "    </tr>\n",
              "  </tbody>\n",
              "</table>\n",
              "</div>\n",
              "      <button class=\"colab-df-convert\" onclick=\"convertToInteractive('df-7eda2125-4a2d-45a6-9a3e-6324591febe2')\"\n",
              "              title=\"Convert this dataframe to an interactive table.\"\n",
              "              style=\"display:none;\">\n",
              "        \n",
              "  <svg xmlns=\"http://www.w3.org/2000/svg\" height=\"24px\"viewBox=\"0 0 24 24\"\n",
              "       width=\"24px\">\n",
              "    <path d=\"M0 0h24v24H0V0z\" fill=\"none\"/>\n",
              "    <path d=\"M18.56 5.44l.94 2.06.94-2.06 2.06-.94-2.06-.94-.94-2.06-.94 2.06-2.06.94zm-11 1L8.5 8.5l.94-2.06 2.06-.94-2.06-.94L8.5 2.5l-.94 2.06-2.06.94zm10 10l.94 2.06.94-2.06 2.06-.94-2.06-.94-.94-2.06-.94 2.06-2.06.94z\"/><path d=\"M17.41 7.96l-1.37-1.37c-.4-.4-.92-.59-1.43-.59-.52 0-1.04.2-1.43.59L10.3 9.45l-7.72 7.72c-.78.78-.78 2.05 0 2.83L4 21.41c.39.39.9.59 1.41.59.51 0 1.02-.2 1.41-.59l7.78-7.78 2.81-2.81c.8-.78.8-2.07 0-2.86zM5.41 20L4 18.59l7.72-7.72 1.47 1.35L5.41 20z\"/>\n",
              "  </svg>\n",
              "      </button>\n",
              "      \n",
              "  <style>\n",
              "    .colab-df-container {\n",
              "      display:flex;\n",
              "      flex-wrap:wrap;\n",
              "      gap: 12px;\n",
              "    }\n",
              "\n",
              "    .colab-df-convert {\n",
              "      background-color: #E8F0FE;\n",
              "      border: none;\n",
              "      border-radius: 50%;\n",
              "      cursor: pointer;\n",
              "      display: none;\n",
              "      fill: #1967D2;\n",
              "      height: 32px;\n",
              "      padding: 0 0 0 0;\n",
              "      width: 32px;\n",
              "    }\n",
              "\n",
              "    .colab-df-convert:hover {\n",
              "      background-color: #E2EBFA;\n",
              "      box-shadow: 0px 1px 2px rgba(60, 64, 67, 0.3), 0px 1px 3px 1px rgba(60, 64, 67, 0.15);\n",
              "      fill: #174EA6;\n",
              "    }\n",
              "\n",
              "    [theme=dark] .colab-df-convert {\n",
              "      background-color: #3B4455;\n",
              "      fill: #D2E3FC;\n",
              "    }\n",
              "\n",
              "    [theme=dark] .colab-df-convert:hover {\n",
              "      background-color: #434B5C;\n",
              "      box-shadow: 0px 1px 3px 1px rgba(0, 0, 0, 0.15);\n",
              "      filter: drop-shadow(0px 1px 2px rgba(0, 0, 0, 0.3));\n",
              "      fill: #FFFFFF;\n",
              "    }\n",
              "  </style>\n",
              "\n",
              "      <script>\n",
              "        const buttonEl =\n",
              "          document.querySelector('#df-7eda2125-4a2d-45a6-9a3e-6324591febe2 button.colab-df-convert');\n",
              "        buttonEl.style.display =\n",
              "          google.colab.kernel.accessAllowed ? 'block' : 'none';\n",
              "\n",
              "        async function convertToInteractive(key) {\n",
              "          const element = document.querySelector('#df-7eda2125-4a2d-45a6-9a3e-6324591febe2');\n",
              "          const dataTable =\n",
              "            await google.colab.kernel.invokeFunction('convertToInteractive',\n",
              "                                                     [key], {});\n",
              "          if (!dataTable) return;\n",
              "\n",
              "          const docLinkHtml = 'Like what you see? Visit the ' +\n",
              "            '<a target=\"_blank\" href=https://colab.research.google.com/notebooks/data_table.ipynb>data table notebook</a>'\n",
              "            + ' to learn more about interactive tables.';\n",
              "          element.innerHTML = '';\n",
              "          dataTable['output_type'] = 'display_data';\n",
              "          await google.colab.output.renderOutput(dataTable, element);\n",
              "          const docLink = document.createElement('div');\n",
              "          docLink.innerHTML = docLinkHtml;\n",
              "          element.appendChild(docLink);\n",
              "        }\n",
              "      </script>\n",
              "    </div>\n",
              "  </div>\n",
              "  "
            ]
          },
          "metadata": {},
          "execution_count": 4
        }
      ]
    },
    {
      "cell_type": "code",
      "source": [
        "movie_data.info"
      ],
      "metadata": {
        "colab": {
          "base_uri": "https://localhost:8080/"
        },
        "id": "C6mRiBqiXydm",
        "outputId": "87fde0ad-0672-4987-b37c-3f397ccb7382"
      },
      "execution_count": 5,
      "outputs": [
        {
          "output_type": "execute_result",
          "data": {
            "text/plain": [
              "<bound method DataFrame.info of                                                   review sentiment\n",
              "0      One of the other reviewers has mentioned that ...  positive\n",
              "1      A wonderful little production. <br /><br />The...  positive\n",
              "2      I thought this was a wonderful way to spend ti...  positive\n",
              "3      Basically there's a family where a little boy ...  negative\n",
              "4      Petter Mattei's \"Love in the Time of Money\" is...  positive\n",
              "...                                                  ...       ...\n",
              "49995  I thought this movie did a down right good job...  positive\n",
              "49996  Bad plot, bad dialogue, bad acting, idiotic di...  negative\n",
              "49997  I am a Catholic taught in parochial elementary...  negative\n",
              "49998  I'm going to have to disagree with the previou...  negative\n",
              "49999  No one expects the Star Trek movies to be high...  negative\n",
              "\n",
              "[50000 rows x 2 columns]>"
            ]
          },
          "metadata": {},
          "execution_count": 5
        }
      ]
    },
    {
      "cell_type": "code",
      "source": [
        "movie_data.shape"
      ],
      "metadata": {
        "colab": {
          "base_uri": "https://localhost:8080/"
        },
        "id": "sxCSAZp-X1VW",
        "outputId": "74c0ab0d-a98c-4141-e09c-dee4598c8880"
      },
      "execution_count": 6,
      "outputs": [
        {
          "output_type": "execute_result",
          "data": {
            "text/plain": [
              "(50000, 2)"
            ]
          },
          "metadata": {},
          "execution_count": 6
        }
      ]
    },
    {
      "cell_type": "markdown",
      "source": [
        "So there are 50000 rows corresponding to 50000 reviews and 2 columns which are review and sentiment "
      ],
      "metadata": {
        "id": "Q9q7OxW2lWZ3"
      }
    },
    {
      "cell_type": "code",
      "source": [
        "movie_data.isnull().values.any()"
      ],
      "metadata": {
        "colab": {
          "base_uri": "https://localhost:8080/"
        },
        "id": "gLOACHIDX4qa",
        "outputId": "05b87f9c-11cc-459e-8eab-3b028fb8138a"
      },
      "execution_count": 7,
      "outputs": [
        {
          "output_type": "execute_result",
          "data": {
            "text/plain": [
              "False"
            ]
          },
          "metadata": {},
          "execution_count": 7
        }
      ]
    },
    {
      "cell_type": "markdown",
      "source": [
        "No missing data is found"
      ],
      "metadata": {
        "id": "xaS5YhQ2lpAj"
      }
    },
    {
      "cell_type": "code",
      "source": [
        "movie_data.columns"
      ],
      "metadata": {
        "colab": {
          "base_uri": "https://localhost:8080/"
        },
        "id": "85XsNpIsYgYt",
        "outputId": "7f9eed10-6c7d-4987-c522-c9ec1d805210"
      },
      "execution_count": 8,
      "outputs": [
        {
          "output_type": "execute_result",
          "data": {
            "text/plain": [
              "Index(['review', 'sentiment'], dtype='object')"
            ]
          },
          "metadata": {},
          "execution_count": 8
        }
      ]
    },
    {
      "cell_type": "code",
      "source": [
        "movie_data[\"sentiment\"].value_counts()"
      ],
      "metadata": {
        "colab": {
          "base_uri": "https://localhost:8080/"
        },
        "id": "tuwmeG5CY84V",
        "outputId": "276c021e-7d1b-4389-e34b-edcb34b10c8a"
      },
      "execution_count": 9,
      "outputs": [
        {
          "output_type": "execute_result",
          "data": {
            "text/plain": [
              "positive    25000\n",
              "negative    25000\n",
              "Name: sentiment, dtype: int64"
            ]
          },
          "metadata": {},
          "execution_count": 9
        }
      ]
    },
    {
      "cell_type": "markdown",
      "source": [
        "So there are 25000 datapoints for each class . Hence the data is balanced."
      ],
      "metadata": {
        "id": "pbPGi4qqlv45"
      }
    },
    {
      "cell_type": "code",
      "source": [
        "movie_data.duplicated().values.any()"
      ],
      "metadata": {
        "colab": {
          "base_uri": "https://localhost:8080/"
        },
        "id": "QqPRUMrxZGS4",
        "outputId": "5a399b85-1a87-41d5-aafc-46d2c40efc0e"
      },
      "execution_count": 10,
      "outputs": [
        {
          "output_type": "execute_result",
          "data": {
            "text/plain": [
              "True"
            ]
          },
          "metadata": {},
          "execution_count": 10
        }
      ]
    },
    {
      "cell_type": "code",
      "source": [
        "movie_data.drop_duplicates(inplace=True)"
      ],
      "metadata": {
        "id": "R4s4Ld82Zlk9"
      },
      "execution_count": 11,
      "outputs": []
    },
    {
      "cell_type": "code",
      "source": [
        "movie_data.duplicated().values.any()"
      ],
      "metadata": {
        "colab": {
          "base_uri": "https://localhost:8080/"
        },
        "id": "MUSqE_4BZwJR",
        "outputId": "a224c201-0ad9-4fc8-ce23-5dbcee4c376b"
      },
      "execution_count": 12,
      "outputs": [
        {
          "output_type": "execute_result",
          "data": {
            "text/plain": [
              "False"
            ]
          },
          "metadata": {},
          "execution_count": 12
        }
      ]
    },
    {
      "cell_type": "markdown",
      "source": [
        "Removed the duplicate datas"
      ],
      "metadata": {
        "id": "fHcO5531l_ue"
      }
    },
    {
      "cell_type": "code",
      "source": [
        "movie_data[\"review\"][0]"
      ],
      "metadata": {
        "colab": {
          "base_uri": "https://localhost:8080/",
          "height": 140
        },
        "id": "RMxEHkscZxtn",
        "outputId": "fb97d16f-1e38-4e3d-f578-0efd65df16b1"
      },
      "execution_count": 13,
      "outputs": [
        {
          "output_type": "execute_result",
          "data": {
            "text/plain": [
              "\"One of the other reviewers has mentioned that after watching just 1 Oz episode you'll be hooked. They are right, as this is exactly what happened with me.<br /><br />The first thing that struck me about Oz was its brutality and unflinching scenes of violence, which set in right from the word GO. Trust me, this is not a show for the faint hearted or timid. This show pulls no punches with regards to drugs, sex or violence. Its is hardcore, in the classic use of the word.<br /><br />It is called OZ as that is the nickname given to the Oswald Maximum Security State Penitentary. It focuses mainly on Emerald City, an experimental section of the prison where all the cells have glass fronts and face inwards, so privacy is not high on the agenda. Em City is home to many..Aryans, Muslims, gangstas, Latinos, Christians, Italians, Irish and more....so scuffles, death stares, dodgy dealings and shady agreements are never far away.<br /><br />I would say the main appeal of the show is due to the fact that it goes where other shows wouldn't dare. Forget pretty pictures painted for mainstream audiences, forget charm, forget romance...OZ doesn't mess around. The first episode I ever saw struck me as so nasty it was surreal, I couldn't say I was ready for it, but as I watched more, I developed a taste for Oz, and got accustomed to the high levels of graphic violence. Not just violence, but injustice (crooked guards who'll be sold out for a nickel, inmates who'll kill on order and get away with it, well mannered, middle class inmates being turned into prison bitches due to their lack of street skills or prison experience) Watching Oz, you may become comfortable with what is uncomfortable viewing....thats if you can get in touch with your darker side.\""
            ],
            "application/vnd.google.colaboratory.intrinsic+json": {
              "type": "string"
            }
          },
          "metadata": {},
          "execution_count": 13
        }
      ]
    },
    {
      "cell_type": "markdown",
      "source": [
        "A sample data from the movie_review dataset shows html tags, apostrophe. These things do not provide any semantic meaning for the algorithm to learn . So, it is better to remove them ."
      ],
      "metadata": {
        "id": "zXuAKmYGmE4j"
      }
    },
    {
      "cell_type": "code",
      "source": [
        "import os\n",
        "import re"
      ],
      "metadata": {
        "id": "Ng373mg4aHQY"
      },
      "execution_count": 14,
      "outputs": []
    },
    {
      "cell_type": "code",
      "source": [
        "html_tag_remover = re.compile(r'<[^>]+>')\n",
        "\n",
        "def remove_tags(text):\n",
        "  return html_tag_remover.sub('', text)"
      ],
      "metadata": {
        "id": "TK1Xj-fzZ1JA"
      },
      "execution_count": 15,
      "outputs": []
    },
    {
      "cell_type": "markdown",
      "source": [
        "The remove_tags function detects anything opening with < and closing with > and replaces with empty space"
      ],
      "metadata": {
        "id": "ars_AJhBmqsa"
      }
    },
    {
      "cell_type": "code",
      "source": [
        "import nltk\n",
        "nltk.download('stopwords')"
      ],
      "metadata": {
        "colab": {
          "base_uri": "https://localhost:8080/"
        },
        "id": "QN8Kc6IYaNZC",
        "outputId": "04f750d7-4459-4f11-fcad-944289f82acb"
      },
      "execution_count": 16,
      "outputs": [
        {
          "output_type": "stream",
          "name": "stderr",
          "text": [
            "[nltk_data] Downloading package stopwords to /root/nltk_data...\n",
            "[nltk_data]   Unzipping corpora/stopwords.zip.\n"
          ]
        },
        {
          "output_type": "execute_result",
          "data": {
            "text/plain": [
              "True"
            ]
          },
          "metadata": {},
          "execution_count": 16
        }
      ]
    },
    {
      "cell_type": "code",
      "source": [
        "from nltk.corpus import stopwords"
      ],
      "metadata": {
        "id": "BWxbV2VRbIy3"
      },
      "execution_count": 17,
      "outputs": []
    },
    {
      "cell_type": "code",
      "source": [
        "def preprocess_text(sen):\n",
        "  sentence = sen.lower()\n",
        "  #Converted all texts to lower case\n",
        "\n",
        "  sentence = remove_tags(sentence)\n",
        "  #Removed html tags\n",
        "\n",
        "  sentence = re.sub('[^a-zA-Z]', ' ', sentence)\n",
        "  #Removed punctuations and numbers\n",
        "\n",
        "  sentence = re.sub(r\"\\s+[a-zA-Z]\\s+\", ' ', sentence) \n",
        "  #Removed apostrophe\n",
        "\n",
        "  sentence = re.sub(r'\\s+', ' ', sentence)\n",
        "  #Removed the extra spaces from the text\n",
        "\n",
        "  pattern = re.compile(r'\\b(' + r'|'.join(stopwords.words('english')) + r')\\b\\s*')\n",
        "  sentence = pattern.sub('', sentence)\n",
        "  #Removed Stopwords\n",
        "\n",
        "  return sentence"
      ],
      "metadata": {
        "id": "I3NOSXmIaQqm"
      },
      "execution_count": 18,
      "outputs": []
    },
    {
      "cell_type": "code",
      "source": [
        "Preprocessed_data = [ ]\n",
        "sentences = list(movie_data['review'])\n",
        "for i in sentences:\n",
        "  Preprocessed_data.append(preprocess_text(i))"
      ],
      "metadata": {
        "id": "RuDydCHHah57"
      },
      "execution_count": 19,
      "outputs": []
    },
    {
      "cell_type": "markdown",
      "source": [
        "Finally applied our preprocessing function on our movie dataset"
      ],
      "metadata": {
        "id": "4rK5Dr7XoZr0"
      }
    },
    {
      "cell_type": "code",
      "source": [
        "Preprocessed_data[0]"
      ],
      "metadata": {
        "colab": {
          "base_uri": "https://localhost:8080/",
          "height": 140
        },
        "id": "YoG75BcKaovx",
        "outputId": "02fe5c2b-9afb-4ffd-bae2-f0b57979d770"
      },
      "execution_count": 20,
      "outputs": [
        {
          "output_type": "execute_result",
          "data": {
            "text/plain": [
              "'one reviewers mentioned watching oz episode hooked right exactly happened first thing struck oz brutality unflinching scenes violence set right word go trust show faint hearted timid show pulls punches regards drugs sex violence hardcore classic use word called oz nickname given oswald maximum security state penitentary focuses mainly emerald city experimental section prison cells glass fronts face inwards privacy high agenda em city home many aryans muslims gangstas latinos christians italians irish scuffles death stares dodgy dealings shady agreements never far away would say main appeal show due fact goes shows dare forget pretty pictures painted mainstream audiences forget charm forget romance oz mess around first episode ever saw struck nasty surreal say ready watched developed taste oz got accustomed high levels graphic violence violence injustice crooked guards sold nickel inmates kill order get away well mannered middle class inmates turned prison bitches due lack street skills prison experience watching oz may become comfortable uncomfortable viewing thats get touch darker side '"
            ],
            "application/vnd.google.colaboratory.intrinsic+json": {
              "type": "string"
            }
          },
          "metadata": {},
          "execution_count": 20
        }
      ]
    },
    {
      "cell_type": "code",
      "source": [
        "y = movie_data['sentiment']\n",
        "\n",
        "labels = np.array(list(map(lambda x: 1 if x==\"positive\" else 0, y)))"
      ],
      "metadata": {
        "id": "YzwDo85Pi-Xm"
      },
      "execution_count": 21,
      "outputs": []
    },
    {
      "cell_type": "markdown",
      "source": [
        "Converted the class labels to 0 and 1"
      ],
      "metadata": {
        "id": "At_wH9jcqLyz"
      }
    },
    {
      "cell_type": "code",
      "source": [
        "from sklearn.model_selection import train_test_split"
      ],
      "metadata": {
        "id": "9VjD_pblqT1m"
      },
      "execution_count": 22,
      "outputs": []
    },
    {
      "cell_type": "code",
      "source": [
        "X_train, X_test, y_train, y_test = train_test_split(Preprocessed_data, labels, test_size=0.10, random_state=42)"
      ],
      "metadata": {
        "id": "35xZ_0wkqK3u"
      },
      "execution_count": 23,
      "outputs": []
    },
    {
      "cell_type": "markdown",
      "source": [
        "Finally, splitted the data into train and test with 80% of data going to the train set and rest to the test set"
      ],
      "metadata": {
        "id": "6MhsNKy5qrOn"
      }
    },
    {
      "cell_type": "code",
      "source": [
        "from keras.preprocessing.text import Tokenizer"
      ],
      "metadata": {
        "id": "PsEEgRvMqqOB"
      },
      "execution_count": 24,
      "outputs": []
    },
    {
      "cell_type": "code",
      "source": [
        "word_tokenizer = Tokenizer()\n",
        "word_tokenizer.fit_on_texts(X_train)"
      ],
      "metadata": {
        "id": "1ZG-mCDjrm4e"
      },
      "execution_count": 25,
      "outputs": []
    },
    {
      "cell_type": "code",
      "source": [
        "X_train = word_tokenizer.texts_to_sequences(X_train)\n",
        "X_test = word_tokenizer.texts_to_sequences(X_test)"
      ],
      "metadata": {
        "id": "TTdI_4cQrvty"
      },
      "execution_count": 26,
      "outputs": []
    },
    {
      "cell_type": "code",
      "source": [
        "print(X_train[:10])"
      ],
      "metadata": {
        "colab": {
          "base_uri": "https://localhost:8080/"
        },
        "id": "RWrViRWDr4FQ",
        "outputId": "2da1e60d-bf5f-4699-f5e7-a5383278f218"
      },
      "execution_count": 27,
      "outputs": [
        {
          "output_type": "stream",
          "name": "stdout",
          "text": [
            "[[2, 2013, 16, 202, 6224, 26206, 560, 2579, 3819, 770, 3048, 1453, 2038, 550, 14, 31578, 214, 650, 187, 279, 9, 25, 326, 112, 1453, 6267, 187, 22, 300, 3, 1823, 17, 27723, 1259, 3, 2257, 155, 847, 6, 9, 31578, 8, 16, 1, 185, 108, 10234, 625], [1513, 11, 125, 585, 1474, 252, 3975, 58, 472, 264, 91, 699, 163, 125, 11443, 1326, 149, 9977, 1019, 6268, 1, 941, 6, 4254, 119, 14206, 218, 29481, 34, 732, 3055, 1997, 9734, 3055, 191, 157, 273, 1327, 8618, 1411, 694, 1971, 4966, 7, 60, 3055, 737, 47883, 3444, 139, 281, 1010, 1656, 2, 2, 12656, 635, 3055, 1, 588, 76, 6225, 3098, 25, 4277, 186, 13, 321, 565, 1317, 175, 86, 106, 5392, 8258, 588, 76, 30, 24, 1619, 3, 193, 19812, 186, 202, 43, 1243, 2563, 1288, 34068, 109, 4945, 2563, 1288, 34068, 74, 19813, 23, 9328, 31579, 524, 1243, 880, 1808, 2526, 14813, 5654, 37, 667, 403, 3748, 3571, 1066, 1275, 469, 62, 43, 3960, 3011, 14207, 5698, 2381, 46, 3444, 234, 1118, 683, 16643, 1411, 125, 82, 41, 312, 17073, 494, 1243, 754, 30, 59, 5699, 667, 5455, 3555, 930, 2631, 3, 126, 86, 3055, 13117, 7464, 10110, 889, 2291, 9610, 142, 57, 8340, 3055, 3055, 153, 102, 3820, 10110, 11810, 5228, 1422, 8886, 379, 3749, 1784, 85, 259, 3004, 5297, 1615, 2900, 125, 378, 154, 288, 4604, 1042, 13664, 1394, 5297, 365, 3, 755, 49, 1306, 2, 2922, 281, 1243, 370, 494, 5455, 121, 92, 5455, 354, 5924, 1582, 26, 3883, 225, 5455, 121, 1243, 4144, 3055, 158, 49, 1243, 2994, 37, 5455, 3030, 354, 5321, 13118, 1586, 9002, 1445, 5321], [1653, 41527, 3411, 1828, 59180, 39, 175, 211, 5456, 59181, 1602, 3099, 5456, 1307, 1653, 16, 278, 3, 7863, 734, 1541, 19814, 40, 830, 10, 830, 13, 44, 345, 320, 98, 401, 1013, 15475, 522, 10, 3, 38, 22032, 98, 18, 409, 2923, 11811, 24973, 50, 1653, 1656, 169, 2069, 369, 9735, 11097, 1264, 160, 2923, 3750, 470, 9735, 413, 233, 378, 17074, 87, 262, 44, 378, 206, 409, 398, 551, 906, 4727, 273, 15832, 1828, 1653, 1656, 41, 9329, 110, 41528, 2612, 976, 1766, 125, 1661, 5456, 251, 40, 379, 2308, 307, 113, 27724, 565, 277, 743, 1548, 5456, 1468, 1933, 5959, 679, 14513, 2527, 12883, 136, 704, 281, 19, 54, 1567, 11, 181, 11627, 21, 140, 48, 567, 334, 1303, 3, 5456, 2601, 3099, 489, 77, 4, 278, 150, 617, 25, 78, 8887, 265, 278, 12, 250, 19139, 9470, 11098, 8341, 402, 559, 4, 2005, 426, 19, 736, 725, 570, 18, 4, 46, 477, 1454, 111, 496, 9735, 11097, 3325, 531, 286, 112, 843, 635, 6316, 376, 82, 48, 155, 1990, 166, 1115, 663, 39, 2361, 3534, 3556, 13, 21223, 29482, 278, 26, 9735, 13, 1568, 15833, 1445, 469, 10, 4, 11097, 278, 19, 7933, 4, 22932, 41529, 216, 10, 4, 982, 2024, 444, 382, 164, 1569, 1594, 9735, 268, 59182, 5548, 36, 46, 153, 531, 1497, 19, 174, 306, 780, 409, 13933, 2890, 2264, 2427, 213, 1497, 531, 947, 5076, 5655, 11628, 827, 1130, 344, 1056, 3793, 4165, 1701, 7596, 1828, 3864, 11, 1173, 3335, 1362, 413, 18547, 3821, 16, 361, 22, 48, 102, 528, 11097, 3457, 94, 348, 1569, 7, 38, 298, 347, 11098, 5880, 694, 409, 148, 9735, 5456, 125, 1683, 2283, 227, 507, 7, 60, 37294, 68, 140, 171, 323, 1766, 25, 23, 593, 7465, 5880, 215, 588, 410, 338, 128, 8, 745, 47884, 727, 246, 21223, 930, 1990, 9735, 5456, 7, 60, 9735, 9611, 27725, 69, 9611, 37294, 108, 20472, 9735, 1494, 3304, 933, 10, 31580, 5456, 296, 1896, 3493, 114, 13, 395, 7466, 1115, 6469, 6, 41530, 1945, 109, 420, 2828, 9735, 196, 133, 62, 4348, 14514, 293, 2464, 93, 1653, 611, 436, 21224, 153, 515, 99, 99], [30, 2729, 885, 12453, 12249, 2515, 2, 709, 622, 26207, 7794, 6354, 496, 13119, 13665, 2331, 20473, 5802, 2, 12884, 111, 26207, 57, 193, 34069, 10489, 180, 14208, 1741, 8619, 98, 5262, 184, 7934, 2331, 4810, 13934, 2640, 3, 619, 184, 1308, 14814, 2, 11812, 59183, 508, 19815, 144, 55, 761, 2331, 477, 22, 5802, 1202, 20, 3, 1756, 728, 529, 368, 63, 3237, 98, 23892, 12453, 59184, 368, 3511, 3976, 5802, 9105, 887, 13665, 3512, 189, 11629, 954, 3085, 242, 2465, 6891, 47885, 3794, 63, 1767, 1542, 645, 144, 9736, 126, 184, 23, 259, 12884, 111, 1180, 11812, 740, 463, 63, 9, 2988, 5229, 139, 1542, 17528, 7255, 8888, 954, 651, 787, 9862, 4549, 4311, 1441, 819, 9471, 1542, 6891, 10627, 5802, 2613, 3808, 1180, 1392, 6516, 111, 13120, 59185, 1411, 12657, 23893, 184, 9611, 295, 2580, 1625, 1402, 508, 954, 2343, 9736, 1308, 3, 31581, 541, 184, 94, 24974, 435, 28, 1317, 1537, 623, 269, 59186, 57, 7524, 623, 18, 1537, 2331, 4010, 2901, 349, 104, 3, 13665, 1269, 720, 7255, 184, 1388, 14815, 676, 12884, 111, 104, 2944, 2583, 3086, 29483, 7467, 45], [4237, 1206, 20, 187, 380, 227, 6045, 5770, 1712, 2060, 14515, 1568, 453, 822, 101, 49, 421, 157, 34, 18, 1299, 549, 318, 3108, 155, 19140, 478, 29484, 24975, 6517, 29, 133, 592, 10111, 1597, 2989], [3075, 59187, 1, 406, 3, 373, 44, 8179, 4362, 7795, 308, 5348, 4182, 3513, 1380, 265, 11247, 47886, 158, 117, 13, 187, 22, 1, 343, 523, 968, 130, 158, 14516, 99, 262, 2, 163, 6, 19, 187, 343, 31, 3907, 1013, 393, 255, 660, 579, 57, 1202, 2902, 596, 31582, 403, 509, 54, 582, 130, 1881, 6226, 77, 215, 7663, 4698, 423, 8088, 18, 5, 3], [356, 1948, 8889, 96, 292, 24976, 8432, 6046, 5322, 190, 172, 943, 1882, 945, 578, 15834, 80, 96, 5057, 207, 10768, 357, 6355, 82, 20, 22033, 2453, 66, 4, 29485, 18018, 27726, 128, 75, 7796, 3822, 1837, 4062, 13, 302, 24, 656, 4097, 363, 679, 460, 755, 273, 452, 106], [356, 11813, 285, 785, 5849, 1511, 1542, 1641, 7797, 2717, 2476, 1074, 305, 133, 3347, 6047, 1511, 1514, 10769, 12033, 31, 91, 8890, 102, 101, 1468, 183, 1515, 101, 34070, 12, 1132, 457, 129], [3535, 891, 8180, 631, 89, 9978, 34, 670, 1, 1838, 1603, 3326, 1, 15835, 856, 2431, 237, 369, 15836, 1191, 155, 59188, 90, 856, 2128, 816, 27, 48, 297, 973, 6892, 26, 247, 305, 54, 47887, 7664, 34, 1366, 696, 579, 1083, 104, 241, 843, 84, 70, 1089, 3], [10, 383, 1, 3809, 97, 208, 9, 1075, 750, 385, 4581, 3809, 97, 2391, 630, 16, 27, 102, 3180, 1177, 146, 1194, 7191, 284, 3327, 652, 294, 3031, 236, 102, 1272, 4967, 4581, 1781, 19141, 42, 15, 517, 1522, 4872, 652, 1809, 236, 26, 509, 27727, 428, 1303, 866, 280, 164, 294, 3031, 29486, 164, 1917, 1194, 6470, 238, 1198, 134, 914, 2308, 418, 9, 1633, 881, 287, 311, 46, 6048, 1931, 4828, 4828, 2781, 18548, 8089, 5654, 236, 660, 8, 15, 132, 2766, 303, 211, 1056, 280, 3327, 3238, 1456, 7935, 146, 33, 10, 295, 1543, 3327, 228, 2685, 45, 16, 1, 181]]\n"
          ]
        }
      ]
    },
    {
      "cell_type": "markdown",
      "source": [
        "So we have splitted our text into individual tokens and converted them to numeric form"
      ],
      "metadata": {
        "id": "ph-k3jTAsFgv"
      }
    },
    {
      "cell_type": "code",
      "source": [
        "#word_tokenizer.word_index"
      ],
      "metadata": {
        "id": "8gb0Gup4r7jL"
      },
      "execution_count": 28,
      "outputs": []
    },
    {
      "cell_type": "code",
      "source": [
        "vocab_length = len(word_tokenizer.word_index) + 1\n",
        "print(vocab_length)"
      ],
      "metadata": {
        "colab": {
          "base_uri": "https://localhost:8080/"
        },
        "id": "6EVqoXw2s96y",
        "outputId": "9e762d84-8dd7-4522-8edd-bc5eb0d9d196"
      },
      "execution_count": 29,
      "outputs": [
        {
          "output_type": "stream",
          "name": "stdout",
          "text": [
            "96875\n"
          ]
        }
      ]
    },
    {
      "cell_type": "markdown",
      "source": [
        "This is the total number of words in the vocabulary of our text corpus.   The +1 is added to the length of the word index because the index starts from 1, not 0, so the actual number of words in the vocabulary is one more than the maximum index value."
      ],
      "metadata": {
        "id": "QLlN9ZcMtn5J"
      }
    },
    {
      "cell_type": "code",
      "source": [
        "from tensorflow.keras.preprocessing.sequence import pad_sequences"
      ],
      "metadata": {
        "id": "qTr0Lf5ltm9w"
      },
      "execution_count": 30,
      "outputs": []
    },
    {
      "cell_type": "code",
      "source": [
        "X_train = pad_sequences(X_train, padding='post', maxlen=100)\n",
        "X_test = pad_sequences(X_test, padding='post', maxlen=100)"
      ],
      "metadata": {
        "id": "LHhnclXp3PZa"
      },
      "execution_count": 31,
      "outputs": []
    },
    {
      "cell_type": "markdown",
      "source": [
        "A neural network model requires fixed length inputs. So , pad_sequence is used to ensure that all input sequences have the same length .It does so by adding zeros until the length is 100 in our case ."
      ],
      "metadata": {
        "id": "JV6U9wt73gAK"
      }
    },
    {
      "cell_type": "code",
      "source": [
        "import tensorflow as tf\n",
        "from keras.layers import LSTM\n",
        "from keras.models import Sequential\n",
        "from keras.layers.core import Activation,Dense\n",
        "from keras.layers import Embedding"
      ],
      "metadata": {
        "id": "A7uGleXFoXHQ"
      },
      "execution_count": 41,
      "outputs": []
    },
    {
      "cell_type": "code",
      "source": [
        "model = tf.keras.Sequential([\n",
        "    tf.keras.layers.Embedding(vocab_length, 100),\n",
        "    tf.keras.layers.Bidirectional(tf.keras.layers.LSTM(20, return_sequences=True)),\n",
        "    tf.keras.layers.Bidirectional(tf.keras.layers.LSTM(20)),\n",
        "    tf.keras.layers.Dense(20, activation='relu'),\n",
        "    tf.keras.layers.Dense(1, activation='sigmoid')\n",
        "])"
      ],
      "metadata": {
        "id": "kdljiJVOypqF"
      },
      "execution_count": 34,
      "outputs": []
    },
    {
      "cell_type": "markdown",
      "source": [
        "Created a RNN model using Bidirectional LSTM"
      ],
      "metadata": {
        "id": "Ek7CdAEEFvc8"
      }
    },
    {
      "cell_type": "code",
      "source": [
        "model.compile(loss=\"binary_crossentropy\",optimizer=\"adam\",metrics=[\"accuracy\"])\n",
        "print(model.summary())"
      ],
      "metadata": {
        "colab": {
          "base_uri": "https://localhost:8080/"
        },
        "id": "Wk_9560oxXPJ",
        "outputId": "aeee8ada-d36f-4c40-eea1-928acce0d1d7"
      },
      "execution_count": 35,
      "outputs": [
        {
          "output_type": "stream",
          "name": "stdout",
          "text": [
            "Model: \"sequential\"\n",
            "_________________________________________________________________\n",
            " Layer (type)                Output Shape              Param #   \n",
            "=================================================================\n",
            " embedding (Embedding)       (None, None, 100)         9687500   \n",
            "                                                                 \n",
            " bidirectional (Bidirectiona  (None, None, 40)         19360     \n",
            " l)                                                              \n",
            "                                                                 \n",
            " bidirectional_1 (Bidirectio  (None, 40)               9760      \n",
            " nal)                                                            \n",
            "                                                                 \n",
            " dense (Dense)               (None, 20)                820       \n",
            "                                                                 \n",
            " dense_1 (Dense)             (None, 1)                 21        \n",
            "                                                                 \n",
            "=================================================================\n",
            "Total params: 9,717,461\n",
            "Trainable params: 9,717,461\n",
            "Non-trainable params: 0\n",
            "_________________________________________________________________\n",
            "None\n"
          ]
        }
      ]
    },
    {
      "cell_type": "code",
      "source": [
        "model_history = model.fit(X_train,y_train,batch_size=128, epochs=10, verbose=1, validation_split=0.2)"
      ],
      "metadata": {
        "colab": {
          "base_uri": "https://localhost:8080/"
        },
        "id": "Q3Ky0yHLy8ci",
        "outputId": "e8c96c5a-9c4d-4120-99c5-a121687058a8"
      },
      "execution_count": 36,
      "outputs": [
        {
          "output_type": "stream",
          "name": "stdout",
          "text": [
            "Epoch 1/10\n",
            "279/279 [==============================] - 65s 174ms/step - loss: 0.3852 - accuracy: 0.8212 - val_loss: 0.2903 - val_accuracy: 0.8824\n",
            "Epoch 2/10\n",
            "279/279 [==============================] - 28s 101ms/step - loss: 0.1574 - accuracy: 0.9429 - val_loss: 0.3256 - val_accuracy: 0.8685\n",
            "Epoch 3/10\n",
            "279/279 [==============================] - 17s 60ms/step - loss: 0.0718 - accuracy: 0.9766 - val_loss: 0.5152 - val_accuracy: 0.8668\n",
            "Epoch 4/10\n",
            "279/279 [==============================] - 14s 50ms/step - loss: 0.0372 - accuracy: 0.9888 - val_loss: 0.5068 - val_accuracy: 0.8640\n",
            "Epoch 5/10\n",
            "279/279 [==============================] - 11s 40ms/step - loss: 0.0210 - accuracy: 0.9936 - val_loss: 0.5571 - val_accuracy: 0.8580\n",
            "Epoch 6/10\n",
            "279/279 [==============================] - 11s 40ms/step - loss: 0.0177 - accuracy: 0.9942 - val_loss: 0.6898 - val_accuracy: 0.8596\n",
            "Epoch 7/10\n",
            "279/279 [==============================] - 10s 36ms/step - loss: 0.0159 - accuracy: 0.9951 - val_loss: 0.6560 - val_accuracy: 0.8585\n",
            "Epoch 8/10\n",
            "279/279 [==============================] - 8s 28ms/step - loss: 0.0096 - accuracy: 0.9969 - val_loss: 0.7119 - val_accuracy: 0.8573\n",
            "Epoch 9/10\n",
            "279/279 [==============================] - 9s 33ms/step - loss: 0.0056 - accuracy: 0.9982 - val_loss: 0.8237 - val_accuracy: 0.8566\n",
            "Epoch 10/10\n",
            "279/279 [==============================] - 9s 33ms/step - loss: 0.0071 - accuracy: 0.9974 - val_loss: 0.7997 - val_accuracy: 0.8491\n"
          ]
        }
      ]
    },
    {
      "cell_type": "code",
      "source": [
        "score = model.evaluate(X_test, y_test, verbose=1)"
      ],
      "metadata": {
        "colab": {
          "base_uri": "https://localhost:8080/"
        },
        "id": "kH3p-GCYy-_X",
        "outputId": "04e960d0-b6e4-40e7-d2e6-e08c30fbdf17"
      },
      "execution_count": 37,
      "outputs": [
        {
          "output_type": "stream",
          "name": "stdout",
          "text": [
            "155/155 [==============================] - 1s 8ms/step - loss: 0.7535 - accuracy: 0.8564\n"
          ]
        }
      ]
    },
    {
      "cell_type": "code",
      "source": [
        "print(model_history.history.keys())"
      ],
      "metadata": {
        "colab": {
          "base_uri": "https://localhost:8080/"
        },
        "id": "LiyqEfm7BQ7P",
        "outputId": "eae49bd9-6ac9-45a4-80d6-19966de04ab6"
      },
      "execution_count": 39,
      "outputs": [
        {
          "output_type": "stream",
          "name": "stdout",
          "text": [
            "dict_keys(['loss', 'accuracy', 'val_loss', 'val_accuracy'])\n"
          ]
        }
      ]
    },
    {
      "cell_type": "code",
      "source": [
        "import matplotlib.pyplot as plt\n",
        "plt.plot(model_history.history['accuracy'])\n",
        "plt.plot(model_history.history['val_accuracy'])\n",
        "\n",
        "plt.title('model accuracy')\n",
        "plt.ylabel('accuracy')\n",
        "plt.xlabel('epoch')\n",
        "plt.legend(['train','test'], loc='upper left')\n",
        "plt.show()\n",
        "\n",
        "plt.plot(model_history.history['loss'])\n",
        "plt.plot(model_history.history['val_loss'])\n",
        "\n",
        "plt.title('model loss')\n",
        "plt.ylabel('loss')\n",
        "plt.xlabel('epoch')\n",
        "plt.legend(['train','test'], loc='upper left')\n",
        "plt.show()"
      ],
      "metadata": {
        "colab": {
          "base_uri": "https://localhost:8080/",
          "height": 573
        },
        "id": "92J5-6J1_-lr",
        "outputId": "c892671d-601f-4023-8ee0-f861516e9573"
      },
      "execution_count": 40,
      "outputs": [
        {
          "output_type": "display_data",
          "data": {
            "text/plain": [
              "<Figure size 432x288 with 1 Axes>"
            ],
            "image/png": "[encoded data removed]"
          },
          "metadata": {
            "needs_background": "light"
          }
        },
        {
          "output_type": "display_data",
          "data": {
            "text/plain": [
              "<Figure size 432x288 with 1 Axes>"
            ],
            "image/png": "[encoded data removed]"
          },
          "metadata": {
            "needs_background": "light"
          }
        }
      ]
    },
    {
      "cell_type": "code",
      "source": [],
      "metadata": {
        "id": "-wkKYG57AW3-"
      },
      "execution_count": null,
      "outputs": []
    }
  ]
}