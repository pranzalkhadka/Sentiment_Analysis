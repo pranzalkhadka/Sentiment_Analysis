{
  "nbformat": 4,
  "nbformat_minor": 0,
  "metadata": {
    "colab": {
      "provenance": []
    },
    "kernelspec": {
      "name": "python3",
      "display_name": "Python 3"
    },
    "language_info": {
      "name": "python"
    },
    "accelerator": "GPU",
    "gpuClass": "standard"
  },
  "cells": [
    {
      "cell_type": "code",
      "execution_count": 1,
      "metadata": {
        "colab": {
          "base_uri": "https://localhost:8080/"
        },
        "id": "gvDUeDdEWqKK",
        "outputId": "f29d5fa4-0c49-4156-ef8e-1e519478fcf9"
      },
      "outputs": [
        {
          "output_type": "stream",
          "name": "stdout",
          "text": [
            "Mounted at /content/drive\n"
          ]
        }
      ],
      "source": [
        "from google.colab import drive\n",
        "drive.mount('/content/drive')"
      ]
    },
    {
      "cell_type": "markdown",
      "source": [
        "Mounted google drive to colab for importing data"
      ],
      "metadata": {
        "id": "MmWF8-tzlC-_"
      }
    },
    {
      "cell_type": "code",
      "source": [
        "import pandas as pd\n",
        "import numpy as np"
      ],
      "metadata": {
        "id": "0L4bZ_AmXje1"
      },
      "execution_count": 2,
      "outputs": []
    },
    {
      "cell_type": "code",
      "source": [
        "movie_data = pd.read_csv(\"/content/drive/MyDrive/a1_IMDB_Dataset.csv\")"
      ],
      "metadata": {
        "id": "neM48B82XUGX"
      },
      "execution_count": 3,
      "outputs": []
    },
    {
      "cell_type": "code",
      "source": [
        "movie_data.head(3)"
      ],
      "metadata": {
        "colab": {
          "base_uri": "https://localhost:8080/",
          "height": 143
        },
        "id": "0qlLupmJXvb2",
        "outputId": "10f13449-cbcc-4a24-c669-3ddde71aff1a"
      },
      "execution_count": 4,
      "outputs": [
        {
          "output_type": "execute_result",
          "data": {
            "text/plain": [
              "                                              review sentiment\n",
              "0  One of the other reviewers has mentioned that ...  positive\n",
              "1  A wonderful little production. <br /><br />The...  positive\n",
              "2  I thought this was a wonderful way to spend ti...  positive"
            ],
            "text/html": [
              "\n",
              "  <div id=\"df-56776ecc-48fe-408c-9cb8-301a8b9156f5\">\n",
              "    <div class=\"colab-df-container\">\n",
              "      <div>\n",
              "<style scoped>\n",
              "    .dataframe tbody tr th:only-of-type {\n",
              "        vertical-align: middle;\n",
              "    }\n",
              "\n",
              "    .dataframe tbody tr th {\n",
              "        vertical-align: top;\n",
              "    }\n",
              "\n",
              "    .dataframe thead th {\n",
              "        text-align: right;\n",
              "    }\n",
              "</style>\n",
              "<table border=\"1\" class=\"dataframe\">\n",
              "  <thead>\n",
              "    <tr style=\"text-align: right;\">\n",
              "      <th></th>\n",
              "      <th>review</th>\n",
              "      <th>sentiment</th>\n",
              "    </tr>\n",
              "  </thead>\n",
              "  <tbody>\n",
              "    <tr>\n",
              "      <th>0</th>\n",
              "      <td>One of the other reviewers has mentioned that ...</td>\n",
              "      <td>positive</td>\n",
              "    </tr>\n",
              "    <tr>\n",
              "      <th>1</th>\n",
              "      <td>A wonderful little production. &lt;br /&gt;&lt;br /&gt;The...</td>\n",
              "      <td>positive</td>\n",
              "    </tr>\n",
              "    <tr>\n",
              "      <th>2</th>\n",
              "      <td>I thought this was a wonderful way to spend ti...</td>\n",
              "      <td>positive</td>\n",
              "    </tr>\n",
              "  </tbody>\n",
              "</table>\n",
              "</div>\n",
              "      <button class=\"colab-df-convert\" onclick=\"convertToInteractive('df-56776ecc-48fe-408c-9cb8-301a8b9156f5')\"\n",
              "              title=\"Convert this dataframe to an interactive table.\"\n",
              "              style=\"display:none;\">\n",
              "        \n",
              "  <svg xmlns=\"http://www.w3.org/2000/svg\" height=\"24px\"viewBox=\"0 0 24 24\"\n",
              "       width=\"24px\">\n",
              "    <path d=\"M0 0h24v24H0V0z\" fill=\"none\"/>\n",
              "    <path d=\"M18.56 5.44l.94 2.06.94-2.06 2.06-.94-2.06-.94-.94-2.06-.94 2.06-2.06.94zm-11 1L8.5 8.5l.94-2.06 2.06-.94-2.06-.94L8.5 2.5l-.94 2.06-2.06.94zm10 10l.94 2.06.94-2.06 2.06-.94-2.06-.94-.94-2.06-.94 2.06-2.06.94z\"/><path d=\"M17.41 7.96l-1.37-1.37c-.4-.4-.92-.59-1.43-.59-.52 0-1.04.2-1.43.59L10.3 9.45l-7.72 7.72c-.78.78-.78 2.05 0 2.83L4 21.41c.39.39.9.59 1.41.59.51 0 1.02-.2 1.41-.59l7.78-7.78 2.81-2.81c.8-.78.8-2.07 0-2.86zM5.41 20L4 18.59l7.72-7.72 1.47 1.35L5.41 20z\"/>\n",
              "  </svg>\n",
              "      </button>\n",
              "      \n",
              "  <style>\n",
              "    .colab-df-container {\n",
              "      display:flex;\n",
              "      flex-wrap:wrap;\n",
              "      gap: 12px;\n",
              "    }\n",
              "\n",
              "    .colab-df-convert {\n",
              "      background-color: #E8F0FE;\n",
              "      border: none;\n",
              "      border-radius: 50%;\n",
              "      cursor: pointer;\n",
              "      display: none;\n",
              "      fill: #1967D2;\n",
              "      height: 32px;\n",
              "      padding: 0 0 0 0;\n",
              "      width: 32px;\n",
              "    }\n",
              "\n",
              "    .colab-df-convert:hover {\n",
              "      background-color: #E2EBFA;\n",
              "      box-shadow: 0px 1px 2px rgba(60, 64, 67, 0.3), 0px 1px 3px 1px rgba(60, 64, 67, 0.15);\n",
              "      fill: #174EA6;\n",
              "    }\n",
              "\n",
              "    [theme=dark] .colab-df-convert {\n",
              "      background-color: #3B4455;\n",
              "      fill: #D2E3FC;\n",
              "    }\n",
              "\n",
              "    [theme=dark] .colab-df-convert:hover {\n",
              "      background-color: #434B5C;\n",
              "      box-shadow: 0px 1px 3px 1px rgba(0, 0, 0, 0.15);\n",
              "      filter: drop-shadow(0px 1px 2px rgba(0, 0, 0, 0.3));\n",
              "      fill: #FFFFFF;\n",
              "    }\n",
              "  </style>\n",
              "\n",
              "      <script>\n",
              "        const buttonEl =\n",
              "          document.querySelector('#df-56776ecc-48fe-408c-9cb8-301a8b9156f5 button.colab-df-convert');\n",
              "        buttonEl.style.display =\n",
              "          google.colab.kernel.accessAllowed ? 'block' : 'none';\n",
              "\n",
              "        async function convertToInteractive(key) {\n",
              "          const element = document.querySelector('#df-56776ecc-48fe-408c-9cb8-301a8b9156f5');\n",
              "          const dataTable =\n",
              "            await google.colab.kernel.invokeFunction('convertToInteractive',\n",
              "                                                     [key], {});\n",
              "          if (!dataTable) return;\n",
              "\n",
              "          const docLinkHtml = 'Like what you see? Visit the ' +\n",
              "            '<a target=\"_blank\" href=https://colab.research.google.com/notebooks/data_table.ipynb>data table notebook</a>'\n",
              "            + ' to learn more about interactive tables.';\n",
              "          element.innerHTML = '';\n",
              "          dataTable['output_type'] = 'display_data';\n",
              "          await google.colab.output.renderOutput(dataTable, element);\n",
              "          const docLink = document.createElement('div');\n",
              "          docLink.innerHTML = docLinkHtml;\n",
              "          element.appendChild(docLink);\n",
              "        }\n",
              "      </script>\n",
              "    </div>\n",
              "  </div>\n",
              "  "
            ]
          },
          "metadata": {},
          "execution_count": 4
        }
      ]
    },
    {
      "cell_type": "code",
      "source": [
        "movie_data.info"
      ],
      "metadata": {
        "colab": {
          "base_uri": "https://localhost:8080/"
        },
        "id": "C6mRiBqiXydm",
        "outputId": "505d04aa-babb-4310-a177-f086b996fd2a"
      },
      "execution_count": 5,
      "outputs": [
        {
          "output_type": "execute_result",
          "data": {
            "text/plain": [
              "<bound method DataFrame.info of                                                   review sentiment\n",
              "0      One of the other reviewers has mentioned that ...  positive\n",
              "1      A wonderful little production. <br /><br />The...  positive\n",
              "2      I thought this was a wonderful way to spend ti...  positive\n",
              "3      Basically there's a family where a little boy ...  negative\n",
              "4      Petter Mattei's \"Love in the Time of Money\" is...  positive\n",
              "...                                                  ...       ...\n",
              "49995  I thought this movie did a down right good job...  positive\n",
              "49996  Bad plot, bad dialogue, bad acting, idiotic di...  negative\n",
              "49997  I am a Catholic taught in parochial elementary...  negative\n",
              "49998  I'm going to have to disagree with the previou...  negative\n",
              "49999  No one expects the Star Trek movies to be high...  negative\n",
              "\n",
              "[50000 rows x 2 columns]>"
            ]
          },
          "metadata": {},
          "execution_count": 5
        }
      ]
    },
    {
      "cell_type": "code",
      "source": [
        "movie_data.shape"
      ],
      "metadata": {
        "colab": {
          "base_uri": "https://localhost:8080/"
        },
        "id": "sxCSAZp-X1VW",
        "outputId": "830be1e9-1ee5-4e21-e0a7-32e9379d4eaf"
      },
      "execution_count": 6,
      "outputs": [
        {
          "output_type": "execute_result",
          "data": {
            "text/plain": [
              "(50000, 2)"
            ]
          },
          "metadata": {},
          "execution_count": 6
        }
      ]
    },
    {
      "cell_type": "markdown",
      "source": [
        "So there are 50000 rows corresponding to 50000 reviews and 2 columns which are review and sentiment "
      ],
      "metadata": {
        "id": "Q9q7OxW2lWZ3"
      }
    },
    {
      "cell_type": "code",
      "source": [
        "movie_data.isnull().values.any()"
      ],
      "metadata": {
        "colab": {
          "base_uri": "https://localhost:8080/"
        },
        "id": "gLOACHIDX4qa",
        "outputId": "79a1af9d-7c08-4e27-b23e-bfc04b257baa"
      },
      "execution_count": 7,
      "outputs": [
        {
          "output_type": "execute_result",
          "data": {
            "text/plain": [
              "False"
            ]
          },
          "metadata": {},
          "execution_count": 7
        }
      ]
    },
    {
      "cell_type": "markdown",
      "source": [
        "No missing data is found"
      ],
      "metadata": {
        "id": "xaS5YhQ2lpAj"
      }
    },
    {
      "cell_type": "code",
      "source": [
        "movie_data.columns"
      ],
      "metadata": {
        "colab": {
          "base_uri": "https://localhost:8080/"
        },
        "id": "85XsNpIsYgYt",
        "outputId": "1257b3dc-91e7-4440-b9cc-229bf8be5f35"
      },
      "execution_count": 8,
      "outputs": [
        {
          "output_type": "execute_result",
          "data": {
            "text/plain": [
              "Index(['review', 'sentiment'], dtype='object')"
            ]
          },
          "metadata": {},
          "execution_count": 8
        }
      ]
    },
    {
      "cell_type": "code",
      "source": [
        "movie_data[\"sentiment\"].value_counts()"
      ],
      "metadata": {
        "colab": {
          "base_uri": "https://localhost:8080/"
        },
        "id": "tuwmeG5CY84V",
        "outputId": "6db5b419-2e9f-4688-ba34-ad18ac6583c4"
      },
      "execution_count": 9,
      "outputs": [
        {
          "output_type": "execute_result",
          "data": {
            "text/plain": [
              "positive    25000\n",
              "negative    25000\n",
              "Name: sentiment, dtype: int64"
            ]
          },
          "metadata": {},
          "execution_count": 9
        }
      ]
    },
    {
      "cell_type": "markdown",
      "source": [
        "So there are 25000 datapoints for each class . Hence the data is balanced."
      ],
      "metadata": {
        "id": "pbPGi4qqlv45"
      }
    },
    {
      "cell_type": "code",
      "source": [
        "movie_data.duplicated().values.any()"
      ],
      "metadata": {
        "colab": {
          "base_uri": "https://localhost:8080/"
        },
        "id": "QqPRUMrxZGS4",
        "outputId": "5a20bb6b-2008-4f8c-81bc-3fe63c4cddb5"
      },
      "execution_count": 10,
      "outputs": [
        {
          "output_type": "execute_result",
          "data": {
            "text/plain": [
              "True"
            ]
          },
          "metadata": {},
          "execution_count": 10
        }
      ]
    },
    {
      "cell_type": "code",
      "source": [
        "movie_data.drop_duplicates(inplace=True)"
      ],
      "metadata": {
        "id": "R4s4Ld82Zlk9"
      },
      "execution_count": 11,
      "outputs": []
    },
    {
      "cell_type": "code",
      "source": [
        "movie_data.duplicated().values.any()"
      ],
      "metadata": {
        "colab": {
          "base_uri": "https://localhost:8080/"
        },
        "id": "MUSqE_4BZwJR",
        "outputId": "dc9c9676-ba10-4e0c-e7d3-49e4664a815a"
      },
      "execution_count": 12,
      "outputs": [
        {
          "output_type": "execute_result",
          "data": {
            "text/plain": [
              "False"
            ]
          },
          "metadata": {},
          "execution_count": 12
        }
      ]
    },
    {
      "cell_type": "markdown",
      "source": [
        "Removed the duplicate datas"
      ],
      "metadata": {
        "id": "fHcO5531l_ue"
      }
    },
    {
      "cell_type": "code",
      "source": [
        "movie_data[\"review\"][0]"
      ],
      "metadata": {
        "colab": {
          "base_uri": "https://localhost:8080/",
          "height": 140
        },
        "id": "RMxEHkscZxtn",
        "outputId": "94bea0a5-6919-45e4-96d6-31b1e34651e3"
      },
      "execution_count": 13,
      "outputs": [
        {
          "output_type": "execute_result",
          "data": {
            "text/plain": [
              "\"One of the other reviewers has mentioned that after watching just 1 Oz episode you'll be hooked. They are right, as this is exactly what happened with me.<br /><br />The first thing that struck me about Oz was its brutality and unflinching scenes of violence, which set in right from the word GO. Trust me, this is not a show for the faint hearted or timid. This show pulls no punches with regards to drugs, sex or violence. Its is hardcore, in the classic use of the word.<br /><br />It is called OZ as that is the nickname given to the Oswald Maximum Security State Penitentary. It focuses mainly on Emerald City, an experimental section of the prison where all the cells have glass fronts and face inwards, so privacy is not high on the agenda. Em City is home to many..Aryans, Muslims, gangstas, Latinos, Christians, Italians, Irish and more....so scuffles, death stares, dodgy dealings and shady agreements are never far away.<br /><br />I would say the main appeal of the show is due to the fact that it goes where other shows wouldn't dare. Forget pretty pictures painted for mainstream audiences, forget charm, forget romance...OZ doesn't mess around. The first episode I ever saw struck me as so nasty it was surreal, I couldn't say I was ready for it, but as I watched more, I developed a taste for Oz, and got accustomed to the high levels of graphic violence. Not just violence, but injustice (crooked guards who'll be sold out for a nickel, inmates who'll kill on order and get away with it, well mannered, middle class inmates being turned into prison bitches due to their lack of street skills or prison experience) Watching Oz, you may become comfortable with what is uncomfortable viewing....thats if you can get in touch with your darker side.\""
            ],
            "application/vnd.google.colaboratory.intrinsic+json": {
              "type": "string"
            }
          },
          "metadata": {},
          "execution_count": 13
        }
      ]
    },
    {
      "cell_type": "markdown",
      "source": [
        "A sample data from the movie_review dataset shows html tags, apostrophe. These things do not provide any semantic meaning for the algorithm to learn . So, it is better to remove them ."
      ],
      "metadata": {
        "id": "zXuAKmYGmE4j"
      }
    },
    {
      "cell_type": "code",
      "source": [
        "import os\n",
        "import re"
      ],
      "metadata": {
        "id": "Ng373mg4aHQY"
      },
      "execution_count": 14,
      "outputs": []
    },
    {
      "cell_type": "code",
      "source": [
        "html_tag_remover = re.compile(r'<[^>]+>')\n",
        "\n",
        "def remove_tags(text):\n",
        "  return html_tag_remover.sub('', text)"
      ],
      "metadata": {
        "id": "TK1Xj-fzZ1JA"
      },
      "execution_count": 15,
      "outputs": []
    },
    {
      "cell_type": "markdown",
      "source": [
        "The remove_tags function detects anything opening with < and closing with > and replaces with empty space"
      ],
      "metadata": {
        "id": "ars_AJhBmqsa"
      }
    },
    {
      "cell_type": "code",
      "source": [
        "import nltk\n",
        "nltk.download('stopwords')"
      ],
      "metadata": {
        "colab": {
          "base_uri": "https://localhost:8080/"
        },
        "id": "QN8Kc6IYaNZC",
        "outputId": "47f50077-b030-48bd-d1af-7bf1dd1e0c9c"
      },
      "execution_count": 16,
      "outputs": [
        {
          "output_type": "stream",
          "name": "stderr",
          "text": [
            "[nltk_data] Downloading package stopwords to /root/nltk_data...\n",
            "[nltk_data]   Unzipping corpora/stopwords.zip.\n"
          ]
        },
        {
          "output_type": "execute_result",
          "data": {
            "text/plain": [
              "True"
            ]
          },
          "metadata": {},
          "execution_count": 16
        }
      ]
    },
    {
      "cell_type": "code",
      "source": [
        "from nltk.corpus import stopwords"
      ],
      "metadata": {
        "id": "BWxbV2VRbIy3"
      },
      "execution_count": 17,
      "outputs": []
    },
    {
      "cell_type": "code",
      "source": [
        "def preprocess_text(sen):\n",
        "  sentence = sen.lower()\n",
        "  #Converted all texts to lower case\n",
        "\n",
        "  sentence = remove_tags(sentence)\n",
        "  #Removed html tags\n",
        "\n",
        "  sentence = re.sub('[^a-zA-Z]', ' ', sentence)\n",
        "  #Removed punctuations and numbers\n",
        "\n",
        "  sentence = re.sub(r\"\\s+[a-zA-Z]\\s+\", ' ', sentence) \n",
        "  #Removed apostrophe\n",
        "\n",
        "  sentence = re.sub(r'\\s+', ' ', sentence)\n",
        "  #Removed the extra spaces from the text\n",
        "\n",
        "  pattern = re.compile(r'\\b(' + r'|'.join(stopwords.words('english')) + r')\\b\\s*')\n",
        "  sentence = pattern.sub('', sentence)\n",
        "  #Removed Stopwords\n",
        "\n",
        "  return sentence"
      ],
      "metadata": {
        "id": "I3NOSXmIaQqm"
      },
      "execution_count": 18,
      "outputs": []
    },
    {
      "cell_type": "code",
      "source": [
        "Preprocessed_data = [ ]\n",
        "sentences = list(movie_data['review'])\n",
        "for i in sentences:\n",
        "  Preprocessed_data.append(preprocess_text(i))"
      ],
      "metadata": {
        "id": "RuDydCHHah57"
      },
      "execution_count": 19,
      "outputs": []
    },
    {
      "cell_type": "markdown",
      "source": [
        "Finally applied our preprocessing function on our movie dataset"
      ],
      "metadata": {
        "id": "4rK5Dr7XoZr0"
      }
    },
    {
      "cell_type": "code",
      "source": [
        "Preprocessed_data[0]"
      ],
      "metadata": {
        "colab": {
          "base_uri": "https://localhost:8080/",
          "height": 140
        },
        "id": "YoG75BcKaovx",
        "outputId": "cd384a3f-b09b-47f6-8f21-9c3c0a7ae7f8"
      },
      "execution_count": 20,
      "outputs": [
        {
          "output_type": "execute_result",
          "data": {
            "text/plain": [
              "'one reviewers mentioned watching oz episode hooked right exactly happened first thing struck oz brutality unflinching scenes violence set right word go trust show faint hearted timid show pulls punches regards drugs sex violence hardcore classic use word called oz nickname given oswald maximum security state penitentary focuses mainly emerald city experimental section prison cells glass fronts face inwards privacy high agenda em city home many aryans muslims gangstas latinos christians italians irish scuffles death stares dodgy dealings shady agreements never far away would say main appeal show due fact goes shows dare forget pretty pictures painted mainstream audiences forget charm forget romance oz mess around first episode ever saw struck nasty surreal say ready watched developed taste oz got accustomed high levels graphic violence violence injustice crooked guards sold nickel inmates kill order get away well mannered middle class inmates turned prison bitches due lack street skills prison experience watching oz may become comfortable uncomfortable viewing thats get touch darker side '"
            ],
            "application/vnd.google.colaboratory.intrinsic+json": {
              "type": "string"
            }
          },
          "metadata": {},
          "execution_count": 20
        }
      ]
    },
    {
      "cell_type": "code",
      "source": [
        "y = movie_data['sentiment']\n",
        "\n",
        "labels = np.array(list(map(lambda x: 1 if x==\"positive\" else 0, y)))"
      ],
      "metadata": {
        "id": "YzwDo85Pi-Xm"
      },
      "execution_count": 21,
      "outputs": []
    },
    {
      "cell_type": "markdown",
      "source": [
        "Converted the class labels to 0 and 1"
      ],
      "metadata": {
        "id": "At_wH9jcqLyz"
      }
    },
    {
      "cell_type": "code",
      "source": [
        "from sklearn.model_selection import train_test_split"
      ],
      "metadata": {
        "id": "9VjD_pblqT1m"
      },
      "execution_count": 22,
      "outputs": []
    },
    {
      "cell_type": "code",
      "source": [
        "X_train, X_test, y_train, y_test = train_test_split(Preprocessed_data, labels, test_size=0.10, random_state=42)"
      ],
      "metadata": {
        "id": "35xZ_0wkqK3u"
      },
      "execution_count": 23,
      "outputs": []
    },
    {
      "cell_type": "markdown",
      "source": [
        "Finally, splitted the data into train and test with 80% of data going to the train set and rest to the test set"
      ],
      "metadata": {
        "id": "6MhsNKy5qrOn"
      }
    },
    {
      "cell_type": "code",
      "source": [
        "from keras.preprocessing.text import Tokenizer"
      ],
      "metadata": {
        "id": "PsEEgRvMqqOB"
      },
      "execution_count": 24,
      "outputs": []
    },
    {
      "cell_type": "code",
      "source": [
        "word_tokenizer = Tokenizer()\n",
        "word_tokenizer.fit_on_texts(X_train)"
      ],
      "metadata": {
        "id": "1ZG-mCDjrm4e"
      },
      "execution_count": 25,
      "outputs": []
    },
    {
      "cell_type": "code",
      "source": [
        "X_train = word_tokenizer.texts_to_sequences(X_train)\n",
        "X_test = word_tokenizer.texts_to_sequences(X_test)"
      ],
      "metadata": {
        "id": "TTdI_4cQrvty"
      },
      "execution_count": 26,
      "outputs": []
    },
    {
      "cell_type": "code",
      "source": [
        "print(X_train[:10])"
      ],
      "metadata": {
        "colab": {
          "base_uri": "https://localhost:8080/"
        },
        "id": "RWrViRWDr4FQ",
        "outputId": "175adee5-e84e-430f-9f8e-e905245b6391"
      },
      "execution_count": 27,
      "outputs": [
        {
          "output_type": "stream",
          "name": "stdout",
          "text": [
            "[[2, 2013, 16, 202, 6224, 26206, 560, 2579, 3819, 770, 3048, 1453, 2038, 550, 14, 31578, 214, 650, 187, 279, 9, 25, 326, 112, 1453, 6267, 187, 22, 300, 3, 1823, 17, 27723, 1259, 3, 2257, 155, 847, 6, 9, 31578, 8, 16, 1, 185, 108, 10234, 625], [1513, 11, 125, 585, 1474, 252, 3975, 58, 472, 264, 91, 699, 163, 125, 11443, 1326, 149, 9977, 1019, 6268, 1, 941, 6, 4254, 119, 14206, 218, 29481, 34, 732, 3055, 1997, 9734, 3055, 191, 157, 273, 1327, 8618, 1411, 694, 1971, 4966, 7, 60, 3055, 737, 47883, 3444, 139, 281, 1010, 1656, 2, 2, 12656, 635, 3055, 1, 588, 76, 6225, 3098, 25, 4277, 186, 13, 321, 565, 1317, 175, 86, 106, 5392, 8258, 588, 76, 30, 24, 1619, 3, 193, 19812, 186, 202, 43, 1243, 2563, 1288, 34068, 109, 4945, 2563, 1288, 34068, 74, 19813, 23, 9328, 31579, 524, 1243, 880, 1808, 2526, 14813, 5654, 37, 667, 403, 3748, 3571, 1066, 1275, 469, 62, 43, 3960, 3011, 14207, 5698, 2381, 46, 3444, 234, 1118, 683, 16643, 1411, 125, 82, 41, 312, 17073, 494, 1243, 754, 30, 59, 5699, 667, 5455, 3555, 930, 2631, 3, 126, 86, 3055, 13117, 7464, 10110, 889, 2291, 9610, 142, 57, 8340, 3055, 3055, 153, 102, 3820, 10110, 11810, 5228, 1422, 8886, 379, 3749, 1784, 85, 259, 3004, 5297, 1615, 2900, 125, 378, 154, 288, 4604, 1042, 13664, 1394, 5297, 365, 3, 755, 49, 1306, 2, 2922, 281, 1243, 370, 494, 5455, 121, 92, 5455, 354, 5924, 1582, 26, 3883, 225, 5455, 121, 1243, 4144, 3055, 158, 49, 1243, 2994, 37, 5455, 3030, 354, 5321, 13118, 1586, 9002, 1445, 5321], [1653, 41527, 3411, 1828, 59180, 39, 175, 211, 5456, 59181, 1602, 3099, 5456, 1307, 1653, 16, 278, 3, 7863, 734, 1541, 19814, 40, 830, 10, 830, 13, 44, 345, 320, 98, 401, 1013, 15475, 522, 10, 3, 38, 22032, 98, 18, 409, 2923, 11811, 24973, 50, 1653, 1656, 169, 2069, 369, 9735, 11097, 1264, 160, 2923, 3750, 470, 9735, 413, 233, 378, 17074, 87, 262, 44, 378, 206, 409, 398, 551, 906, 4727, 273, 15832, 1828, 1653, 1656, 41, 9329, 110, 41528, 2612, 976, 1766, 125, 1661, 5456, 251, 40, 379, 2308, 307, 113, 27724, 565, 277, 743, 1548, 5456, 1468, 1933, 5959, 679, 14513, 2527, 12883, 136, 704, 281, 19, 54, 1567, 11, 181, 11627, 21, 140, 48, 567, 334, 1303, 3, 5456, 2601, 3099, 489, 77, 4, 278, 150, 617, 25, 78, 8887, 265, 278, 12, 250, 19139, 9470, 11098, 8341, 402, 559, 4, 2005, 426, 19, 736, 725, 570, 18, 4, 46, 477, 1454, 111, 496, 9735, 11097, 3325, 531, 286, 112, 843, 635, 6316, 376, 82, 48, 155, 1990, 166, 1115, 663, 39, 2361, 3534, 3556, 13, 21223, 29482, 278, 26, 9735, 13, 1568, 15833, 1445, 469, 10, 4, 11097, 278, 19, 7933, 4, 22932, 41529, 216, 10, 4, 982, 2024, 444, 382, 164, 1569, 1594, 9735, 268, 59182, 5548, 36, 46, 153, 531, 1497, 19, 174, 306, 780, 409, 13933, 2890, 2264, 2427, 213, 1497, 531, 947, 5076, 5655, 11628, 827, 1130, 344, 1056, 3793, 4165, 1701, 7596, 1828, 3864, 11, 1173, 3335, 1362, 413, 18547, 3821, 16, 361, 22, 48, 102, 528, 11097, 3457, 94, 348, 1569, 7, 38, 298, 347, 11098, 5880, 694, 409, 148, 9735, 5456, 125, 1683, 2283, 227, 507, 7, 60, 37294, 68, 140, 171, 323, 1766, 25, 23, 593, 7465, 5880, 215, 588, 410, 338, 128, 8, 745, 47884, 727, 246, 21223, 930, 1990, 9735, 5456, 7, 60, 9735, 9611, 27725, 69, 9611, 37294, 108, 20472, 9735, 1494, 3304, 933, 10, 31580, 5456, 296, 1896, 3493, 114, 13, 395, 7466, 1115, 6469, 6, 41530, 1945, 109, 420, 2828, 9735, 196, 133, 62, 4348, 14514, 293, 2464, 93, 1653, 611, 436, 21224, 153, 515, 99, 99], [30, 2729, 885, 12453, 12249, 2515, 2, 709, 622, 26207, 7794, 6354, 496, 13119, 13665, 2331, 20473, 5802, 2, 12884, 111, 26207, 57, 193, 34069, 10489, 180, 14208, 1741, 8619, 98, 5262, 184, 7934, 2331, 4810, 13934, 2640, 3, 619, 184, 1308, 14814, 2, 11812, 59183, 508, 19815, 144, 55, 761, 2331, 477, 22, 5802, 1202, 20, 3, 1756, 728, 529, 368, 63, 3237, 98, 23892, 12453, 59184, 368, 3511, 3976, 5802, 9105, 887, 13665, 3512, 189, 11629, 954, 3085, 242, 2465, 6891, 47885, 3794, 63, 1767, 1542, 645, 144, 9736, 126, 184, 23, 259, 12884, 111, 1180, 11812, 740, 463, 63, 9, 2988, 5229, 139, 1542, 17528, 7255, 8888, 954, 651, 787, 9862, 4549, 4311, 1441, 819, 9471, 1542, 6891, 10627, 5802, 2613, 3808, 1180, 1392, 6516, 111, 13120, 59185, 1411, 12657, 23893, 184, 9611, 295, 2580, 1625, 1402, 508, 954, 2343, 9736, 1308, 3, 31581, 541, 184, 94, 24974, 435, 28, 1317, 1537, 623, 269, 59186, 57, 7524, 623, 18, 1537, 2331, 4010, 2901, 349, 104, 3, 13665, 1269, 720, 7255, 184, 1388, 14815, 676, 12884, 111, 104, 2944, 2583, 3086, 29483, 7467, 45], [4237, 1206, 20, 187, 380, 227, 6045, 5770, 1712, 2060, 14515, 1568, 453, 822, 101, 49, 421, 157, 34, 18, 1299, 549, 318, 3108, 155, 19140, 478, 29484, 24975, 6517, 29, 133, 592, 10111, 1597, 2989], [3075, 59187, 1, 406, 3, 373, 44, 8179, 4362, 7795, 308, 5348, 4182, 3513, 1380, 265, 11247, 47886, 158, 117, 13, 187, 22, 1, 343, 523, 968, 130, 158, 14516, 99, 262, 2, 163, 6, 19, 187, 343, 31, 3907, 1013, 393, 255, 660, 579, 57, 1202, 2902, 596, 31582, 403, 509, 54, 582, 130, 1881, 6226, 77, 215, 7663, 4698, 423, 8088, 18, 5, 3], [356, 1948, 8889, 96, 292, 24976, 8432, 6046, 5322, 190, 172, 943, 1882, 945, 578, 15834, 80, 96, 5057, 207, 10768, 357, 6355, 82, 20, 22033, 2453, 66, 4, 29485, 18018, 27726, 128, 75, 7796, 3822, 1837, 4062, 13, 302, 24, 656, 4097, 363, 679, 460, 755, 273, 452, 106], [356, 11813, 285, 785, 5849, 1511, 1542, 1641, 7797, 2717, 2476, 1074, 305, 133, 3347, 6047, 1511, 1514, 10769, 12033, 31, 91, 8890, 102, 101, 1468, 183, 1515, 101, 34070, 12, 1132, 457, 129], [3535, 891, 8180, 631, 89, 9978, 34, 670, 1, 1838, 1603, 3326, 1, 15835, 856, 2431, 237, 369, 15836, 1191, 155, 59188, 90, 856, 2128, 816, 27, 48, 297, 973, 6892, 26, 247, 305, 54, 47887, 7664, 34, 1366, 696, 579, 1083, 104, 241, 843, 84, 70, 1089, 3], [10, 383, 1, 3809, 97, 208, 9, 1075, 750, 385, 4581, 3809, 97, 2391, 630, 16, 27, 102, 3180, 1177, 146, 1194, 7191, 284, 3327, 652, 294, 3031, 236, 102, 1272, 4967, 4581, 1781, 19141, 42, 15, 517, 1522, 4872, 652, 1809, 236, 26, 509, 27727, 428, 1303, 866, 280, 164, 294, 3031, 29486, 164, 1917, 1194, 6470, 238, 1198, 134, 914, 2308, 418, 9, 1633, 881, 287, 311, 46, 6048, 1931, 4828, 4828, 2781, 18548, 8089, 5654, 236, 660, 8, 15, 132, 2766, 303, 211, 1056, 280, 3327, 3238, 1456, 7935, 146, 33, 10, 295, 1543, 3327, 228, 2685, 45, 16, 1, 181]]\n"
          ]
        }
      ]
    },
    {
      "cell_type": "markdown",
      "source": [
        "So we have splitted our text into individual tokens and converted them to numeric form"
      ],
      "metadata": {
        "id": "ph-k3jTAsFgv"
      }
    },
    {
      "cell_type": "code",
      "source": [
        "word_tokenizer.word_index"
      ],
      "metadata": {
        "id": "8gb0Gup4r7jL",
        "colab": {
          "base_uri": "https://localhost:8080/"
        },
        "outputId": "6944f7b7-1525-49b4-9c20-c5e0ddfd4aa3"
      },
      "execution_count": 60,
      "outputs": [
        {
          "output_type": "execute_result",
          "data": {
            "text/plain": [
              "{'movie': 1,\n",
              " 'film': 2,\n",
              " 'one': 3,\n",
              " 'like': 4,\n",
              " 'good': 5,\n",
              " 'time': 6,\n",
              " 'even': 7,\n",
              " 'would': 8,\n",
              " 'story': 9,\n",
              " 'really': 10,\n",
              " 'see': 11,\n",
              " 'well': 12,\n",
              " 'much': 13,\n",
              " 'bad': 14,\n",
              " 'get': 15,\n",
              " 'great': 16,\n",
              " 'people': 17,\n",
              " 'also': 18,\n",
              " 'first': 19,\n",
              " 'made': 20,\n",
              " 'make': 21,\n",
              " 'way': 22,\n",
              " 'could': 23,\n",
              " 'movies': 24,\n",
              " 'characters': 25,\n",
              " 'think': 26,\n",
              " 'watch': 27,\n",
              " 'character': 28,\n",
              " 'films': 29,\n",
              " 'two': 30,\n",
              " 'many': 31,\n",
              " 'seen': 32,\n",
              " 'never': 33,\n",
              " 'plot': 34,\n",
              " 'acting': 35,\n",
              " 'love': 36,\n",
              " 'life': 37,\n",
              " 'best': 38,\n",
              " 'know': 39,\n",
              " 'show': 40,\n",
              " 'little': 41,\n",
              " 'ever': 42,\n",
              " 'man': 43,\n",
              " 'better': 44,\n",
              " 'end': 45,\n",
              " 'scene': 46,\n",
              " 'still': 47,\n",
              " 'say': 48,\n",
              " 'scenes': 49,\n",
              " 'something': 50,\n",
              " 'go': 51,\n",
              " 'back': 52,\n",
              " 'real': 53,\n",
              " 'thing': 54,\n",
              " 'watching': 55,\n",
              " 'actors': 56,\n",
              " 'director': 57,\n",
              " 'years': 58,\n",
              " 'old': 59,\n",
              " 'though': 60,\n",
              " 'funny': 61,\n",
              " 'another': 62,\n",
              " 'work': 63,\n",
              " 'actually': 64,\n",
              " 'nothing': 65,\n",
              " 'look': 66,\n",
              " 'makes': 67,\n",
              " 'find': 68,\n",
              " 'going': 69,\n",
              " 'lot': 70,\n",
              " 'new': 71,\n",
              " 'every': 72,\n",
              " 'part': 73,\n",
              " 'world': 74,\n",
              " 'cast': 75,\n",
              " 'us': 76,\n",
              " 'things': 77,\n",
              " 'want': 78,\n",
              " 'pretty': 79,\n",
              " 'horror': 80,\n",
              " 'quite': 81,\n",
              " 'seems': 82,\n",
              " 'young': 83,\n",
              " 'around': 84,\n",
              " 'however': 85,\n",
              " 'big': 86,\n",
              " 'take': 87,\n",
              " 'thought': 88,\n",
              " 'enough': 89,\n",
              " 'got': 90,\n",
              " 'long': 91,\n",
              " 'fact': 92,\n",
              " 'give': 93,\n",
              " 'may': 94,\n",
              " 'must': 95,\n",
              " 'comedy': 96,\n",
              " 'music': 97,\n",
              " 'series': 98,\n",
              " 'right': 99,\n",
              " 'guy': 100,\n",
              " 'action': 101,\n",
              " 'without': 102,\n",
              " 'times': 103,\n",
              " 'original': 104,\n",
              " 'saw': 105,\n",
              " 'role': 106,\n",
              " 'come': 107,\n",
              " 'almost': 108,\n",
              " 'always': 109,\n",
              " 'gets': 110,\n",
              " 'point': 111,\n",
              " 'interesting': 112,\n",
              " 'done': 113,\n",
              " 'least': 114,\n",
              " 'whole': 115,\n",
              " 'far': 116,\n",
              " 'bit': 117,\n",
              " 'minutes': 118,\n",
              " 'script': 119,\n",
              " 'feel': 120,\n",
              " 'family': 121,\n",
              " 'might': 122,\n",
              " 'anything': 123,\n",
              " 'making': 124,\n",
              " 'since': 125,\n",
              " 'last': 126,\n",
              " 'tv': 127,\n",
              " 'probably': 128,\n",
              " 'performance': 129,\n",
              " 'kind': 130,\n",
              " 'girl': 131,\n",
              " 'away': 132,\n",
              " 'yet': 133,\n",
              " 'fun': 134,\n",
              " 'woman': 135,\n",
              " 'anyone': 136,\n",
              " 'worst': 137,\n",
              " 'day': 138,\n",
              " 'rather': 139,\n",
              " 'sure': 140,\n",
              " 'hard': 141,\n",
              " 'played': 142,\n",
              " 'found': 143,\n",
              " 'screen': 144,\n",
              " 'looking': 145,\n",
              " 'although': 146,\n",
              " 'especially': 147,\n",
              " 'believe': 148,\n",
              " 'dvd': 149,\n",
              " 'course': 150,\n",
              " 'trying': 151,\n",
              " 'everything': 152,\n",
              " 'goes': 153,\n",
              " 'set': 154,\n",
              " 'maybe': 155,\n",
              " 'comes': 156,\n",
              " 'place': 157,\n",
              " 'ending': 158,\n",
              " 'book': 159,\n",
              " 'three': 160,\n",
              " 'different': 161,\n",
              " 'put': 162,\n",
              " 'worth': 163,\n",
              " 'let': 164,\n",
              " 'shows': 165,\n",
              " 'someone': 166,\n",
              " 'actor': 167,\n",
              " 'sense': 168,\n",
              " 'reason': 169,\n",
              " 'american': 170,\n",
              " 'main': 171,\n",
              " 'effects': 172,\n",
              " 'year': 173,\n",
              " 'looks': 174,\n",
              " 'play': 175,\n",
              " 'money': 176,\n",
              " 'war': 177,\n",
              " 'true': 178,\n",
              " 'watched': 179,\n",
              " 'job': 180,\n",
              " 'everyone': 181,\n",
              " 'together': 182,\n",
              " 'high': 183,\n",
              " 'audience': 184,\n",
              " 'instead': 185,\n",
              " 'plays': 186,\n",
              " 'half': 187,\n",
              " 'said': 188,\n",
              " 'beautiful': 189,\n",
              " 'special': 190,\n",
              " 'takes': 191,\n",
              " 'later': 192,\n",
              " 'john': 193,\n",
              " 'night': 194,\n",
              " 'seem': 195,\n",
              " 'left': 196,\n",
              " 'black': 197,\n",
              " 'seeing': 198,\n",
              " 'wife': 199,\n",
              " 'excellent': 200,\n",
              " 'version': 201,\n",
              " 'idea': 202,\n",
              " 'shot': 203,\n",
              " 'house': 204,\n",
              " 'star': 205,\n",
              " 'else': 206,\n",
              " 'mind': 207,\n",
              " 'fan': 208,\n",
              " 'death': 209,\n",
              " 'father': 210,\n",
              " 'nice': 211,\n",
              " 'budget': 212,\n",
              " 'used': 213,\n",
              " 'poor': 214,\n",
              " 'simply': 215,\n",
              " 'second': 216,\n",
              " 'completely': 217,\n",
              " 'men': 218,\n",
              " 'short': 219,\n",
              " 'read': 220,\n",
              " 'home': 221,\n",
              " 'less': 222,\n",
              " 'top': 223,\n",
              " 'along': 224,\n",
              " 'help': 225,\n",
              " 'hollywood': 226,\n",
              " 'dead': 227,\n",
              " 'friends': 228,\n",
              " 'kids': 229,\n",
              " 'production': 230,\n",
              " 'line': 231,\n",
              " 'boring': 232,\n",
              " 'either': 233,\n",
              " 'camera': 234,\n",
              " 'women': 235,\n",
              " 'school': 236,\n",
              " 'classic': 237,\n",
              " 'enjoy': 238,\n",
              " 'given': 239,\n",
              " 'low': 240,\n",
              " 'try': 241,\n",
              " 'use': 242,\n",
              " 'need': 243,\n",
              " 'wrong': 244,\n",
              " 'full': 245,\n",
              " 'stupid': 246,\n",
              " 'truly': 247,\n",
              " 'next': 248,\n",
              " 'performances': 249,\n",
              " 'couple': 250,\n",
              " 'rest': 251,\n",
              " 'recommend': 252,\n",
              " 'awful': 253,\n",
              " 'video': 254,\n",
              " 'start': 255,\n",
              " 'sex': 256,\n",
              " 'terrible': 257,\n",
              " 'tell': 258,\n",
              " 'understand': 259,\n",
              " 'getting': 260,\n",
              " 'remember': 261,\n",
              " 'mean': 262,\n",
              " 'came': 263,\n",
              " 'perhaps': 264,\n",
              " 'face': 265,\n",
              " 'name': 266,\n",
              " 'wonderful': 267,\n",
              " 'keep': 268,\n",
              " 'human': 269,\n",
              " 'style': 270,\n",
              " 'moments': 271,\n",
              " 'person': 272,\n",
              " 'small': 273,\n",
              " 'playing': 274,\n",
              " 'perfect': 275,\n",
              " 'mother': 276,\n",
              " 'others': 277,\n",
              " 'episode': 278,\n",
              " 'written': 279,\n",
              " 'boy': 280,\n",
              " 'early': 281,\n",
              " 'often': 282,\n",
              " 'definitely': 283,\n",
              " 'head': 284,\n",
              " 'stars': 285,\n",
              " 'gives': 286,\n",
              " 'children': 287,\n",
              " 'piece': 288,\n",
              " 'lines': 289,\n",
              " 'dialogue': 290,\n",
              " 'absolutely': 291,\n",
              " 'title': 292,\n",
              " 'case': 293,\n",
              " 'live': 294,\n",
              " 'went': 295,\n",
              " 'finally': 296,\n",
              " 'oh': 297,\n",
              " 'friend': 298,\n",
              " 'laugh': 299,\n",
              " 'become': 300,\n",
              " 'lost': 301,\n",
              " 'worse': 302,\n",
              " 'liked': 303,\n",
              " 'yes': 304,\n",
              " 'entertaining': 305,\n",
              " 'picture': 306,\n",
              " 'sort': 307,\n",
              " 'called': 308,\n",
              " 'certainly': 309,\n",
              " 'cinema': 310,\n",
              " 'loved': 311,\n",
              " 'hope': 312,\n",
              " 'mr': 313,\n",
              " 'supposed': 314,\n",
              " 'several': 315,\n",
              " 'based': 316,\n",
              " 'sound': 317,\n",
              " 'felt': 318,\n",
              " 'guys': 319,\n",
              " 'entire': 320,\n",
              " 'drama': 321,\n",
              " 'overall': 322,\n",
              " 'problem': 323,\n",
              " 'waste': 324,\n",
              " 'white': 325,\n",
              " 'beginning': 326,\n",
              " 'dark': 327,\n",
              " 'fans': 328,\n",
              " 'care': 329,\n",
              " 'seemed': 330,\n",
              " 'humor': 331,\n",
              " 'lives': 332,\n",
              " 'game': 333,\n",
              " 'lead': 334,\n",
              " 'direction': 335,\n",
              " 'example': 336,\n",
              " 'despite': 337,\n",
              " 'guess': 338,\n",
              " 'evil': 339,\n",
              " 'wanted': 340,\n",
              " 'turn': 341,\n",
              " 'totally': 342,\n",
              " 'already': 343,\n",
              " 'final': 344,\n",
              " 'throughout': 345,\n",
              " 'becomes': 346,\n",
              " 'unfortunately': 347,\n",
              " 'able': 348,\n",
              " 'quality': 349,\n",
              " 'days': 350,\n",
              " 'heart': 351,\n",
              " 'side': 352,\n",
              " 'history': 353,\n",
              " 'son': 354,\n",
              " 'amazing': 355,\n",
              " 'michael': 356,\n",
              " 'killer': 357,\n",
              " 'flick': 358,\n",
              " 'fine': 359,\n",
              " 'horrible': 360,\n",
              " 'writing': 361,\n",
              " 'wants': 362,\n",
              " 'town': 363,\n",
              " 'today': 364,\n",
              " 'act': 365,\n",
              " 'run': 366,\n",
              " 'child': 367,\n",
              " 'art': 368,\n",
              " 'kill': 369,\n",
              " 'close': 370,\n",
              " 'works': 371,\n",
              " 'god': 372,\n",
              " 'matter': 373,\n",
              " 'car': 374,\n",
              " 'etc': 375,\n",
              " 'viewer': 376,\n",
              " 'directed': 377,\n",
              " 'brilliant': 378,\n",
              " 'turns': 379,\n",
              " 'past': 380,\n",
              " 'behind': 381,\n",
              " 'tries': 382,\n",
              " 'enjoyed': 383,\n",
              " 'stuff': 384,\n",
              " 'kid': 385,\n",
              " 'genre': 386,\n",
              " 'gave': 387,\n",
              " 'late': 388,\n",
              " 'favorite': 389,\n",
              " 'city': 390,\n",
              " 'girls': 391,\n",
              " 'eyes': 392,\n",
              " 'parts': 393,\n",
              " 'sometimes': 394,\n",
              " 'expect': 395,\n",
              " 'hand': 396,\n",
              " 'hour': 397,\n",
              " 'soon': 398,\n",
              " 'actress': 399,\n",
              " 'obviously': 400,\n",
              " 'starts': 401,\n",
              " 'thinking': 402,\n",
              " 'highly': 403,\n",
              " 'type': 404,\n",
              " 'self': 405,\n",
              " 'decent': 406,\n",
              " 'daughter': 407,\n",
              " 'stop': 408,\n",
              " 'group': 409,\n",
              " 'blood': 410,\n",
              " 'known': 411,\n",
              " 'except': 412,\n",
              " 'says': 413,\n",
              " 'voice': 414,\n",
              " 'killed': 415,\n",
              " 'writer': 416,\n",
              " 'fight': 417,\n",
              " 'anyway': 418,\n",
              " 'experience': 419,\n",
              " 'happens': 420,\n",
              " 'took': 421,\n",
              " 'heard': 422,\n",
              " 'feeling': 423,\n",
              " 'slow': 424,\n",
              " 'coming': 425,\n",
              " 'moment': 426,\n",
              " 'stories': 427,\n",
              " 'police': 428,\n",
              " 'violence': 429,\n",
              " 'strong': 430,\n",
              " 'extremely': 431,\n",
              " 'score': 432,\n",
              " 'told': 433,\n",
              " 'cannot': 434,\n",
              " 'involved': 435,\n",
              " 'leave': 436,\n",
              " 'lack': 437,\n",
              " 'hero': 438,\n",
              " 'hit': 439,\n",
              " 'chance': 440,\n",
              " 'ok': 441,\n",
              " 'age': 442,\n",
              " 'cool': 443,\n",
              " 'happen': 444,\n",
              " 'save': 445,\n",
              " 'including': 446,\n",
              " 'living': 447,\n",
              " 'roles': 448,\n",
              " 'hell': 449,\n",
              " 'cut': 450,\n",
              " 'murder': 451,\n",
              " 'hilarious': 452,\n",
              " 'crap': 453,\n",
              " 'brother': 454,\n",
              " 'wonder': 455,\n",
              " 'serious': 456,\n",
              " 'james': 457,\n",
              " 'complete': 458,\n",
              " 'robert': 459,\n",
              " 'particularly': 460,\n",
              " 'please': 461,\n",
              " 'simple': 462,\n",
              " 'obvious': 463,\n",
              " 'gore': 464,\n",
              " 'attempt': 465,\n",
              " 'david': 466,\n",
              " 'looked': 467,\n",
              " 'seriously': 468,\n",
              " 'taken': 469,\n",
              " 'happened': 470,\n",
              " 'song': 471,\n",
              " 'ago': 472,\n",
              " 'husband': 473,\n",
              " 'alone': 474,\n",
              " 'english': 475,\n",
              " 'across': 476,\n",
              " 'shown': 477,\n",
              " 'released': 478,\n",
              " 'interest': 479,\n",
              " 'none': 480,\n",
              " 'opening': 481,\n",
              " 'exactly': 482,\n",
              " 'jokes': 483,\n",
              " 'possible': 484,\n",
              " 'career': 485,\n",
              " 'sad': 486,\n",
              " 'reality': 487,\n",
              " 'hours': 488,\n",
              " 'number': 489,\n",
              " 'saying': 490,\n",
              " 'talent': 491,\n",
              " 'wish': 492,\n",
              " 'cinematography': 493,\n",
              " 'relationship': 494,\n",
              " 'usually': 495,\n",
              " 'view': 496,\n",
              " 'annoying': 497,\n",
              " 'order': 498,\n",
              " 'documentary': 499,\n",
              " 'four': 500,\n",
              " 'whose': 501,\n",
              " 'middle': 502,\n",
              " 'turned': 503,\n",
              " 'running': 504,\n",
              " 'taking': 505,\n",
              " 'light': 506,\n",
              " 'body': 507,\n",
              " 'huge': 508,\n",
              " 'important': 509,\n",
              " 'shots': 510,\n",
              " 'power': 511,\n",
              " 'female': 512,\n",
              " 'country': 513,\n",
              " 'ridiculous': 514,\n",
              " 'ends': 515,\n",
              " 'major': 516,\n",
              " 'change': 517,\n",
              " 'level': 518,\n",
              " 'call': 519,\n",
              " 'silly': 520,\n",
              " 'word': 521,\n",
              " 'opinion': 522,\n",
              " 'started': 523,\n",
              " 'novel': 524,\n",
              " 'scary': 525,\n",
              " 'mostly': 526,\n",
              " 'usual': 527,\n",
              " 'words': 528,\n",
              " 'modern': 529,\n",
              " 'happy': 530,\n",
              " 'room': 531,\n",
              " 'beyond': 532,\n",
              " 'knew': 533,\n",
              " 'upon': 534,\n",
              " 'rating': 535,\n",
              " 'somewhat': 536,\n",
              " 'disappointed': 537,\n",
              " 'single': 538,\n",
              " 'strange': 539,\n",
              " 'ones': 540,\n",
              " 'attention': 541,\n",
              " 'non': 542,\n",
              " 'knows': 543,\n",
              " 'talking': 544,\n",
              " 'apparently': 545,\n",
              " 'earth': 546,\n",
              " 'miss': 547,\n",
              " 'musical': 548,\n",
              " 'basically': 549,\n",
              " 'due': 550,\n",
              " 'finds': 551,\n",
              " 'problems': 552,\n",
              " 'television': 553,\n",
              " 'episodes': 554,\n",
              " 'cheap': 555,\n",
              " 'clich': 556,\n",
              " 'five': 557,\n",
              " 'british': 558,\n",
              " 'clearly': 559,\n",
              " 'team': 560,\n",
              " 'jack': 561,\n",
              " 'tells': 562,\n",
              " 'class': 563,\n",
              " 'talk': 564,\n",
              " 'thriller': 565,\n",
              " 'local': 566,\n",
              " 'events': 567,\n",
              " 'fast': 568,\n",
              " 'comic': 569,\n",
              " 'die': 570,\n",
              " 'straight': 571,\n",
              " 'king': 572,\n",
              " 'sequence': 573,\n",
              " 'moving': 574,\n",
              " 'songs': 575,\n",
              " 'predictable': 576,\n",
              " 'ten': 577,\n",
              " 'george': 578,\n",
              " 'whether': 579,\n",
              " 'review': 580,\n",
              " 'space': 581,\n",
              " 'future': 582,\n",
              " 'entertainment': 583,\n",
              " 'romantic': 584,\n",
              " 'french': 585,\n",
              " 'add': 586,\n",
              " 'enjoyable': 587,\n",
              " 'giving': 588,\n",
              " 'supporting': 589,\n",
              " 'soundtrack': 590,\n",
              " 'near': 591,\n",
              " 'bring': 592,\n",
              " 'easily': 593,\n",
              " 'appears': 594,\n",
              " 'lots': 595,\n",
              " 'message': 596,\n",
              " 'eye': 597,\n",
              " 'hate': 598,\n",
              " 'dialog': 599,\n",
              " 'sets': 600,\n",
              " 'sister': 601,\n",
              " 'mention': 602,\n",
              " 'release': 603,\n",
              " 'similar': 604,\n",
              " 'within': 605,\n",
              " 'needs': 606,\n",
              " 'working': 607,\n",
              " 'monster': 608,\n",
              " 'dull': 609,\n",
              " 'falls': 610,\n",
              " 'easy': 611,\n",
              " 'filmed': 612,\n",
              " 'rock': 613,\n",
              " 'clear': 614,\n",
              " 'sequel': 615,\n",
              " 'storyline': 616,\n",
              " 'certain': 617,\n",
              " 'suspense': 618,\n",
              " 'showing': 619,\n",
              " 'tried': 620,\n",
              " 'theater': 621,\n",
              " 'named': 622,\n",
              " 'theme': 623,\n",
              " 'parents': 624,\n",
              " 'effort': 625,\n",
              " 'sorry': 626,\n",
              " 'surprised': 627,\n",
              " 'among': 628,\n",
              " 'bunch': 629,\n",
              " 'ways': 630,\n",
              " 'comments': 631,\n",
              " 'deal': 632,\n",
              " 'th': 633,\n",
              " 'lady': 634,\n",
              " 'typical': 635,\n",
              " 'stand': 636,\n",
              " 'minute': 637,\n",
              " 'oscar': 638,\n",
              " 'fall': 639,\n",
              " 'feature': 640,\n",
              " 'gone': 641,\n",
              " 'buy': 642,\n",
              " 'stay': 643,\n",
              " 'realistic': 644,\n",
              " 'using': 645,\n",
              " 'fantastic': 646,\n",
              " 'tale': 647,\n",
              " 'avoid': 648,\n",
              " 'mystery': 649,\n",
              " 'editing': 650,\n",
              " 'subject': 651,\n",
              " 'dog': 652,\n",
              " 'peter': 653,\n",
              " 'general': 654,\n",
              " 'famous': 655,\n",
              " 'paul': 656,\n",
              " 'richard': 657,\n",
              " 'imagine': 658,\n",
              " 'feels': 659,\n",
              " 'doubt': 660,\n",
              " 'viewers': 661,\n",
              " 'points': 662,\n",
              " 'means': 663,\n",
              " 'check': 664,\n",
              " 'nearly': 665,\n",
              " 'period': 666,\n",
              " 'crime': 667,\n",
              " 'actual': 668,\n",
              " 'greatest': 669,\n",
              " 'elements': 670,\n",
              " 'dr': 671,\n",
              " 'okay': 672,\n",
              " 'kept': 673,\n",
              " 'rent': 674,\n",
              " 'follow': 675,\n",
              " 'viewing': 676,\n",
              " 'form': 677,\n",
              " 'believable': 678,\n",
              " 'doctor': 679,\n",
              " 'tom': 680,\n",
              " 'brought': 681,\n",
              " 'red': 682,\n",
              " 'forget': 683,\n",
              " 'surprise': 684,\n",
              " 'imdb': 685,\n",
              " 'material': 686,\n",
              " 'reviews': 687,\n",
              " 'begins': 688,\n",
              " 'somehow': 689,\n",
              " 'animation': 690,\n",
              " 'weak': 691,\n",
              " 'average': 692,\n",
              " 'killing': 693,\n",
              " 'leads': 694,\n",
              " 'atmosphere': 695,\n",
              " 'figure': 696,\n",
              " 'open': 697,\n",
              " 'fi': 698,\n",
              " 'wait': 699,\n",
              " 'sit': 700,\n",
              " 'move': 701,\n",
              " 'expected': 702,\n",
              " 'hear': 703,\n",
              " 'learn': 704,\n",
              " 'america': 705,\n",
              " 'boys': 706,\n",
              " 'poorly': 707,\n",
              " 'sci': 708,\n",
              " 'society': 709,\n",
              " 'sequences': 710,\n",
              " 'deep': 711,\n",
              " 'whatever': 712,\n",
              " 'dance': 713,\n",
              " 'lame': 714,\n",
              " 'lee': 715,\n",
              " 'eventually': 716,\n",
              " 'premise': 717,\n",
              " 'york': 718,\n",
              " 'western': 719,\n",
              " 'particular': 720,\n",
              " 'note': 721,\n",
              " 'truth': 722,\n",
              " 'decided': 723,\n",
              " 'box': 724,\n",
              " 'shame': 725,\n",
              " 'gay': 726,\n",
              " 'situation': 727,\n",
              " 'indeed': 728,\n",
              " 'romance': 729,\n",
              " 'hot': 730,\n",
              " 'needed': 731,\n",
              " 'difficult': 732,\n",
              " 'third': 733,\n",
              " 'season': 734,\n",
              " 'emotional': 735,\n",
              " 'meet': 736,\n",
              " 'footage': 737,\n",
              " 'free': 738,\n",
              " 'crew': 739,\n",
              " 'became': 740,\n",
              " 'unless': 741,\n",
              " 'forced': 742,\n",
              " 'begin': 743,\n",
              " 'possibly': 744,\n",
              " 'acted': 745,\n",
              " 'reading': 746,\n",
              " 'leaves': 747,\n",
              " 'write': 748,\n",
              " 'credits': 749,\n",
              " 'street': 750,\n",
              " 'question': 751,\n",
              " 'otherwise': 752,\n",
              " 'nature': 753,\n",
              " 'meets': 754,\n",
              " 'memorable': 755,\n",
              " 'de': 756,\n",
              " 'male': 757,\n",
              " 'plus': 758,\n",
              " 'masterpiece': 759,\n",
              " 'beauty': 760,\n",
              " 'superb': 761,\n",
              " 'japanese': 762,\n",
              " 'air': 763,\n",
              " 'badly': 764,\n",
              " 'stage': 765,\n",
              " 'effect': 766,\n",
              " 'screenplay': 767,\n",
              " 'sexual': 768,\n",
              " 'hands': 769,\n",
              " 'personal': 770,\n",
              " 'perfectly': 771,\n",
              " 'sounds': 772,\n",
              " 'features': 773,\n",
              " 'interested': 774,\n",
              " 'weird': 775,\n",
              " 'cop': 776,\n",
              " 'crazy': 777,\n",
              " 'quickly': 778,\n",
              " 'inside': 779,\n",
              " 'previous': 780,\n",
              " 'cheesy': 781,\n",
              " 'laughs': 782,\n",
              " 'comment': 783,\n",
              " 'forward': 784,\n",
              " 'joe': 785,\n",
              " 'baby': 786,\n",
              " 'setting': 787,\n",
              " 'battle': 788,\n",
              " 'result': 789,\n",
              " 'disney': 790,\n",
              " 'total': 791,\n",
              " 'earlier': 792,\n",
              " 'powerful': 793,\n",
              " 'island': 794,\n",
              " 'girlfriend': 795,\n",
              " 'towards': 796,\n",
              " 'keeps': 797,\n",
              " 'mark': 798,\n",
              " 'copy': 799,\n",
              " 'directors': 800,\n",
              " 'background': 801,\n",
              " 'incredibly': 802,\n",
              " 'unique': 803,\n",
              " 'realize': 804,\n",
              " 'dumb': 805,\n",
              " 'fire': 806,\n",
              " 'political': 807,\n",
              " 'worked': 808,\n",
              " 'mess': 809,\n",
              " 'development': 810,\n",
              " 'older': 811,\n",
              " 'writers': 812,\n",
              " 'creepy': 813,\n",
              " 'water': 814,\n",
              " 'business': 815,\n",
              " 'rate': 816,\n",
              " 'following': 817,\n",
              " 'bill': 818,\n",
              " 'dramatic': 819,\n",
              " 'dream': 820,\n",
              " 'portrayed': 821,\n",
              " 'directing': 822,\n",
              " 'appear': 823,\n",
              " 'brings': 824,\n",
              " 'pay': 825,\n",
              " 'apart': 826,\n",
              " 'front': 827,\n",
              " 'reasons': 828,\n",
              " 'rich': 829,\n",
              " 'ask': 830,\n",
              " 'era': 831,\n",
              " 'telling': 832,\n",
              " 'various': 833,\n",
              " 'fighting': 834,\n",
              " 'plenty': 835,\n",
              " 'present': 836,\n",
              " 'wasted': 837,\n",
              " 'joke': 838,\n",
              " 'cover': 839,\n",
              " 'william': 840,\n",
              " 'admit': 841,\n",
              " 'leading': 842,\n",
              " 'twist': 843,\n",
              " 'fairly': 844,\n",
              " 'outside': 845,\n",
              " 'fantasy': 846,\n",
              " 'spent': 847,\n",
              " 'gun': 848,\n",
              " 'deserves': 849,\n",
              " 'return': 850,\n",
              " 'party': 851,\n",
              " 'success': 852,\n",
              " 'unlike': 853,\n",
              " 'list': 854,\n",
              " 'produced': 855,\n",
              " 'ideas': 856,\n",
              " 'german': 857,\n",
              " 'attempts': 858,\n",
              " 'agree': 859,\n",
              " 'cute': 860,\n",
              " 'break': 861,\n",
              " 'caught': 862,\n",
              " 'secret': 863,\n",
              " 'remake': 864,\n",
              " 'zombie': 865,\n",
              " 'missing': 866,\n",
              " 'meant': 867,\n",
              " 'expecting': 868,\n",
              " 'co': 869,\n",
              " 'clever': 870,\n",
              " 'fails': 871,\n",
              " 'hardly': 872,\n",
              " 'odd': 873,\n",
              " 'ended': 874,\n",
              " 'create': 875,\n",
              " 'laughing': 876,\n",
              " 'public': 877,\n",
              " 'manages': 878,\n",
              " 'century': 879,\n",
              " 'recently': 880,\n",
              " 'talented': 881,\n",
              " 'villain': 882,\n",
              " 'company': 883,\n",
              " 'nudity': 884,\n",
              " 'members': 885,\n",
              " 'state': 886,\n",
              " 'created': 887,\n",
              " 'plain': 888,\n",
              " 'italian': 889,\n",
              " 'filmmakers': 890,\n",
              " 'potential': 891,\n",
              " 'scott': 892,\n",
              " 'married': 893,\n",
              " 'escape': 894,\n",
              " 'large': 895,\n",
              " 'office': 896,\n",
              " 'spoilers': 897,\n",
              " 'flat': 898,\n",
              " 'cartoon': 899,\n",
              " 'cold': 900,\n",
              " 'waiting': 901,\n",
              " 'pace': 902,\n",
              " 'missed': 903,\n",
              " 'wrote': 904,\n",
              " 'match': 905,\n",
              " 'cause': 906,\n",
              " 'casting': 907,\n",
              " 'science': 908,\n",
              " 'visual': 909,\n",
              " 'pure': 910,\n",
              " 'hold': 911,\n",
              " 'store': 912,\n",
              " 'sadly': 913,\n",
              " 'slightly': 914,\n",
              " 'familiar': 915,\n",
              " 'incredible': 916,\n",
              " 'mentioned': 917,\n",
              " 'train': 918,\n",
              " 'died': 919,\n",
              " 'language': 920,\n",
              " 'dancing': 921,\n",
              " 'van': 922,\n",
              " 'popular': 923,\n",
              " 'tension': 924,\n",
              " 'filled': 925,\n",
              " 'speak': 926,\n",
              " 'considering': 927,\n",
              " 'sweet': 928,\n",
              " 'convincing': 929,\n",
              " 'decides': 930,\n",
              " 'neither': 931,\n",
              " 'force': 932,\n",
              " 'sees': 933,\n",
              " 'law': 934,\n",
              " 'intelligent': 935,\n",
              " 'social': 936,\n",
              " 'value': 937,\n",
              " 'uses': 938,\n",
              " 'la': 939,\n",
              " 'anti': 940,\n",
              " 'follows': 941,\n",
              " 'bored': 942,\n",
              " 'compared': 943,\n",
              " 'concept': 944,\n",
              " 'mad': 945,\n",
              " 'credit': 946,\n",
              " 'suddenly': 947,\n",
              " 'entirely': 948,\n",
              " 'jane': 949,\n",
              " 'trouble': 950,\n",
              " 'brothers': 951,\n",
              " 'hair': 952,\n",
              " 'alive': 953,\n",
              " 'images': 954,\n",
              " 'common': 955,\n",
              " 'former': 956,\n",
              " 'depth': 957,\n",
              " 'brain': 958,\n",
              " 'appreciate': 959,\n",
              " 'younger': 960,\n",
              " 'fit': 961,\n",
              " 'choice': 962,\n",
              " 'band': 963,\n",
              " 'amount': 964,\n",
              " 'college': 965,\n",
              " 'control': 966,\n",
              " 'moves': 967,\n",
              " 'fear': 968,\n",
              " 'portrayal': 969,\n",
              " 'post': 970,\n",
              " 'project': 971,\n",
              " 'master': 972,\n",
              " 'yeah': 973,\n",
              " 'producers': 974,\n",
              " 'biggest': 975,\n",
              " 'violent': 976,\n",
              " 'adventure': 977,\n",
              " 'fiction': 978,\n",
              " 'successful': 979,\n",
              " 'recommended': 980,\n",
              " 'sick': 981,\n",
              " 'focus': 982,\n",
              " 'amusing': 983,\n",
              " 'culture': 984,\n",
              " 'exciting': 985,\n",
              " 'alien': 986,\n",
              " 'bizarre': 987,\n",
              " 'fake': 988,\n",
              " 'studio': 989,\n",
              " 'decide': 990,\n",
              " 'drug': 991,\n",
              " 'pointless': 992,\n",
              " 'spend': 993,\n",
              " 'pathetic': 994,\n",
              " 'effective': 995,\n",
              " 'meaning': 996,\n",
              " 'singing': 997,\n",
              " 'respect': 998,\n",
              " 'situations': 999,\n",
              " 'vampire': 1000,\n",
              " ...}"
            ]
          },
          "metadata": {},
          "execution_count": 60
        }
      ]
    },
    {
      "cell_type": "code",
      "source": [
        "vocab_length = len(word_tokenizer.word_index) + 1\n",
        "print(vocab_length)"
      ],
      "metadata": {
        "colab": {
          "base_uri": "https://localhost:8080/"
        },
        "id": "6EVqoXw2s96y",
        "outputId": "2f2c948a-c698-4609-92a2-197cf4c9d35d"
      },
      "execution_count": 29,
      "outputs": [
        {
          "output_type": "stream",
          "name": "stdout",
          "text": [
            "96875\n"
          ]
        }
      ]
    },
    {
      "cell_type": "markdown",
      "source": [
        "This is the total number of words in the vocabulary of our text corpus.   The +1 is added to the length of the word index because the index starts from 1, not 0, so the actual number of words in the vocabulary is one more than the maximum index value."
      ],
      "metadata": {
        "id": "QLlN9ZcMtn5J"
      }
    },
    {
      "cell_type": "code",
      "source": [
        "from tensorflow.keras.preprocessing.sequence import pad_sequences"
      ],
      "metadata": {
        "id": "qTr0Lf5ltm9w"
      },
      "execution_count": 30,
      "outputs": []
    },
    {
      "cell_type": "code",
      "source": [
        "X_train = pad_sequences(X_train, padding='post', maxlen=100)\n",
        "X_test = pad_sequences(X_test, padding='post', maxlen=100)"
      ],
      "metadata": {
        "id": "LHhnclXp3PZa"
      },
      "execution_count": 31,
      "outputs": []
    },
    {
      "cell_type": "markdown",
      "source": [
        "A neural network model requires fixed length inputs. So , pad_sequence is used to ensure that all input sequences have the same length .It does so by adding zeros until the length is 100 in our case ."
      ],
      "metadata": {
        "id": "JV6U9wt73gAK"
      }
    },
    {
      "cell_type": "code",
      "source": [
        "import tensorflow as tf\n",
        "from keras.layers import LSTM\n",
        "from keras.models import Sequential\n",
        "from keras.layers.core import Activation,Dense\n",
        "from keras.layers import Embedding,Dropout"
      ],
      "metadata": {
        "id": "A7uGleXFoXHQ"
      },
      "execution_count": 32,
      "outputs": []
    },
    {
      "cell_type": "code",
      "source": [
        "model = tf.keras.Sequential([\n",
        "    tf.keras.layers.Embedding(vocab_length, 100),\n",
        "    tf.keras.layers.Bidirectional(tf.keras.layers.LSTM(6)),\n",
        "    tf.keras.layers.Dropout(0.2),\n",
        "    tf.keras.layers.Dense(10, activation='relu'),\n",
        "    tf.keras.layers.Dropout(0.2),\n",
        "    tf.keras.layers.Dense(1, activation='sigmoid')\n",
        "])"
      ],
      "metadata": {
        "id": "kdljiJVOypqF"
      },
      "execution_count": 36,
      "outputs": []
    },
    {
      "cell_type": "markdown",
      "source": [
        "Created a RNN model using Bidirectional LSTM"
      ],
      "metadata": {
        "id": "Ek7CdAEEFvc8"
      }
    },
    {
      "cell_type": "code",
      "source": [
        "model.compile(loss=\"binary_crossentropy\",optimizer=tf.keras.optimizers.Adam(learning_rate=1e-4),metrics=[\"accuracy\"])\n",
        "print(model.summary())"
      ],
      "metadata": {
        "colab": {
          "base_uri": "https://localhost:8080/"
        },
        "id": "Wk_9560oxXPJ",
        "outputId": "9fec4dfe-e5d9-4567-d29f-b71c64eb2882"
      },
      "execution_count": 37,
      "outputs": [
        {
          "output_type": "stream",
          "name": "stdout",
          "text": [
            "Model: \"sequential_1\"\n",
            "_________________________________________________________________\n",
            " Layer (type)                Output Shape              Param #   \n",
            "=================================================================\n",
            " embedding_1 (Embedding)     (None, None, 100)         9687500   \n",
            "                                                                 \n",
            " bidirectional_1 (Bidirectio  (None, 12)               5136      \n",
            " nal)                                                            \n",
            "                                                                 \n",
            " dropout_2 (Dropout)         (None, 12)                0         \n",
            "                                                                 \n",
            " dense_2 (Dense)             (None, 10)                130       \n",
            "                                                                 \n",
            " dropout_3 (Dropout)         (None, 10)                0         \n",
            "                                                                 \n",
            " dense_3 (Dense)             (None, 1)                 11        \n",
            "                                                                 \n",
            "=================================================================\n",
            "Total params: 9,692,777\n",
            "Trainable params: 9,692,777\n",
            "Non-trainable params: 0\n",
            "_________________________________________________________________\n",
            "None\n"
          ]
        }
      ]
    },
    {
      "cell_type": "code",
      "source": [
        "model_history = model.fit(X_train,y_train,batch_size=128, epochs=8, verbose=1, validation_split=0.1)"
      ],
      "metadata": {
        "colab": {
          "base_uri": "https://localhost:8080/"
        },
        "id": "Q3Ky0yHLy8ci",
        "outputId": "c604fac4-6ed3-4026-81ea-63b8d3379f2c"
      },
      "execution_count": 38,
      "outputs": [
        {
          "output_type": "stream",
          "name": "stdout",
          "text": [
            "Epoch 1/8\n",
            "314/314 [==============================] - 54s 138ms/step - loss: 0.6894 - accuracy: 0.5945 - val_loss: 0.6783 - val_accuracy: 0.7280\n",
            "Epoch 2/8\n",
            "314/314 [==============================] - 25s 79ms/step - loss: 0.6085 - accuracy: 0.7835 - val_loss: 0.4699 - val_accuracy: 0.8694\n",
            "Epoch 3/8\n",
            "314/314 [==============================] - 15s 48ms/step - loss: 0.4185 - accuracy: 0.8760 - val_loss: 0.3708 - val_accuracy: 0.8727\n",
            "Epoch 4/8\n",
            "314/314 [==============================] - 12s 39ms/step - loss: 0.3200 - accuracy: 0.9110 - val_loss: 0.3304 - val_accuracy: 0.8788\n",
            "Epoch 5/8\n",
            "314/314 [==============================] - 11s 35ms/step - loss: 0.2566 - accuracy: 0.9325 - val_loss: 0.3131 - val_accuracy: 0.8821\n",
            "Epoch 6/8\n",
            "314/314 [==============================] - 7s 24ms/step - loss: 0.2135 - accuracy: 0.9468 - val_loss: 0.3147 - val_accuracy: 0.8830\n",
            "Epoch 7/8\n",
            "314/314 [==============================] - 7s 22ms/step - loss: 0.1806 - accuracy: 0.9569 - val_loss: 0.3232 - val_accuracy: 0.8821\n",
            "Epoch 8/8\n",
            "314/314 [==============================] - 7s 22ms/step - loss: 0.1524 - accuracy: 0.9657 - val_loss: 0.3393 - val_accuracy: 0.8803\n"
          ]
        }
      ]
    },
    {
      "cell_type": "code",
      "source": [
        "score = model.evaluate(X_test, y_test, verbose=1)"
      ],
      "metadata": {
        "colab": {
          "base_uri": "https://localhost:8080/"
        },
        "id": "kH3p-GCYy-_X",
        "outputId": "81f9c137-395e-4449-ecc9-058c3f21cab7"
      },
      "execution_count": 39,
      "outputs": [
        {
          "output_type": "stream",
          "name": "stdout",
          "text": [
            "155/155 [==============================] - 1s 6ms/step - loss: 0.3451 - accuracy: 0.8782\n"
          ]
        }
      ]
    },
    {
      "cell_type": "code",
      "source": [
        "print(model_history.history.keys())"
      ],
      "metadata": {
        "colab": {
          "base_uri": "https://localhost:8080/"
        },
        "id": "LiyqEfm7BQ7P",
        "outputId": "4093107c-3cdc-4e35-97a1-2801cb72bb39"
      },
      "execution_count": 40,
      "outputs": [
        {
          "output_type": "stream",
          "name": "stdout",
          "text": [
            "dict_keys(['loss', 'accuracy', 'val_loss', 'val_accuracy'])\n"
          ]
        }
      ]
    },
    {
      "cell_type": "code",
      "source": [
        "import matplotlib.pyplot as plt\n",
        "plt.plot(model_history.history['accuracy'])\n",
        "plt.plot(model_history.history['val_accuracy'])\n",
        "\n",
        "plt.title('model accuracy')\n",
        "plt.ylabel('accuracy')\n",
        "plt.xlabel('epoch')\n",
        "plt.legend(['train','test'], loc='upper left')\n",
        "plt.show()\n",
        "\n",
        "plt.plot(model_history.history['loss'])\n",
        "plt.plot(model_history.history['val_loss'])\n",
        "\n",
        "plt.title('model loss')\n",
        "plt.ylabel('loss')\n",
        "plt.xlabel('epoch')\n",
        "plt.legend(['train','test'], loc='upper left')\n",
        "plt.show()"
      ],
      "metadata": {
        "colab": {
          "base_uri": "https://localhost:8080/",
          "height": 573
        },
        "id": "92J5-6J1_-lr",
        "outputId": "0ced2b42-c557-4356-e580-acff3dbe6408"
      },
      "execution_count": 41,
      "outputs": [
        {
          "output_type": "display_data",
          "data": {
            "text/plain": [
              "<Figure size 432x288 with 1 Axes>"
            ],
            "image/png": "[encoded data removed]"
          },
          "metadata": {
            "needs_background": "light"
          }
        },
        {
          "output_type": "display_data",
          "data": {
            "text/plain": [
              "<Figure size 432x288 with 1 Axes>"
            ],
            "image/png": "[encoded data removed]"
          },
          "metadata": {
            "needs_background": "light"
          }
        }
      ]
    },
    {
      "cell_type": "code",
      "source": [
        "final_test_reviews = pd.read_csv(\"/content/drive/MyDrive/a3_IMDb_Unseen_Reviews.csv\")\n",
        "final_test_reviews.head(5)"
      ],
      "metadata": {
        "id": "-wkKYG57AW3-",
        "colab": {
          "base_uri": "https://localhost:8080/",
          "height": 206
        },
        "outputId": "ae1163f2-c2f8-4fdb-e686-6d5c6a9a5b7b"
      },
      "execution_count": 50,
      "outputs": [
        {
          "output_type": "execute_result",
          "data": {
            "text/plain": [
              "   Unnamed: 0       Movie                                        Review Text  \\\n",
              "0           0  Ex Machina  Intelligent Movie.\\nThis movie is obviously al...   \n",
              "1           1  Ex Machina  Extraordinary and thought-provoking.\\n'Ex mach...   \n",
              "2           2  Ex Machina  Poor story, only reasonable otherwise.\\nIf I h...   \n",
              "3           3  Ex Machina  Had Great Potential.\\nThis movie is one of the...   \n",
              "4           4    Eternals  Amazing visuals and philosophical concepts!\\n\\...   \n",
              "\n",
              "   IMDb Rating  \n",
              "0            9  \n",
              "1           10  \n",
              "2            3  \n",
              "3            1  \n",
              "4           10  "
            ],
            "text/html": [
              "\n",
              "  <div id=\"df-15d3e536-6a28-46ff-95a6-dc45ab563d7b\">\n",
              "    <div class=\"colab-df-container\">\n",
              "      <div>\n",
              "<style scoped>\n",
              "    .dataframe tbody tr th:only-of-type {\n",
              "        vertical-align: middle;\n",
              "    }\n",
              "\n",
              "    .dataframe tbody tr th {\n",
              "        vertical-align: top;\n",
              "    }\n",
              "\n",
              "    .dataframe thead th {\n",
              "        text-align: right;\n",
              "    }\n",
              "</style>\n",
              "<table border=\"1\" class=\"dataframe\">\n",
              "  <thead>\n",
              "    <tr style=\"text-align: right;\">\n",
              "      <th></th>\n",
              "      <th>Unnamed: 0</th>\n",
              "      <th>Movie</th>\n",
              "      <th>Review Text</th>\n",
              "      <th>IMDb Rating</th>\n",
              "    </tr>\n",
              "  </thead>\n",
              "  <tbody>\n",
              "    <tr>\n",
              "      <th>0</th>\n",
              "      <td>0</td>\n",
              "      <td>Ex Machina</td>\n",
              "      <td>Intelligent Movie.\\nThis movie is obviously al...</td>\n",
              "      <td>9</td>\n",
              "    </tr>\n",
              "    <tr>\n",
              "      <th>1</th>\n",
              "      <td>1</td>\n",
              "      <td>Ex Machina</td>\n",
              "      <td>Extraordinary and thought-provoking.\\n'Ex mach...</td>\n",
              "      <td>10</td>\n",
              "    </tr>\n",
              "    <tr>\n",
              "      <th>2</th>\n",
              "      <td>2</td>\n",
              "      <td>Ex Machina</td>\n",
              "      <td>Poor story, only reasonable otherwise.\\nIf I h...</td>\n",
              "      <td>3</td>\n",
              "    </tr>\n",
              "    <tr>\n",
              "      <th>3</th>\n",
              "      <td>3</td>\n",
              "      <td>Ex Machina</td>\n",
              "      <td>Had Great Potential.\\nThis movie is one of the...</td>\n",
              "      <td>1</td>\n",
              "    </tr>\n",
              "    <tr>\n",
              "      <th>4</th>\n",
              "      <td>4</td>\n",
              "      <td>Eternals</td>\n",
              "      <td>Amazing visuals and philosophical concepts!\\n\\...</td>\n",
              "      <td>10</td>\n",
              "    </tr>\n",
              "  </tbody>\n",
              "</table>\n",
              "</div>\n",
              "      <button class=\"colab-df-convert\" onclick=\"convertToInteractive('df-15d3e536-6a28-46ff-95a6-dc45ab563d7b')\"\n",
              "              title=\"Convert this dataframe to an interactive table.\"\n",
              "              style=\"display:none;\">\n",
              "        \n",
              "  <svg xmlns=\"http://www.w3.org/2000/svg\" height=\"24px\"viewBox=\"0 0 24 24\"\n",
              "       width=\"24px\">\n",
              "    <path d=\"M0 0h24v24H0V0z\" fill=\"none\"/>\n",
              "    <path d=\"M18.56 5.44l.94 2.06.94-2.06 2.06-.94-2.06-.94-.94-2.06-.94 2.06-2.06.94zm-11 1L8.5 8.5l.94-2.06 2.06-.94-2.06-.94L8.5 2.5l-.94 2.06-2.06.94zm10 10l.94 2.06.94-2.06 2.06-.94-2.06-.94-.94-2.06-.94 2.06-2.06.94z\"/><path d=\"M17.41 7.96l-1.37-1.37c-.4-.4-.92-.59-1.43-.59-.52 0-1.04.2-1.43.59L10.3 9.45l-7.72 7.72c-.78.78-.78 2.05 0 2.83L4 21.41c.39.39.9.59 1.41.59.51 0 1.02-.2 1.41-.59l7.78-7.78 2.81-2.81c.8-.78.8-2.07 0-2.86zM5.41 20L4 18.59l7.72-7.72 1.47 1.35L5.41 20z\"/>\n",
              "  </svg>\n",
              "      </button>\n",
              "      \n",
              "  <style>\n",
              "    .colab-df-container {\n",
              "      display:flex;\n",
              "      flex-wrap:wrap;\n",
              "      gap: 12px;\n",
              "    }\n",
              "\n",
              "    .colab-df-convert {\n",
              "      background-color: #E8F0FE;\n",
              "      border: none;\n",
              "      border-radius: 50%;\n",
              "      cursor: pointer;\n",
              "      display: none;\n",
              "      fill: #1967D2;\n",
              "      height: 32px;\n",
              "      padding: 0 0 0 0;\n",
              "      width: 32px;\n",
              "    }\n",
              "\n",
              "    .colab-df-convert:hover {\n",
              "      background-color: #E2EBFA;\n",
              "      box-shadow: 0px 1px 2px rgba(60, 64, 67, 0.3), 0px 1px 3px 1px rgba(60, 64, 67, 0.15);\n",
              "      fill: #174EA6;\n",
              "    }\n",
              "\n",
              "    [theme=dark] .colab-df-convert {\n",
              "      background-color: #3B4455;\n",
              "      fill: #D2E3FC;\n",
              "    }\n",
              "\n",
              "    [theme=dark] .colab-df-convert:hover {\n",
              "      background-color: #434B5C;\n",
              "      box-shadow: 0px 1px 3px 1px rgba(0, 0, 0, 0.15);\n",
              "      filter: drop-shadow(0px 1px 2px rgba(0, 0, 0, 0.3));\n",
              "      fill: #FFFFFF;\n",
              "    }\n",
              "  </style>\n",
              "\n",
              "      <script>\n",
              "        const buttonEl =\n",
              "          document.querySelector('#df-15d3e536-6a28-46ff-95a6-dc45ab563d7b button.colab-df-convert');\n",
              "        buttonEl.style.display =\n",
              "          google.colab.kernel.accessAllowed ? 'block' : 'none';\n",
              "\n",
              "        async function convertToInteractive(key) {\n",
              "          const element = document.querySelector('#df-15d3e536-6a28-46ff-95a6-dc45ab563d7b');\n",
              "          const dataTable =\n",
              "            await google.colab.kernel.invokeFunction('convertToInteractive',\n",
              "                                                     [key], {});\n",
              "          if (!dataTable) return;\n",
              "\n",
              "          const docLinkHtml = 'Like what you see? Visit the ' +\n",
              "            '<a target=\"_blank\" href=https://colab.research.google.com/notebooks/data_table.ipynb>data table notebook</a>'\n",
              "            + ' to learn more about interactive tables.';\n",
              "          element.innerHTML = '';\n",
              "          dataTable['output_type'] = 'display_data';\n",
              "          await google.colab.output.renderOutput(dataTable, element);\n",
              "          const docLink = document.createElement('div');\n",
              "          docLink.innerHTML = docLinkHtml;\n",
              "          element.appendChild(docLink);\n",
              "        }\n",
              "      </script>\n",
              "    </div>\n",
              "  </div>\n",
              "  "
            ]
          },
          "metadata": {},
          "execution_count": 50
        }
      ]
    },
    {
      "cell_type": "markdown",
      "source": [
        "Imported new unseen reviews for testing "
      ],
      "metadata": {
        "id": "s8iclT6Mhexq"
      }
    },
    {
      "cell_type": "code",
      "source": [
        "unseen_reviews = final_test_reviews['Review Text']\n",
        "\n",
        "unseen_processed = []\n",
        "for review in unseen_reviews:\n",
        "  review = preprocess_text(review)\n",
        "  unseen_processed.append(review)"
      ],
      "metadata": {
        "id": "uSLhL5RJf8XQ"
      },
      "execution_count": 54,
      "outputs": []
    },
    {
      "cell_type": "markdown",
      "source": [
        "Preprocessed the new data as earlier"
      ],
      "metadata": {
        "id": "qeUxpMdYhnJD"
      }
    },
    {
      "cell_type": "code",
      "source": [
        "unseen_tokenized = word_tokenizer.texts_to_sequences(unseen_processed)\n",
        "\n",
        "unseen_padded = pad_sequences(unseen_tokenized, padding='post', maxlen=100)"
      ],
      "metadata": {
        "id": "LDJKlXiggcPC"
      },
      "execution_count": 55,
      "outputs": []
    },
    {
      "cell_type": "markdown",
      "source": [
        "Tokenized and padded the testing data"
      ],
      "metadata": {
        "id": "PesRPLsZhsQa"
      }
    },
    {
      "cell_type": "code",
      "source": [
        "unseen_sentiments = model.predict(unseen_padded)\n",
        "\n",
        "unseen_sentiments"
      ],
      "metadata": {
        "colab": {
          "base_uri": "https://localhost:8080/"
        },
        "id": "TIoHE8-8gejr",
        "outputId": "d728ab41-6ddd-496f-e8a7-c3d541a9d30a"
      },
      "execution_count": 56,
      "outputs": [
        {
          "output_type": "stream",
          "name": "stdout",
          "text": [
            "1/1 [==============================] - 0s 21ms/step\n"
          ]
        },
        {
          "output_type": "execute_result",
          "data": {
            "text/plain": [
              "array([[0.9569908 ],\n",
              "       [0.9456764 ],\n",
              "       [0.02128412],\n",
              "       [0.0204252 ],\n",
              "       [0.96097714],\n",
              "       [0.01112733]], dtype=float32)"
            ]
          },
          "metadata": {},
          "execution_count": 56
        }
      ]
    },
    {
      "cell_type": "markdown",
      "source": [
        "Passed the data to model for prediction"
      ],
      "metadata": {
        "id": "V80NVZINhzLX"
      }
    },
    {
      "cell_type": "code",
      "source": [
        "final_test_reviews['Predicted Sentiments'] = np.round(unseen_sentiments*10,1)\n",
        "\n",
        "df_prediction_sentiments = pd.DataFrame(final_test_reviews['Predicted Sentiments'], columns = ['Predicted Sentiments'])\n",
        "df_movie                 = pd.DataFrame(final_test_reviews['Movie'], columns = ['Movie'])\n",
        "df_review_text           = pd.DataFrame(final_test_reviews['Review Text'], columns = ['Review Text'])\n",
        "df_imdb_rating           = pd.DataFrame(final_test_reviews['IMDb Rating'], columns = ['IMDb Rating'])\n",
        "\n",
        "final_df=pd.concat([df_movie, df_review_text, df_imdb_rating, df_prediction_sentiments], axis=1)\n",
        "final_df.head(5)"
      ],
      "metadata": {
        "colab": {
          "base_uri": "https://localhost:8080/",
          "height": 206
        },
        "id": "wL6F3GfiglPd",
        "outputId": "62083ed3-d0b6-4c88-c536-28e7bb281327"
      },
      "execution_count": 59,
      "outputs": [
        {
          "output_type": "execute_result",
          "data": {
            "text/plain": [
              "        Movie                                        Review Text  IMDb Rating  \\\n",
              "0  Ex Machina  Intelligent Movie.\\nThis movie is obviously al...            9   \n",
              "1  Ex Machina  Extraordinary and thought-provoking.\\n'Ex mach...           10   \n",
              "2  Ex Machina  Poor story, only reasonable otherwise.\\nIf I h...            3   \n",
              "3  Ex Machina  Had Great Potential.\\nThis movie is one of the...            1   \n",
              "4    Eternals  Amazing visuals and philosophical concepts!\\n\\...           10   \n",
              "\n",
              "   Predicted Sentiments  \n",
              "0                   9.6  \n",
              "1                   9.5  \n",
              "2                   0.2  \n",
              "3                   0.2  \n",
              "4                   9.6  "
            ],
            "text/html": [
              "\n",
              "  <div id=\"df-6575f5b5-2258-41f5-a644-824b26042f6f\">\n",
              "    <div class=\"colab-df-container\">\n",
              "      <div>\n",
              "<style scoped>\n",
              "    .dataframe tbody tr th:only-of-type {\n",
              "        vertical-align: middle;\n",
              "    }\n",
              "\n",
              "    .dataframe tbody tr th {\n",
              "        vertical-align: top;\n",
              "    }\n",
              "\n",
              "    .dataframe thead th {\n",
              "        text-align: right;\n",
              "    }\n",
              "</style>\n",
              "<table border=\"1\" class=\"dataframe\">\n",
              "  <thead>\n",
              "    <tr style=\"text-align: right;\">\n",
              "      <th></th>\n",
              "      <th>Movie</th>\n",
              "      <th>Review Text</th>\n",
              "      <th>IMDb Rating</th>\n",
              "      <th>Predicted Sentiments</th>\n",
              "    </tr>\n",
              "  </thead>\n",
              "  <tbody>\n",
              "    <tr>\n",
              "      <th>0</th>\n",
              "      <td>Ex Machina</td>\n",
              "      <td>Intelligent Movie.\\nThis movie is obviously al...</td>\n",
              "      <td>9</td>\n",
              "      <td>9.6</td>\n",
              "    </tr>\n",
              "    <tr>\n",
              "      <th>1</th>\n",
              "      <td>Ex Machina</td>\n",
              "      <td>Extraordinary and thought-provoking.\\n'Ex mach...</td>\n",
              "      <td>10</td>\n",
              "      <td>9.5</td>\n",
              "    </tr>\n",
              "    <tr>\n",
              "      <th>2</th>\n",
              "      <td>Ex Machina</td>\n",
              "      <td>Poor story, only reasonable otherwise.\\nIf I h...</td>\n",
              "      <td>3</td>\n",
              "      <td>0.2</td>\n",
              "    </tr>\n",
              "    <tr>\n",
              "      <th>3</th>\n",
              "      <td>Ex Machina</td>\n",
              "      <td>Had Great Potential.\\nThis movie is one of the...</td>\n",
              "      <td>1</td>\n",
              "      <td>0.2</td>\n",
              "    </tr>\n",
              "    <tr>\n",
              "      <th>4</th>\n",
              "      <td>Eternals</td>\n",
              "      <td>Amazing visuals and philosophical concepts!\\n\\...</td>\n",
              "      <td>10</td>\n",
              "      <td>9.6</td>\n",
              "    </tr>\n",
              "  </tbody>\n",
              "</table>\n",
              "</div>\n",
              "      <button class=\"colab-df-convert\" onclick=\"convertToInteractive('df-6575f5b5-2258-41f5-a644-824b26042f6f')\"\n",
              "              title=\"Convert this dataframe to an interactive table.\"\n",
              "              style=\"display:none;\">\n",
              "        \n",
              "  <svg xmlns=\"http://www.w3.org/2000/svg\" height=\"24px\"viewBox=\"0 0 24 24\"\n",
              "       width=\"24px\">\n",
              "    <path d=\"M0 0h24v24H0V0z\" fill=\"none\"/>\n",
              "    <path d=\"M18.56 5.44l.94 2.06.94-2.06 2.06-.94-2.06-.94-.94-2.06-.94 2.06-2.06.94zm-11 1L8.5 8.5l.94-2.06 2.06-.94-2.06-.94L8.5 2.5l-.94 2.06-2.06.94zm10 10l.94 2.06.94-2.06 2.06-.94-2.06-.94-.94-2.06-.94 2.06-2.06.94z\"/><path d=\"M17.41 7.96l-1.37-1.37c-.4-.4-.92-.59-1.43-.59-.52 0-1.04.2-1.43.59L10.3 9.45l-7.72 7.72c-.78.78-.78 2.05 0 2.83L4 21.41c.39.39.9.59 1.41.59.51 0 1.02-.2 1.41-.59l7.78-7.78 2.81-2.81c.8-.78.8-2.07 0-2.86zM5.41 20L4 18.59l7.72-7.72 1.47 1.35L5.41 20z\"/>\n",
              "  </svg>\n",
              "      </button>\n",
              "      \n",
              "  <style>\n",
              "    .colab-df-container {\n",
              "      display:flex;\n",
              "      flex-wrap:wrap;\n",
              "      gap: 12px;\n",
              "    }\n",
              "\n",
              "    .colab-df-convert {\n",
              "      background-color: #E8F0FE;\n",
              "      border: none;\n",
              "      border-radius: 50%;\n",
              "      cursor: pointer;\n",
              "      display: none;\n",
              "      fill: #1967D2;\n",
              "      height: 32px;\n",
              "      padding: 0 0 0 0;\n",
              "      width: 32px;\n",
              "    }\n",
              "\n",
              "    .colab-df-convert:hover {\n",
              "      background-color: #E2EBFA;\n",
              "      box-shadow: 0px 1px 2px rgba(60, 64, 67, 0.3), 0px 1px 3px 1px rgba(60, 64, 67, 0.15);\n",
              "      fill: #174EA6;\n",
              "    }\n",
              "\n",
              "    [theme=dark] .colab-df-convert {\n",
              "      background-color: #3B4455;\n",
              "      fill: #D2E3FC;\n",
              "    }\n",
              "\n",
              "    [theme=dark] .colab-df-convert:hover {\n",
              "      background-color: #434B5C;\n",
              "      box-shadow: 0px 1px 3px 1px rgba(0, 0, 0, 0.15);\n",
              "      filter: drop-shadow(0px 1px 2px rgba(0, 0, 0, 0.3));\n",
              "      fill: #FFFFFF;\n",
              "    }\n",
              "  </style>\n",
              "\n",
              "      <script>\n",
              "        const buttonEl =\n",
              "          document.querySelector('#df-6575f5b5-2258-41f5-a644-824b26042f6f button.colab-df-convert');\n",
              "        buttonEl.style.display =\n",
              "          google.colab.kernel.accessAllowed ? 'block' : 'none';\n",
              "\n",
              "        async function convertToInteractive(key) {\n",
              "          const element = document.querySelector('#df-6575f5b5-2258-41f5-a644-824b26042f6f');\n",
              "          const dataTable =\n",
              "            await google.colab.kernel.invokeFunction('convertToInteractive',\n",
              "                                                     [key], {});\n",
              "          if (!dataTable) return;\n",
              "\n",
              "          const docLinkHtml = 'Like what you see? Visit the ' +\n",
              "            '<a target=\"_blank\" href=https://colab.research.google.com/notebooks/data_table.ipynb>data table notebook</a>'\n",
              "            + ' to learn more about interactive tables.';\n",
              "          element.innerHTML = '';\n",
              "          dataTable['output_type'] = 'display_data';\n",
              "          await google.colab.output.renderOutput(dataTable, element);\n",
              "          const docLink = document.createElement('div');\n",
              "          docLink.innerHTML = docLinkHtml;\n",
              "          element.appendChild(docLink);\n",
              "        }\n",
              "      </script>\n",
              "    </div>\n",
              "  </div>\n",
              "  "
            ]
          },
          "metadata": {},
          "execution_count": 59
        }
      ]
    },
    {
      "cell_type": "markdown",
      "source": [
        "Calculated the predicted sentiment for each review in the final_test_reviews dataset by multiplying the output of the model by 10 and rounding to one decimal place for comparison purpose."
      ],
      "metadata": {
        "id": "zqPDxb1niiGE"
      }
    },
    {
      "cell_type": "code",
      "source": [],
      "metadata": {
        "id": "i-06bwYLgosj"
      },
      "execution_count": 57,
      "outputs": []
    }
  ]
}